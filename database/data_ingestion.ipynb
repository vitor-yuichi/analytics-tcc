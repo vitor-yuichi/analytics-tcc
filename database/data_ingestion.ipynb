{
 "cells": [
  {
   "cell_type": "code",
   "execution_count": null,
   "metadata": {},
   "outputs": [],
   "source": [
    "import pandas as pd \n",
    "import numpy as np \n",
    "import os \n",
    "from setup.connector import get_database\n",
    "from datetime import datetime"
   ]
  },
  {
   "cell_type": "markdown",
   "metadata": {},
   "source": [
    "## Floods data ingestion"
   ]
  },
  {
   "cell_type": "code",
   "execution_count": null,
   "metadata": {},
   "outputs": [],
   "source": [
    "df = pd.read_csv(r'/home/ayumi/final_project_university/analytics-data/floods/floods_sp.csv')"
   ]
  },
  {
   "cell_type": "code",
   "execution_count": null,
   "metadata": {},
   "outputs": [],
   "source": [
    "df = df[['LONG', 'LAT', 'LOCAL_ED', 'REFERENCIA', 'DATA', 'H_INICIO', 'H_FIM']]"
   ]
  },
  {
   "cell_type": "code",
   "execution_count": null,
   "metadata": {},
   "outputs": [],
   "source": [
    "df"
   ]
  },
  {
   "cell_type": "code",
   "execution_count": null,
   "metadata": {},
   "outputs": [],
   "source": [
    "floods_list_json = []\n",
    "for index, row in df.iterrows():\n",
    "\n",
    "    floods_list_json.append({\n",
    "        'LONGITUDE': row['LONG'],\n",
    "        'LATITUDE['Nome do Município'],\n",
    "        'CHEIA_2015': row['Ocorrência de Cheias em 2015'],\n",
    "        'CHEIA_2016': row['Cocorrência de Cheias em 2016'],\n",
    "        'CHEIA_2ow['Nome do Município'],\n",
    "        'CHEIA_2015': row['Ocorrência de Cheias em 2015'],\n",
    "        'CHEIA_2016': row['Cocorrência de Cheias em 2016'],\n",
    "        'CHEIA_2': row['LAT'],\n",
    "        'LOCAL_ED': row['LOCAL_ED'],\n",
    "        'REFERENCIA': row['REFERENCIA'],\n",
    "        'DATA': datetime.strptime(row['DATA'],  \"%Y/%m/%d\"),\n",
    "        'H_INICIO': row['H_INICIO'],\n",
    "        'H_FIM': row['H_FIM']\n",
    "    })\n"
   ]
  },
  {
   "cell_type": "code",
   "execution_count": null,
   "metadata": {},
   "outputs": [],
   "source": [
    "# db = get_database('/home/ayumi/final_projecinundations_list = []t_university/analytics-data/data_connection/database.txt', 'rain_gauges')\n",
    "# collection = db['floods_sp_20190']\n",
    "# collection.insert_many(floods_list_json)"
   ]
  },
  {
   "cell_type": "markdown",
   "metadata": {},
   "source": [
    "## ingresso dos dados de inundação"
   ]
  },
  {
   "cell_type": "code",
   "execution_count": null,
   "metadata": {},
   "outputs": [],
   "source": [
    "table1  = pd.read_csv(r'/home/ayumi/final_project_university/analytics-data/inundacoes/Número de registros de inundações por município entre 2003 e 2016.csv',\n",
    "                      sep =';')"
   ]
  },
  {
   "cell_type": "code",
   "execution_count": null,
   "metadata": {},
   "outputs": [],
   "source": [
    "table1 = table1[['Nome do Município', 'Ocorrência de Cheias em 2015',\n",
    "                  'Cocorrência de Cheias em 2016', 'Ocorrência de Cheias de 2003 a 2016', \n",
    "                  'Ocorrência de Secas de 2003 a 2016', 'Ocorrência de Secas em 2015']]"
   ]
  },
  {
   "cell_type": "code",
   "execution_count": null,
   "metadata": {},
   "outputs": [],
   "source": [
    "inundations_list = []\n",
    "for index, row in table1.iterrows():\n",
    "    inundations_list.append({\n",
    "        'MUN': rfolium.Marker([row['LATITUDE'], row['LONGITUDE'], popup=row['LOCAL_ED'],\n",
    "                       icon=folium.Icon(color=\"blue\", icon=\"fa-solid fa-house-flood-water\", prefix='fa')\n",
    "                       ).add_to(my_map)003_2016': row['Ocorrência de Cheias de 2003 a 2016'],\n",
    "        'SECA_2003_2026': row['Ocorrência de Secas de 2003 a 2016']        \n",
    "    })\n",
    "    "
   ]
  },
  {
   "cell_type": "code",
   "execution_count": null,
   "metadata": {},
   "outputs": [],
   "source": [
    "# db = get_database('/home/ayumi/final_project_university/analytics-data/data_connection/database.txt', 'rain_gauges')\n",
    "# collection = db['inundations_secas']\n",
    "# collection.insert_many(inundations_list)"
   ]
  },
  {
   "cell_type": "markdown",
   "metadata": {},
   "source": [
    "## Query Data"
   ]
  },
  {
   "cell_type": "code",
   "execution_count": null,
   "metadata": {},
   "outputs": [],
   "source": [
    "db = get_database('/home/ayumi/final_project_university/analytics-data/data_connection/database.txt', 'rain_gauges')\n",
    "collection = db['floods_sp_20190']"
   ]
  },
  {
   "cell_type": "code",
   "execution_count": null,
   "metadata": {},
   "outputs": [],
   "source": [
    "# Get distinct field names from all documents in the collection\n",
    "distinct_fields = set()\n",
    "for document in collection.find():\n",
    "    distinct_fields.update(document.keys())\n"
   ]
  },
  {
   "cell_type": "code",
   "execution_count": null,
   "metadata": {},
   "outputs": [],
   "source": [
    "\n",
    "# Print the distinct fields (equivalent to columns)\n",
    "print(\"Columns (fields) in the collection:\")\n",
    "for field in distinct_fields:\n",
    "    print(field)"
   ]
  },
  {
   "cell_type": "code",
   "execution_count": null,
   "metadata": {},
   "outputs": [],
   "source": [
    "# Specify the two keys you want to retrieve\n",
    "key1 = \"LATITUDE\"\n",
    "key2 = \"LONGITUDE\"\n",
    "key3 = 'LOCAL_ED'\n",
    "key4 ='DATA'\n",
    "key5 = 'H_FIM'\n",
    "key6 =  'H_INICIO'\n",
    "\n",
    "# Construct the projection dictionary\n",
    "projection = {key1: 1, key2: 1, key3: 1, key4:1, key5:1, key6:1}\n"
   ]
  },
  {
   "cell_type": "code",
   "execution_count": null,
   "metadata": {},
   "outputs": [],
   "source": [
    "values  = collection.find({}, projection)"
   ]
  },
  {
   "cell_type": "code",
   "execution_count": null,
   "metadata": {},
   "outputs": [],
   "source": [
    "\"\"\"Adicionar valores das colunas de LATITUDE/LONGITUDE/LOCAL_ED\"\"\"\n",
    "l = []\n",
    "for v in values:\n",
    "    l.append(v)"
   ]
  },
  {
   "cell_type": "code",
   "execution_count": null,
   "metadata": {},
   "outputs": [],
   "source": [
    "floods = pd.DataFrame(l)"
   ]
  },
  {
   "cell_type": "code",
   "execution_count": null,
   "metadata": {},
   "outputs": [],
   "source": [
    "floods.to_excel('floods.xlsx')"
   ]
  },
  {
   "cell_type": "code",
   "execution_count": null,
   "metadata": {},
   "outputs": [],
   "source": [
    "floods = df"
   ]
  },
  {
   "cell_type": "code",
   "execution_count": null,
   "metadata": {},
   "outputs": [],
   "source": [
    "floods.H_INICIO = pd.to_timedelta(floods.H_INICIO)\n",
    "floods.H_FIM = pd.to_timedelta(floods.H_FIM )"
   ]
  },
  {
   "cell_type": "code",
   "execution_count": null,
   "metadata": {},
   "outputs": [],
   "source": [
    "floods.to_excel('floods.xlsx')"
   ]
  },
  {
   "cell_type": "code",
   "execution_count": null,
   "metadata": {},
   "outputs": [],
   "source": [
    "floods"
   ]
  },
  {
   "cell_type": "code",
   "execution_count": null,
   "metadata": {},
   "outputs": [],
   "source": [
    "import folium"
   ]
  },
  {
   "cell_type": "code",
   "execution_count": null,
   "metadata": {},
   "outputs": [],
   "source": [
    "folium.Marker(row['LATITUDE'], row['LONGITUDE'], popup=row['LOCAL_ED'],\n",
    "                       icon=folium.Icon(color=\"blue\", icon=\"fa-solid fa-house-flood-water\", prefix='fa')\n",
    "                       ).add_to(my_map)"
   ]
  },
  {
   "cell_type": "code",
   "execution_count": null,
   "metadata": {},
   "outputs": [],
   "source": [
    "import folium \n",
    "import pandas \n",
    "\n",
    "def plot_floods_folium(floods, start_date = datetime.date(2019, 1, 3), end_date = datetime.date(2019, 1, 10)):\n",
    "    #filtrando por data \n",
    "    floods = floods[(floods.DATA.dt.date > start_date) & (floods.DATA.dt.date < end_date)]\n",
    "\n",
    "\n",
    "    # Create a Folium map centered at a specific location\n",
    "    my_map = folium.Map(location=[floods['LATITUDE'].mean(), floods['LONGITUDE'].mean()],\n",
    "                         zoom_start=11,\n",
    "                        tiles='CartoDB dark_matter',\n",
    "                        )\n",
    "\n",
    "    # Iterate through the DataFrame and add markers\n",
    "    for index, row in floods.iterrows():\n",
    "        folium.Marker([row['LATITUDE'], row['LONGITUDE']], popup=row['LOCAL_ED'],\n",
    "                       icon=folium.Icon(color=\"blue\", icon=\"fa-solid fa-house-flood-water\", prefix='fa')\n",
    "                       ).add_to(my_map)\n",
    "    # Display the map\n",
    "    return my_map\n"
   ]
  },
  {
   "cell_type": "code",
   "execution_count": null,
   "metadata": {},
   "outputs": [],
   "source": [
    "floods['DUR'] = floods['H_FIM'] - floods['H_INICIO'] \n"
   ]
  },
  {
   "cell_type": "code",
   "execution_count": null,
   "metadata": {},
   "outputs": [],
   "source": [
    "from datetime import timedelta\n",
    "(floods['H_FIM'] - floods['H_INICIO']).mean().seconds/60"
   ]
  },
  {
   "cell_type": "code",
   "execution_count": null,
   "metadata": {},
   "outputs": [],
   "source": [
    "def group_by_day_floods_min(floods):\n",
    "   group = floods[['DATA', 'DUR']].groupby('DATA')['DUR'].sum()\n",
    "   group = group.dt.seconds/60\n",
    "   return group"
   ]
  },
  {
   "cell_type": "code",
   "execution_count": null,
   "metadata": {},
   "outputs": [],
   "source": [
    "group = group_by_day_floods_min(floods)"
   ]
  },
  {
   "cell_type": "code",
   "execution_count": null,
   "metadata": {},
   "outputs": [],
   "source": [
    "group"
   ]
  },
  {
   "cell_type": "code",
   "execution_count": null,
   "metadata": {},
   "outputs": [],
   "source": [
    "import plotly.express as px\n",
    "\n",
    "series = group_by_day_floods_min(floods)\n",
    "\n",
    "def generate_scatter(series):\n",
    "    fig = px.scatter(\n",
    "        series,\n",
    "        x = series.index,\n",
    "        y = series.values,\n",
    "        color = series.values,\n",
    "        color_continuous_scale=\"reds\",\n",
    "    )\n",
    "    return fig"
   ]
  },
  {
   "cell_type": "code",
   "execution_count": null,
   "metadata": {},
   "outputs": [],
   "source": [
    "floods.DATA.value_counts()"
   ]
  },
  {
   "cell_type": "code",
   "execution_count": null,
   "metadata": {},
   "outputs": [],
   "source": [
    "floods.LOCAL_ED.value_counts()"
   ]
  },
  {
   "cell_type": "code",
   "execution_count": 27,
   "metadata": {},
   "outputs": [],
   "source": [
    "datas = pd.date_range(start='2019-01-01', end='2019-12-31', freq='D')\n",
    "datas = pd.DataFrame({'Data': datas})\n",
    "datas.Data = datas.Data.dt.date\n"
   ]
  },
  {
   "cell_type": "code",
   "execution_count": 59,
   "metadata": {},
   "outputs": [],
   "source": [
    "datas = pd.date_range(start='2019/01/01', end='2019/12/31', freq='D')\n",
    "datas = pd.DataFrame({'Data': datas})\n"
   ]
  },
  {
   "cell_type": "code",
   "execution_count": 64,
   "metadata": {},
   "outputs": [
    {
     "data": {
      "text/plain": [
       "0      2019/01/01\n",
       "1      2019/01/02\n",
       "2      2019/01/03\n",
       "3      2019/01/04\n",
       "4      2019/01/05\n",
       "          ...    \n",
       "360    2019/12/27\n",
       "361    2019/12/28\n",
       "362    2019/12/29\n",
       "363    2019/12/30\n",
       "364    2019/12/31\n",
       "Name: Data, Length: 365, dtype: object"
      ]
     },
     "execution_count": 64,
     "metadata": {},
     "output_type": "execute_result"
    }
   ],
   "source": [
    "pd.to_datetime(datas.Data).dt.strftime('%Y/%m/%d')"
   ]
  },
  {
   "cell_type": "code",
   "execution_count": 54,
   "metadata": {},
   "outputs": [
    {
     "data": {
      "text/plain": [
       "DATA\n",
       "2019/01/01    1156.0\n",
       "2019/01/02      17.0\n",
       "2019/01/03     126.0\n",
       "2019/01/04    1016.0\n",
       "2019/01/06      40.0\n",
       "               ...  \n",
       "2019/12/14     515.0\n",
       "2019/12/17     957.0\n",
       "2019/12/18     118.0\n",
       "2019/12/23    1045.0\n",
       "2019/12/31     136.0\n",
       "Name: DUR, Length: 101, dtype: float64"
      ]
     },
     "execution_count": 54,
     "metadata": {},
     "output_type": "execute_result"
    }
   ],
   "source": [
    "group"
   ]
  },
  {
   "cell_type": "code",
   "execution_count": 71,
   "metadata": {},
   "outputs": [],
   "source": [
    "# Criar um DataFrame com as datas\n",
    "def generate_frequency_merge(floods):\n",
    "    datas = pd.date_range(start='2019/01/01', end='2019/12/31', freq='D')\n",
    "    datas = pd.DataFrame({'Data': datas})\n",
    "    datas.Data = pd.to_datetime(datas.Data).dt.strftime('%Y/%m/%d')\n",
    "    groups = group.to_frame().reset_index()\n",
    "    merged = datas.merge(groups,\n",
    "            right_on = 'DATA', \n",
    "            left_on = 'Data', \n",
    "            how ='left')\n",
    "    values_counts =  floods.DATA.value_counts().to_frame().reset_index()\n",
    "    merged = merged.merge(values_counts,\n",
    "             right_on= 'index',\n",
    "             left_on = 'Data', \n",
    "             how = 'left')\n",
    "    merged = merged.drop(columns = ['DATA_x', 'index'])\n",
    "    merged.rename(columns = {'DATA_y': 'Freq'}, inplace = True)\n",
    "    merged.DUR = merged.DUR.fillna(0)\n",
    "    merged.Freq = merged.Freq.fillna(0)\n",
    "    return merged"
   ]
  },
  {
   "cell_type": "code",
   "execution_count": 80,
   "metadata": {},
   "outputs": [
    {
     "ename": "NameError",
     "evalue": "name 'dtype' is not defined",
     "output_type": "error",
     "traceback": [
      "\u001b[0;31m---------------------------------------------------------------------------\u001b[0m",
      "\u001b[0;31mNameError\u001b[0m                                 Traceback (most recent call last)",
      "Cell \u001b[0;32mIn [80], line 1\u001b[0m\n\u001b[0;32m----> 1\u001b[0m \u001b[43mdtype\u001b[49m(group)\n",
      "\u001b[0;31mNameError\u001b[0m: name 'dtype' is not defined"
     ]
    }
   ],
   "source": [
    "group"
   ]
  },
  {
   "cell_type": "code",
   "execution_count": 81,
   "metadata": {},
   "outputs": [],
   "source": [
    "generate_frequency_merge(floods).set_index('DUR')['Freq'].to_excel('values_freq.xlsx')"
   ]
  },
  {
   "cell_type": "code",
   "execution_count": null,
   "metadata": {},
   "outputs": [],
   "source": [
    "merged"
   ]
  },
  {
   "cell_type": "code",
   "execution_count": 82,
   "metadata": {},
   "outputs": [
    {
     "data": {
      "text/plain": [
       "array([[0.35117722]])"
      ]
     },
     "execution_count": 82,
     "metadata": {},
     "output_type": "execute_result"
    }
   ],
   "source": [
    " np.random.randn(1, 1)"
   ]
  },
  {
   "cell_type": "code",
   "execution_count": 73,
   "metadata": {},
   "outputs": [
    {
     "ename": "NameError",
     "evalue": "name 'merged' is not defined",
     "output_type": "error",
     "traceback": [
      "\u001b[0;31m---------------------------------------------------------------------------\u001b[0m",
      "\u001b[0;31mNameError\u001b[0m                                 Traceback (most recent call last)",
      "Cell \u001b[0;32mIn [73], line 2\u001b[0m\n\u001b[1;32m      1\u001b[0m fig \u001b[38;5;241m=\u001b[39m px\u001b[38;5;241m.\u001b[39mscatter(\n\u001b[0;32m----> 2\u001b[0m     \u001b[43mmerged\u001b[49m,\n\u001b[1;32m      3\u001b[0m     x \u001b[38;5;241m=\u001b[39m merged\u001b[38;5;241m.\u001b[39mDUR,\n\u001b[1;32m      4\u001b[0m     y\u001b[38;5;241m=\u001b[39mmerged\u001b[38;5;241m.\u001b[39mDATA_y,\n\u001b[1;32m      5\u001b[0m     color\u001b[38;5;241m=\u001b[39mmerged\u001b[38;5;241m.\u001b[39mDATA_y,\n\u001b[1;32m      6\u001b[0m     color_continuous_scale\u001b[38;5;241m=\u001b[39m\u001b[38;5;124m\"\u001b[39m\u001b[38;5;124mreds\u001b[39m\u001b[38;5;124m\"\u001b[39m,\n\u001b[1;32m      7\u001b[0m )\n\u001b[1;32m      8\u001b[0m fig\u001b[38;5;241m.\u001b[39mshow()\n",
      "\u001b[0;31mNameError\u001b[0m: name 'merged' is not defined"
     ]
    }
   ],
   "source": [
    "fig = px.scatter(\n",
    "    merged,\n",
    "    x = merged.DUR,\n",
    "    y=merged.DATA_y,\n",
    "    color=merged.DATA_y,\n",
    "    color_continuous_scale=\"reds\",\n",
    ")\n",
    "fig.show()"
   ]
  },
  {
   "cell_type": "code",
   "execution_count": 84,
   "metadata": {},
   "outputs": [],
   "source": [
    "import requests\n",
    "# url = 'https://api.windy.com/api/point-forecast/v2'\n",
    "# myobj = {\n",
    "#     \"lat\": -23.1896,\n",
    "#     \"lon\": -45.8840,\n",
    "#     \"model\": \"gfs\",\n",
    "#     \"parameters\": [\"temp\", \"precip\", \"convPrecip\", \"wind\", \"rh\", 'ptype'],\n",
    "#     \"levels\": [\"surface\", \"800h\", \"300h\"],\n",
    "#     \"key\": ...\n",
    "\n",
    "# x = requests.post(url, json = myobj)"
   ]
  },
  {
   "cell_type": "code",
   "execution_count": 90,
   "metadata": {},
   "outputs": [],
   "source": [
    "import json\n",
    "values = json.loads(x.text)"
   ]
  },
  {
   "cell_type": "code",
   "execution_count": 92,
   "metadata": {},
   "outputs": [
    {
     "data": {
      "text/plain": [
       "dict_keys(['ts', 'units', 'temp-surface', 'temp-800h', 'temp-300h', 'past3hprecip-surface', 'past3hconvprecip-surface', 'wind_u-surface', 'wind_u-800h', 'wind_u-300h', 'wind_v-surface', 'wind_v-800h', 'wind_v-300h', 'rh-surface', 'rh-800h', 'rh-300h', 'ptype-surface', 'warning'])"
      ]
     },
     "execution_count": 92,
     "metadata": {},
     "output_type": "execute_result"
    }
   ],
   "source": [
    "values.keys()"
   ]
  },
  {
   "cell_type": "code",
   "execution_count": 133,
   "metadata": {},
   "outputs": [
    {
     "data": {
      "text/plain": [
       "{'temp-surface': 'K',\n",
       " 'temp-800h': 'K',\n",
       " 'temp-300h': 'K',\n",
       " 'past3hprecip-surface': 'm',\n",
       " 'past3hconvprecip-surface': 'm',\n",
       " 'wind_u-surface': 'm*s-1',\n",
       " 'wind_u-800h': 'm*s-1',\n",
       " 'wind_u-300h': 'm*s-1',\n",
       " 'wind_v-surface': 'm*s-1',\n",
       " 'wind_v-800h': 'm*s-1',\n",
       " 'wind_v-300h': 'm*s-1',\n",
       " 'rh-surface': '%',\n",
       " 'rh-800h': '%',\n",
       " 'rh-300h': '%',\n",
       " 'ptype-surface': None}"
      ]
     },
     "execution_count": 133,
     "metadata": {},
     "output_type": "execute_result"
    }
   ],
   "source": [
    "values['units']"
   ]
  },
  {
   "cell_type": "code",
   "execution_count": 114,
   "metadata": {},
   "outputs": [],
   "source": [
    "\n",
    "from datetime import datetime\n",
    "\n",
    "# Example list of integer values representing timestamps\n",
    "timestamps_milliseconds =  values['ts']\n",
    "\n",
    "# Converter para segundos dividindo por 1000\n",
    "timestamps_seconds = [timestamp / 1000 for timestamp in timestamps_milliseconds]\n",
    "\n",
    "# Criar objetos datetime para cada timestamp\n",
    "datas_correspondentes = [datetime.utcfromtimestamp(ts) for ts in timestamps_seconds]\n"
   ]
  },
  {
   "cell_type": "code",
   "execution_count": 129,
   "metadata": {},
   "outputs": [
    {
     "data": {
      "text/plain": [
       "dict_keys(['ts', 'units', 'temp-surface', 'temp-800h', 'temp-300h', 'past3hprecip-surface', 'past3hconvprecip-surface', 'wind_u-surface', 'wind_u-800h', 'wind_u-300h', 'wind_v-surface', 'wind_v-800h', 'wind_v-300h', 'rh-surface', 'rh-800h', 'rh-300h', 'ptype-surface', 'warning'])"
      ]
     },
     "execution_count": 129,
     "metadata": {},
     "output_type": "execute_result"
    }
   ],
   "source": [
    "values.keys()"
   ]
  },
  {
   "cell_type": "code",
   "execution_count": 134,
   "metadata": {},
   "outputs": [],
   "source": [
    "def generate_dataframe_from_api(values):\n",
    "   dataframe =  pd.DataFrame({\n",
    "               'timestamp':datas_correspondentes,\n",
    "               'temp_surface': values['temp-surface'],\n",
    "               'temp-300h': values['temp-300h'],\n",
    "               'temp-800h': values['temp-800h'],\n",
    "               'wind_v-surface': values['wind_v-surface'],\n",
    "               'wind_u-300h': values['wind_u-300h'],\n",
    "               'wind_u-800h': values['wind_u-800h'],\n",
    "               'ptype-surface': values['ptype-surface'],\n",
    "               'rh-surface':values['rh-surface'],\n",
    "               'rh-300h': values['rh-300h'],\n",
    "               'rh-800h': values['rh-800h'],\n",
    "               'past3hprecip-surface': values['past3hprecip-surface'],\n",
    "               'past3hconvprecip-surface': values['past3hconvprecip-surface']\n",
    "                  }\n",
    "               )\n",
    "   return dataframe"
   ]
  },
  {
   "cell_type": "code",
   "execution_count": 135,
   "metadata": {},
   "outputs": [],
   "source": [
    "windy_prec = generate_dataframe_from_api(values)"
   ]
  },
  {
   "cell_type": "code",
   "execution_count": 162,
   "metadata": {},
   "outputs": [],
   "source": [
    "windy_prec.to_excel('windy.xlsx')"
   ]
  },
  {
   "cell_type": "code",
   "execution_count": 161,
   "metadata": {},
   "outputs": [],
   "source": [
    "from plotly.subplots import make_subplots\n",
    "import plotly.graph_objects as go\n",
    "\n",
    "def make_windy_plots(windy_prec):\n",
    "    fig = make_subplots(\n",
    "        rows=2, cols=2,\n",
    "        subplot_titles=(\"Temperatura (K)\", \"Velocidade dos ventos (ms-1)\", \"Umidade Relativa (%)\", \"Acumulado de chuva (m)\"))\n",
    "\n",
    "    # Gráfico 1 com 3 linhas\n",
    "    fig.add_trace(go.Scatter(x=windy_prec['timestamp'], y=windy_prec['temp_surface'], mode='lines', name='Temp superfície (K)'),\n",
    "                row=1, col=1)\n",
    "    fig.add_trace(go.Scatter(x=windy_prec['timestamp'], y=windy_prec['temp-300h'], mode='lines', name='Temp em 300hPa (K)'),\n",
    "                row=1, col=1)\n",
    "    fig.add_trace(go.Scatter(x=windy_prec['timestamp'], y=windy_prec['temp-800h'], mode='lines', name='Temp em 800hPa (K)'),\n",
    "                row=1, col=1)\n",
    "\n",
    "    # Gráfico 2 com 3 linhas\n",
    "    fig.add_trace(go.Scatter(x=windy_prec['timestamp'], y=windy_prec['wind_v-surface'], mode='lines', name='Vel. vento superfície (ms-1)'),\n",
    "                row=1, col=2)\n",
    "    fig.add_trace(go.Scatter(x=windy_prec['timestamp'], y=windy_prec['wind_u-300h'], mode='lines', name='Vel. vento superfície (300hPa) (ms-1)'),\n",
    "                row=1, col=2)\n",
    "    fig.add_trace(go.Scatter(x=windy_prec['timestamp'], y=windy_prec['wind_u-800h'], mode='lines', name='Vel. vento superfície (800hPa) (ms-1)'),\n",
    "                row=1, col=2)\n",
    "\n",
    "    # Gráfico 3 com 3 linhas\n",
    "    fig.add_trace(go.Scatter(x=windy_prec['timestamp'], y=windy_prec['rh-surface'], mode='lines', name='Umidade relativa'),\n",
    "                row=2, col=1)\n",
    "    fig.add_trace(go.Scatter(x=windy_prec['timestamp'], y=windy_prec['rh-300h'], mode='lines', name='Umidade relativa (300hPa)'),\n",
    "                row=2, col=1)\n",
    "    fig.add_trace(go.Scatter(x=windy_prec['timestamp'], y=windy_prec['rh-800h'], mode='lines', name='Umidade relativa (800hPa)'),\n",
    "                row=2, col=1)\n",
    "\n",
    "    # Gráfico 4 com 3 linhas\n",
    "    fig.add_trace(go.Scatter(x=windy_prec['timestamp'], y=windy_prec['past3hprecip-surface'], mode='lines', name='Acumulado precip após 3h'),\n",
    "                row=2, col=2)\n",
    "    fig.add_trace(go.Scatter(x=windy_prec['timestamp'], y=windy_prec['past3hconvprecip-surface'], mode='lines', name='Acumulado precip. convectiva'),\n",
    "                row=2, col=2)\n",
    "\n",
    "\n",
    "    fig.update_layout(height=800, width=1000,\n",
    "                    title_text=\"Previsões com previso GFS\", \n",
    "                    legend=dict(orientation=\"h\", x=0.5, y=-0.2, xanchor='center')\n",
    "                    ) \n",
    "\n",
    "    return fig\n"
   ]
  },
  {
   "cell_type": "code",
   "execution_count": 160,
   "metadata": {},
   "outputs": [
    {
     "data": {
      "application/vnd.plotly.v1+json": {
       "config": {
        "plotlyServerURL": "https://plot.ly"
       },
       "data": [
        {
         "mode": "lines",
         "name": "Temp superfície (K)",
         "type": "scatter",
         "x": [
          "2024-02-20T15:00:00",
          "2024-02-20T18:00:00",
          "2024-02-20T21:00:00",
          "2024-02-21T00:00:00",
          "2024-02-21T03:00:00",
          "2024-02-21T06:00:00",
          "2024-02-21T09:00:00",
          "2024-02-21T12:00:00",
          "2024-02-21T15:00:00",
          "2024-02-21T18:00:00",
          "2024-02-21T21:00:00",
          "2024-02-22T00:00:00",
          "2024-02-22T03:00:00",
          "2024-02-22T06:00:00",
          "2024-02-22T09:00:00",
          "2024-02-22T12:00:00",
          "2024-02-22T15:00:00",
          "2024-02-22T18:00:00",
          "2024-02-22T21:00:00",
          "2024-02-23T00:00:00",
          "2024-02-23T03:00:00",
          "2024-02-23T06:00:00",
          "2024-02-23T09:00:00",
          "2024-02-23T12:00:00",
          "2024-02-23T15:00:00",
          "2024-02-23T18:00:00",
          "2024-02-23T21:00:00",
          "2024-02-24T00:00:00",
          "2024-02-24T03:00:00",
          "2024-02-24T06:00:00",
          "2024-02-24T09:00:00",
          "2024-02-24T12:00:00",
          "2024-02-24T15:00:00",
          "2024-02-24T18:00:00",
          "2024-02-24T21:00:00",
          "2024-02-25T00:00:00",
          "2024-02-25T03:00:00",
          "2024-02-25T06:00:00",
          "2024-02-25T09:00:00",
          "2024-02-25T12:00:00",
          "2024-02-25T15:00:00",
          "2024-02-25T18:00:00",
          "2024-02-25T21:00:00",
          "2024-02-26T00:00:00",
          "2024-02-26T03:00:00",
          "2024-02-26T06:00:00",
          "2024-02-26T09:00:00",
          "2024-02-26T12:00:00",
          "2024-02-26T15:00:00",
          "2024-02-26T18:00:00",
          "2024-02-26T21:00:00",
          "2024-02-27T00:00:00",
          "2024-02-27T03:00:00",
          "2024-02-27T06:00:00",
          "2024-02-27T09:00:00",
          "2024-02-27T12:00:00",
          "2024-02-27T15:00:00",
          "2024-02-27T18:00:00",
          "2024-02-27T21:00:00",
          "2024-02-28T00:00:00",
          "2024-02-28T03:00:00",
          "2024-02-28T06:00:00",
          "2024-02-28T09:00:00",
          "2024-02-28T12:00:00",
          "2024-02-28T15:00:00",
          "2024-02-28T18:00:00",
          "2024-02-28T21:00:00",
          "2024-02-29T00:00:00",
          "2024-02-29T03:00:00",
          "2024-02-29T06:00:00",
          "2024-02-29T09:00:00",
          "2024-02-29T12:00:00",
          "2024-02-29T15:00:00",
          "2024-02-29T18:00:00",
          "2024-02-29T21:00:00",
          "2024-03-01T00:00:00",
          "2024-03-01T03:00:00",
          "2024-03-01T06:00:00",
          "2024-03-01T09:00:00",
          "2024-03-01T12:00:00"
         ],
         "xaxis": "x",
         "y": [
          303.37911884969066,
          297.2886094860445,
          292.7861866137668,
          295.5154440239515,
          292.32421633030515,
          292.34635290288537,
          296.6745755189057,
          296.07332952530794,
          296.953879810132,
          303.5056661660016,
          297.5611731448812,
          295.0966582017529,
          292.58105365234553,
          292.24058536653615,
          292.7830153479861,
          293.6789615730008,
          294.4436482678202,
          300.7648232092671,
          296.8327542479567,
          296.71215677871675,
          300.0461835102368,
          297.8411626028388,
          292.47484739263473,
          298.7510450650076,
          297.51031644112743,
          297.04749579263154,
          292.0622930670726,
          291.7075581475034,
          293.86479341467907,
          296.7849279852009,
          292.5305083880152,
          301.61215780254525,
          293.449612165285,
          300.67589235896276,
          302.3522380747487,
          301.3461452042752,
          298.3322348692888,
          296.09360829402345,
          297.1443236634453,
          293.5536627225522,
          293.74880524890517,
          299.473300169518,
          292.8753530747653,
          304.58280513937063,
          295.9244696054384,
          291.9215332803798,
          296.6548708819969,
          292.91842650110345,
          300.99831340722943,
          293.96725427680263,
          301.37244964879085,
          302.00811917726344,
          292.78775735172826,
          292.5635399240759,
          300.3072726574486,
          293.6725405045413,
          299.56655867372285,
          293.14357824702586,
          292.84396268905743,
          294.4611213735563,
          292.6785775225663,
          296.69404725328934,
          293.0594787700373,
          301.9910495886932,
          292.8131816413517,
          293.7971216902317,
          302.9744534201311,
          299.6294179820368,
          297.99464265885007,
          292.9697571344145,
          293.71927537523084,
          294.946893753471,
          305.27322301030483,
          294.13343022861227,
          293.47789086492793,
          292.1883583293195,
          304.0863246596295,
          293.78814411033153,
          291.4970278054665,
          296.17942745826286
         ],
         "yaxis": "y"
        },
        {
         "mode": "lines",
         "name": "Temp em 300hPa (K)",
         "type": "scatter",
         "x": [
          "2024-02-20T15:00:00",
          "2024-02-20T18:00:00",
          "2024-02-20T21:00:00",
          "2024-02-21T00:00:00",
          "2024-02-21T03:00:00",
          "2024-02-21T06:00:00",
          "2024-02-21T09:00:00",
          "2024-02-21T12:00:00",
          "2024-02-21T15:00:00",
          "2024-02-21T18:00:00",
          "2024-02-21T21:00:00",
          "2024-02-22T00:00:00",
          "2024-02-22T03:00:00",
          "2024-02-22T06:00:00",
          "2024-02-22T09:00:00",
          "2024-02-22T12:00:00",
          "2024-02-22T15:00:00",
          "2024-02-22T18:00:00",
          "2024-02-22T21:00:00",
          "2024-02-23T00:00:00",
          "2024-02-23T03:00:00",
          "2024-02-23T06:00:00",
          "2024-02-23T09:00:00",
          "2024-02-23T12:00:00",
          "2024-02-23T15:00:00",
          "2024-02-23T18:00:00",
          "2024-02-23T21:00:00",
          "2024-02-24T00:00:00",
          "2024-02-24T03:00:00",
          "2024-02-24T06:00:00",
          "2024-02-24T09:00:00",
          "2024-02-24T12:00:00",
          "2024-02-24T15:00:00",
          "2024-02-24T18:00:00",
          "2024-02-24T21:00:00",
          "2024-02-25T00:00:00",
          "2024-02-25T03:00:00",
          "2024-02-25T06:00:00",
          "2024-02-25T09:00:00",
          "2024-02-25T12:00:00",
          "2024-02-25T15:00:00",
          "2024-02-25T18:00:00",
          "2024-02-25T21:00:00",
          "2024-02-26T00:00:00",
          "2024-02-26T03:00:00",
          "2024-02-26T06:00:00",
          "2024-02-26T09:00:00",
          "2024-02-26T12:00:00",
          "2024-02-26T15:00:00",
          "2024-02-26T18:00:00",
          "2024-02-26T21:00:00",
          "2024-02-27T00:00:00",
          "2024-02-27T03:00:00",
          "2024-02-27T06:00:00",
          "2024-02-27T09:00:00",
          "2024-02-27T12:00:00",
          "2024-02-27T15:00:00",
          "2024-02-27T18:00:00",
          "2024-02-27T21:00:00",
          "2024-02-28T00:00:00",
          "2024-02-28T03:00:00",
          "2024-02-28T06:00:00",
          "2024-02-28T09:00:00",
          "2024-02-28T12:00:00",
          "2024-02-28T15:00:00",
          "2024-02-28T18:00:00",
          "2024-02-28T21:00:00",
          "2024-02-29T00:00:00",
          "2024-02-29T03:00:00",
          "2024-02-29T06:00:00",
          "2024-02-29T09:00:00",
          "2024-02-29T12:00:00",
          "2024-02-29T15:00:00",
          "2024-02-29T18:00:00",
          "2024-02-29T21:00:00",
          "2024-03-01T00:00:00",
          "2024-03-01T03:00:00",
          "2024-03-01T06:00:00",
          "2024-03-01T09:00:00",
          "2024-03-01T12:00:00"
         ],
         "xaxis": "x",
         "y": [
          242.03241784595593,
          243.770024102031,
          243.13056870668282,
          243.16732558386678,
          241.88613882554284,
          241.75085132095555,
          240.97803478124905,
          242.98865743239196,
          241.62492695947907,
          243.66888549728958,
          242.13871609277246,
          242.44394212248602,
          242.95043173486283,
          241.44327424014637,
          243.35859250665686,
          242.82143129755167,
          244.15006259547528,
          242.0626917349391,
          243.08469153448019,
          242.56439360304384,
          243.13340545396284,
          243.50358220314075,
          243.52821661976037,
          242.83713430100215,
          242.9573241626007,
          241.63396865149198,
          243.77991869531465,
          242.93691905695897,
          239.97143765128598,
          242.28683113861698,
          243.03213662633135,
          243.1617635413297,
          241.56454108024076,
          242.35194375680942,
          243.83858938657795,
          243.3981192599071,
          242.50175991247863,
          242.69193929816015,
          243.3290905695803,
          243.98553477277062,
          242.04062658074434,
          242.8143018876175,
          242.4185334076014,
          242.82292240830145,
          243.09739941146012,
          242.17410621620073,
          242.72344150575464,
          243.44717457453385,
          243.02312543697738,
          243.518602416303,
          240.8073067065283,
          242.5573427961154,
          242.98202427725494,
          242.56380818662834,
          241.39045419350072,
          243.16444073623995,
          242.63596691903248,
          242.1548144576098,
          243.43243827073542,
          241.23642280500388,
          243.505794819092,
          242.6224178725738,
          243.75739952077356,
          242.18803185317927,
          242.18926369132814,
          242.10771248633344,
          243.01948271559417,
          243.0855022013001,
          243.27585756385997,
          242.49828260936118,
          243.57145648514512,
          242.68471720706998,
          242.36503526338427,
          243.10166861053042,
          242.5455453061865,
          243.14232513534003,
          241.9115768699072,
          240.8440964327296,
          243.1645697859508,
          240.51463838685834
         ],
         "yaxis": "y"
        },
        {
         "mode": "lines",
         "name": "Temp em 800hPa (K)",
         "type": "scatter",
         "x": [
          "2024-02-20T15:00:00",
          "2024-02-20T18:00:00",
          "2024-02-20T21:00:00",
          "2024-02-21T00:00:00",
          "2024-02-21T03:00:00",
          "2024-02-21T06:00:00",
          "2024-02-21T09:00:00",
          "2024-02-21T12:00:00",
          "2024-02-21T15:00:00",
          "2024-02-21T18:00:00",
          "2024-02-21T21:00:00",
          "2024-02-22T00:00:00",
          "2024-02-22T03:00:00",
          "2024-02-22T06:00:00",
          "2024-02-22T09:00:00",
          "2024-02-22T12:00:00",
          "2024-02-22T15:00:00",
          "2024-02-22T18:00:00",
          "2024-02-22T21:00:00",
          "2024-02-23T00:00:00",
          "2024-02-23T03:00:00",
          "2024-02-23T06:00:00",
          "2024-02-23T09:00:00",
          "2024-02-23T12:00:00",
          "2024-02-23T15:00:00",
          "2024-02-23T18:00:00",
          "2024-02-23T21:00:00",
          "2024-02-24T00:00:00",
          "2024-02-24T03:00:00",
          "2024-02-24T06:00:00",
          "2024-02-24T09:00:00",
          "2024-02-24T12:00:00",
          "2024-02-24T15:00:00",
          "2024-02-24T18:00:00",
          "2024-02-24T21:00:00",
          "2024-02-25T00:00:00",
          "2024-02-25T03:00:00",
          "2024-02-25T06:00:00",
          "2024-02-25T09:00:00",
          "2024-02-25T12:00:00",
          "2024-02-25T15:00:00",
          "2024-02-25T18:00:00",
          "2024-02-25T21:00:00",
          "2024-02-26T00:00:00",
          "2024-02-26T03:00:00",
          "2024-02-26T06:00:00",
          "2024-02-26T09:00:00",
          "2024-02-26T12:00:00",
          "2024-02-26T15:00:00",
          "2024-02-26T18:00:00",
          "2024-02-26T21:00:00",
          "2024-02-27T00:00:00",
          "2024-02-27T03:00:00",
          "2024-02-27T06:00:00",
          "2024-02-27T09:00:00",
          "2024-02-27T12:00:00",
          "2024-02-27T15:00:00",
          "2024-02-27T18:00:00",
          "2024-02-27T21:00:00",
          "2024-02-28T00:00:00",
          "2024-02-28T03:00:00",
          "2024-02-28T06:00:00",
          "2024-02-28T09:00:00",
          "2024-02-28T12:00:00",
          "2024-02-28T15:00:00",
          "2024-02-28T18:00:00",
          "2024-02-28T21:00:00",
          "2024-02-29T00:00:00",
          "2024-02-29T03:00:00",
          "2024-02-29T06:00:00",
          "2024-02-29T09:00:00",
          "2024-02-29T12:00:00",
          "2024-02-29T15:00:00",
          "2024-02-29T18:00:00",
          "2024-02-29T21:00:00",
          "2024-03-01T00:00:00",
          "2024-03-01T03:00:00",
          "2024-03-01T06:00:00",
          "2024-03-01T09:00:00",
          "2024-03-01T12:00:00"
         ],
         "xaxis": "x",
         "y": [
          289.61953000397216,
          289.68436512907897,
          289.1608046248798,
          290.40971590091596,
          288.43057434969825,
          287.92403900121496,
          290.5920152288173,
          289.05852873531296,
          291.17959240109616,
          290.288777941579,
          289.8225177596267,
          289.83702090145,
          289.4110692074343,
          289.9319077693068,
          288.6998133902011,
          290.0885058804876,
          292.28482385841704,
          290.5071997558281,
          288.95552185740894,
          288.8389531673921,
          290.49378580745304,
          290.81802807579845,
          289.6010595322848,
          289.64074532645265,
          289.5201572418754,
          291.2814830119098,
          289.5135096214417,
          289.8271348569016,
          287.7832060800977,
          290.4342425380861,
          290.73130911750957,
          291.18297035859723,
          291.3497252507477,
          289.39708879516263,
          290.46167230272647,
          291.7616319722682,
          290.18706435073307,
          288.71409994288746,
          290.26799996254806,
          289.8235174017972,
          289.3897351774461,
          288.53171106370837,
          290.4366291837681,
          290.5138973583703,
          289.1951131772057,
          292.2130120639954,
          289.8703964544168,
          290.61446969107163,
          288.5453145275782,
          289.5634604911477,
          289.31051561802366,
          289.6737876653626,
          291.65063420476395,
          291.19513891943495,
          288.4269339861274,
          289.8066651008732,
          288.63421603793927,
          287.8006789922025,
          288.7473672012858,
          288.9211487448596,
          290.04028147611353,
          287.95834338836517,
          288.65705786153467,
          289.96592892450866,
          289.51597540546226,
          289.47297413142894,
          289.1559209563595,
          288.1031769607523,
          289.05465512190233,
          289.4839306261349,
          288.2904869950331,
          290.42510205998985,
          291.08452434809607,
          290.0400940432066,
          290.06085119635895,
          288.8817649259306,
          289.8830523408126,
          289.5736151895295,
          291.58905624706256,
          289.5147758348577
         ],
         "yaxis": "y"
        },
        {
         "mode": "lines",
         "name": "Vel. vento superfície (ms-1)",
         "type": "scatter",
         "x": [
          "2024-02-20T15:00:00",
          "2024-02-20T18:00:00",
          "2024-02-20T21:00:00",
          "2024-02-21T00:00:00",
          "2024-02-21T03:00:00",
          "2024-02-21T06:00:00",
          "2024-02-21T09:00:00",
          "2024-02-21T12:00:00",
          "2024-02-21T15:00:00",
          "2024-02-21T18:00:00",
          "2024-02-21T21:00:00",
          "2024-02-22T00:00:00",
          "2024-02-22T03:00:00",
          "2024-02-22T06:00:00",
          "2024-02-22T09:00:00",
          "2024-02-22T12:00:00",
          "2024-02-22T15:00:00",
          "2024-02-22T18:00:00",
          "2024-02-22T21:00:00",
          "2024-02-23T00:00:00",
          "2024-02-23T03:00:00",
          "2024-02-23T06:00:00",
          "2024-02-23T09:00:00",
          "2024-02-23T12:00:00",
          "2024-02-23T15:00:00",
          "2024-02-23T18:00:00",
          "2024-02-23T21:00:00",
          "2024-02-24T00:00:00",
          "2024-02-24T03:00:00",
          "2024-02-24T06:00:00",
          "2024-02-24T09:00:00",
          "2024-02-24T12:00:00",
          "2024-02-24T15:00:00",
          "2024-02-24T18:00:00",
          "2024-02-24T21:00:00",
          "2024-02-25T00:00:00",
          "2024-02-25T03:00:00",
          "2024-02-25T06:00:00",
          "2024-02-25T09:00:00",
          "2024-02-25T12:00:00",
          "2024-02-25T15:00:00",
          "2024-02-25T18:00:00",
          "2024-02-25T21:00:00",
          "2024-02-26T00:00:00",
          "2024-02-26T03:00:00",
          "2024-02-26T06:00:00",
          "2024-02-26T09:00:00",
          "2024-02-26T12:00:00",
          "2024-02-26T15:00:00",
          "2024-02-26T18:00:00",
          "2024-02-26T21:00:00",
          "2024-02-27T00:00:00",
          "2024-02-27T03:00:00",
          "2024-02-27T06:00:00",
          "2024-02-27T09:00:00",
          "2024-02-27T12:00:00",
          "2024-02-27T15:00:00",
          "2024-02-27T18:00:00",
          "2024-02-27T21:00:00",
          "2024-02-28T00:00:00",
          "2024-02-28T03:00:00",
          "2024-02-28T06:00:00",
          "2024-02-28T09:00:00",
          "2024-02-28T12:00:00",
          "2024-02-28T15:00:00",
          "2024-02-28T18:00:00",
          "2024-02-28T21:00:00",
          "2024-02-29T00:00:00",
          "2024-02-29T03:00:00",
          "2024-02-29T06:00:00",
          "2024-02-29T09:00:00",
          "2024-02-29T12:00:00",
          "2024-02-29T15:00:00",
          "2024-02-29T18:00:00",
          "2024-02-29T21:00:00",
          "2024-03-01T00:00:00",
          "2024-03-01T03:00:00",
          "2024-03-01T06:00:00",
          "2024-03-01T09:00:00",
          "2024-03-01T12:00:00"
         ],
         "xaxis": "x2",
         "y": [
          0.8648085204981197,
          -0.8680415759575248,
          -0.596827231776246,
          0.9335350210755641,
          1.2762307755941107,
          0.188422839133373,
          0.22803504230722954,
          -0.6916680634622349,
          -0.6687671349859242,
          -0.48020008359705063,
          1.731945023183273,
          0.6596665565159541,
          1.816687154100034,
          -0.511598940313601,
          -0.21468330386146467,
          -0.009272568195470704,
          0.4350267878784355,
          -0.717335759272539,
          0.20203335815446155,
          -1.9786496515131509,
          1.5406408483960823,
          0.2727697175738422,
          -0.8497394100428802,
          -0.09495737626817946,
          2.34292037224666,
          0.48201637852224427,
          0.4295426597698632,
          -0.7345984111745802,
          -1.100977694072447,
          -1.1556964468901691,
          0.29947099860969184,
          -0.4428507008499285,
          0.41862183384994966,
          -0.7680466519806619,
          -0.7310727590860795,
          -1.3689173714876948,
          -0.6700714681576898,
          0.3220616538920791,
          1.3150248061420675,
          -0.08388240188249912,
          1.0680097948216791,
          0.40650339292687465,
          -0.05694594562328924,
          1.2364209461820699,
          -1.0826794806825546,
          0.6891444861977682,
          -2.042795175890404,
          -0.6514293851134352,
          1.057169995659392,
          -0.34496247257172985,
          0.5203855126582058,
          -0.22715944827559018,
          -0.38220316088786194,
          0.23668514275086058,
          -0.9204184578532408,
          -0.4034637915875533,
          -1.0385179215065758,
          -1.1055626227974247,
          -0.865545556569756,
          -0.2877259614800416,
          -0.6057915579385093,
          -0.30860912606486335,
          -0.8982467701956582,
          -0.07322244259695197,
          -1.0968571870070976,
          -0.13176328686040292,
          -0.6670102377288101,
          1.0965410948227396,
          0.15563466996264652,
          -0.7466042051419031,
          2.7377005218283883,
          -0.1088267856612271,
          -0.46714489430516287,
          1.8213590383698013,
          -1.6776036266837555,
          -0.8790691200460565,
          -1.393025796279054,
          0.8366882830724155,
          -0.3870786001829085,
          -1.408462381740612
         ],
         "yaxis": "y2"
        },
        {
         "mode": "lines",
         "name": "Vel. vento superfície (300hPa) (ms-1)",
         "type": "scatter",
         "x": [
          "2024-02-20T15:00:00",
          "2024-02-20T18:00:00",
          "2024-02-20T21:00:00",
          "2024-02-21T00:00:00",
          "2024-02-21T03:00:00",
          "2024-02-21T06:00:00",
          "2024-02-21T09:00:00",
          "2024-02-21T12:00:00",
          "2024-02-21T15:00:00",
          "2024-02-21T18:00:00",
          "2024-02-21T21:00:00",
          "2024-02-22T00:00:00",
          "2024-02-22T03:00:00",
          "2024-02-22T06:00:00",
          "2024-02-22T09:00:00",
          "2024-02-22T12:00:00",
          "2024-02-22T15:00:00",
          "2024-02-22T18:00:00",
          "2024-02-22T21:00:00",
          "2024-02-23T00:00:00",
          "2024-02-23T03:00:00",
          "2024-02-23T06:00:00",
          "2024-02-23T09:00:00",
          "2024-02-23T12:00:00",
          "2024-02-23T15:00:00",
          "2024-02-23T18:00:00",
          "2024-02-23T21:00:00",
          "2024-02-24T00:00:00",
          "2024-02-24T03:00:00",
          "2024-02-24T06:00:00",
          "2024-02-24T09:00:00",
          "2024-02-24T12:00:00",
          "2024-02-24T15:00:00",
          "2024-02-24T18:00:00",
          "2024-02-24T21:00:00",
          "2024-02-25T00:00:00",
          "2024-02-25T03:00:00",
          "2024-02-25T06:00:00",
          "2024-02-25T09:00:00",
          "2024-02-25T12:00:00",
          "2024-02-25T15:00:00",
          "2024-02-25T18:00:00",
          "2024-02-25T21:00:00",
          "2024-02-26T00:00:00",
          "2024-02-26T03:00:00",
          "2024-02-26T06:00:00",
          "2024-02-26T09:00:00",
          "2024-02-26T12:00:00",
          "2024-02-26T15:00:00",
          "2024-02-26T18:00:00",
          "2024-02-26T21:00:00",
          "2024-02-27T00:00:00",
          "2024-02-27T03:00:00",
          "2024-02-27T06:00:00",
          "2024-02-27T09:00:00",
          "2024-02-27T12:00:00",
          "2024-02-27T15:00:00",
          "2024-02-27T18:00:00",
          "2024-02-27T21:00:00",
          "2024-02-28T00:00:00",
          "2024-02-28T03:00:00",
          "2024-02-28T06:00:00",
          "2024-02-28T09:00:00",
          "2024-02-28T12:00:00",
          "2024-02-28T15:00:00",
          "2024-02-28T18:00:00",
          "2024-02-28T21:00:00",
          "2024-02-29T00:00:00",
          "2024-02-29T03:00:00",
          "2024-02-29T06:00:00",
          "2024-02-29T09:00:00",
          "2024-02-29T12:00:00",
          "2024-02-29T15:00:00",
          "2024-02-29T18:00:00",
          "2024-02-29T21:00:00",
          "2024-03-01T00:00:00",
          "2024-03-01T03:00:00",
          "2024-03-01T06:00:00",
          "2024-03-01T09:00:00",
          "2024-03-01T12:00:00"
         ],
         "xaxis": "x2",
         "y": [
          -4.7058276503731244,
          5.730626829412742,
          5.014114987026224,
          12.976941338983512,
          -4.386767283822714,
          4.800260240113601,
          18.088402738615027,
          5.0213060647847145,
          15.202439276333934,
          -0.14578736716758495,
          3.791658373552011,
          -5.223083545884232,
          -5.330273173233378,
          13.427770983974087,
          10.89705512468021,
          8.773676572749848,
          10.177160587153601,
          -6.496607453630581,
          -4.527890284442351,
          -3.313305088535718,
          10.2884246517951,
          5.144618605374611,
          5.590260184223338,
          2.5735194473577705,
          -5.474277165893717,
          -1.1499081128638,
          6.819729238746312,
          7.103480349283911,
          -1.2537720567887702,
          1.2311861993685214,
          10.682919119969416,
          3.8832876032567896,
          14.630277297683882,
          0.28565449365486717,
          -0.14215762125885995,
          12.130290753230001,
          6.219308452942784,
          -4.420723461779506,
          -4.016206333959731,
          7.052884351862721,
          6.990247480055231,
          5.197905555783612,
          -5.44663028449033,
          9.94437414979962,
          7.670195808680367,
          3.5467816516580655,
          4.96466302470296,
          13.39021166557588,
          11.487681297701688,
          13.091097798008871,
          -2.1334172228918638,
          9.614093877571115,
          -0.6438531191255638,
          -3.7263967784184566,
          14.56060898092224,
          -0.8589583230056743,
          9.942344532715579,
          5.149620433244664,
          9.250990060140506,
          -5.045309613538885,
          -2.2931298436577916,
          -5.507541601698257,
          6.505400844610982,
          -4.277213570656519,
          -1.7581737107675723,
          8.617418861964119,
          4.851798831236733,
          16.143622888519253,
          5.47541198304574,
          -2.858743076547926,
          10.12972303879014,
          17.770456000914148,
          8.856153521671105,
          10.87661832494059,
          -2.4477266131219335,
          -1.5968913674254095,
          8.621527506285947,
          3.7882224674771505,
          10.388552427941672,
          -4.414129106646865
         ],
         "yaxis": "y2"
        },
        {
         "mode": "lines",
         "name": "Vel. vento superfície (800hPa) (ms-1)",
         "type": "scatter",
         "x": [
          "2024-02-20T15:00:00",
          "2024-02-20T18:00:00",
          "2024-02-20T21:00:00",
          "2024-02-21T00:00:00",
          "2024-02-21T03:00:00",
          "2024-02-21T06:00:00",
          "2024-02-21T09:00:00",
          "2024-02-21T12:00:00",
          "2024-02-21T15:00:00",
          "2024-02-21T18:00:00",
          "2024-02-21T21:00:00",
          "2024-02-22T00:00:00",
          "2024-02-22T03:00:00",
          "2024-02-22T06:00:00",
          "2024-02-22T09:00:00",
          "2024-02-22T12:00:00",
          "2024-02-22T15:00:00",
          "2024-02-22T18:00:00",
          "2024-02-22T21:00:00",
          "2024-02-23T00:00:00",
          "2024-02-23T03:00:00",
          "2024-02-23T06:00:00",
          "2024-02-23T09:00:00",
          "2024-02-23T12:00:00",
          "2024-02-23T15:00:00",
          "2024-02-23T18:00:00",
          "2024-02-23T21:00:00",
          "2024-02-24T00:00:00",
          "2024-02-24T03:00:00",
          "2024-02-24T06:00:00",
          "2024-02-24T09:00:00",
          "2024-02-24T12:00:00",
          "2024-02-24T15:00:00",
          "2024-02-24T18:00:00",
          "2024-02-24T21:00:00",
          "2024-02-25T00:00:00",
          "2024-02-25T03:00:00",
          "2024-02-25T06:00:00",
          "2024-02-25T09:00:00",
          "2024-02-25T12:00:00",
          "2024-02-25T15:00:00",
          "2024-02-25T18:00:00",
          "2024-02-25T21:00:00",
          "2024-02-26T00:00:00",
          "2024-02-26T03:00:00",
          "2024-02-26T06:00:00",
          "2024-02-26T09:00:00",
          "2024-02-26T12:00:00",
          "2024-02-26T15:00:00",
          "2024-02-26T18:00:00",
          "2024-02-26T21:00:00",
          "2024-02-27T00:00:00",
          "2024-02-27T03:00:00",
          "2024-02-27T06:00:00",
          "2024-02-27T09:00:00",
          "2024-02-27T12:00:00",
          "2024-02-27T15:00:00",
          "2024-02-27T18:00:00",
          "2024-02-27T21:00:00",
          "2024-02-28T00:00:00",
          "2024-02-28T03:00:00",
          "2024-02-28T06:00:00",
          "2024-02-28T09:00:00",
          "2024-02-28T12:00:00",
          "2024-02-28T15:00:00",
          "2024-02-28T18:00:00",
          "2024-02-28T21:00:00",
          "2024-02-29T00:00:00",
          "2024-02-29T03:00:00",
          "2024-02-29T06:00:00",
          "2024-02-29T09:00:00",
          "2024-02-29T12:00:00",
          "2024-02-29T15:00:00",
          "2024-02-29T18:00:00",
          "2024-02-29T21:00:00",
          "2024-03-01T00:00:00",
          "2024-03-01T03:00:00",
          "2024-03-01T06:00:00",
          "2024-03-01T09:00:00",
          "2024-03-01T12:00:00"
         ],
         "xaxis": "x2",
         "y": [
          4.299036624053351,
          -0.7867982432934079,
          1.297665696712461,
          0.3545099163019659,
          -0.48125744007868565,
          5.639399880590686,
          -4.578448415954373,
          -2.704292054699418,
          5.160000769094936,
          0.3532922970017289,
          6.995132665038209,
          -2.331213034590748,
          6.980654191864906,
          -0.8408306828917387,
          2.1653360783213107,
          2.371314344004717,
          0.37781029789180315,
          2.3868564846127125,
          4.002588311321917,
          -1.794627802857044,
          4.453368704054396,
          1.1386170913760638,
          4.528907752748572,
          3.7370190106523866,
          -4.188271408354142,
          1.5907783856904174,
          -1.5322215132432455,
          -0.7920722609903414,
          -2.701070728543044,
          5.379928006838318,
          5.361659052126948,
          5.602227502873545,
          6.063653900368918,
          -1.9210479431139147,
          -1.0603917018034532,
          -0.5851539558855061,
          1.718831348763728,
          5.7519853463846795,
          -2.9441164047625175,
          -2.2461313028367913,
          2.657501531637163,
          4.090856380171866,
          5.931171322255182,
          -1.5736089064306324,
          1.2677477175081826,
          4.602111864815333,
          8.116487729817322,
          1.6393245406256791,
          -2.8410666242161873,
          -0.3419589930085265,
          -2.962429678950343,
          -1.5992185660037028,
          -2.2175569035500002,
          0.44225081664261157,
          -0.8142786512932294,
          2.4989241123135777,
          8.59802817180657,
          0.6917368125707059,
          3.2983728240497125,
          -1.4942980370306476,
          3.213305087919799,
          4.37233170767705,
          -0.6992719425229026,
          0.019909532163559444,
          1.9866049602353786,
          6.776549007212275,
          1.659023381603419,
          0.4637830843827392,
          0.5091708934702927,
          -0.3452223060372742,
          -0.574764537565215,
          2.8956697328436745,
          0.01565252982083528,
          6.749171233789497,
          5.300085303720929,
          8.515267381055885,
          0.28028878888100384,
          4.519990207567075,
          2.536679641036512,
          -0.7418373007421546
         ],
         "yaxis": "y2"
        },
        {
         "mode": "lines",
         "name": "Umidade relativa",
         "type": "scatter",
         "x": [
          "2024-02-20T15:00:00",
          "2024-02-20T18:00:00",
          "2024-02-20T21:00:00",
          "2024-02-21T00:00:00",
          "2024-02-21T03:00:00",
          "2024-02-21T06:00:00",
          "2024-02-21T09:00:00",
          "2024-02-21T12:00:00",
          "2024-02-21T15:00:00",
          "2024-02-21T18:00:00",
          "2024-02-21T21:00:00",
          "2024-02-22T00:00:00",
          "2024-02-22T03:00:00",
          "2024-02-22T06:00:00",
          "2024-02-22T09:00:00",
          "2024-02-22T12:00:00",
          "2024-02-22T15:00:00",
          "2024-02-22T18:00:00",
          "2024-02-22T21:00:00",
          "2024-02-23T00:00:00",
          "2024-02-23T03:00:00",
          "2024-02-23T06:00:00",
          "2024-02-23T09:00:00",
          "2024-02-23T12:00:00",
          "2024-02-23T15:00:00",
          "2024-02-23T18:00:00",
          "2024-02-23T21:00:00",
          "2024-02-24T00:00:00",
          "2024-02-24T03:00:00",
          "2024-02-24T06:00:00",
          "2024-02-24T09:00:00",
          "2024-02-24T12:00:00",
          "2024-02-24T15:00:00",
          "2024-02-24T18:00:00",
          "2024-02-24T21:00:00",
          "2024-02-25T00:00:00",
          "2024-02-25T03:00:00",
          "2024-02-25T06:00:00",
          "2024-02-25T09:00:00",
          "2024-02-25T12:00:00",
          "2024-02-25T15:00:00",
          "2024-02-25T18:00:00",
          "2024-02-25T21:00:00",
          "2024-02-26T00:00:00",
          "2024-02-26T03:00:00",
          "2024-02-26T06:00:00",
          "2024-02-26T09:00:00",
          "2024-02-26T12:00:00",
          "2024-02-26T15:00:00",
          "2024-02-26T18:00:00",
          "2024-02-26T21:00:00",
          "2024-02-27T00:00:00",
          "2024-02-27T03:00:00",
          "2024-02-27T06:00:00",
          "2024-02-27T09:00:00",
          "2024-02-27T12:00:00",
          "2024-02-27T15:00:00",
          "2024-02-27T18:00:00",
          "2024-02-27T21:00:00",
          "2024-02-28T00:00:00",
          "2024-02-28T03:00:00",
          "2024-02-28T06:00:00",
          "2024-02-28T09:00:00",
          "2024-02-28T12:00:00",
          "2024-02-28T15:00:00",
          "2024-02-28T18:00:00",
          "2024-02-28T21:00:00",
          "2024-02-29T00:00:00",
          "2024-02-29T03:00:00",
          "2024-02-29T06:00:00",
          "2024-02-29T09:00:00",
          "2024-02-29T12:00:00",
          "2024-02-29T15:00:00",
          "2024-02-29T18:00:00",
          "2024-02-29T21:00:00",
          "2024-03-01T00:00:00",
          "2024-03-01T03:00:00",
          "2024-03-01T06:00:00",
          "2024-03-01T09:00:00",
          "2024-03-01T12:00:00"
         ],
         "xaxis": "x3",
         "y": [
          97.42614139835811,
          95.82702748496965,
          94.37893668630029,
          96.40487785882141,
          65.99423388164928,
          86.90025908993813,
          82.78959611804557,
          59.73978085268723,
          97.11722103335677,
          84.72258176824243,
          93.23401121860412,
          83.787143406476,
          91.18714792321548,
          97.2727882320628,
          82.2316913724174,
          45.18268936429938,
          97.89500626850187,
          54.57264010742504,
          96.52371048921174,
          97.0795438093204,
          98.22114097720268,
          64.76354124576571,
          93.03705418256177,
          80.70509185460982,
          64.24211727652812,
          98.58438248237556,
          77.26579795526001,
          97.81077635425888,
          79.26932325815605,
          97.48734150822476,
          96.17913356730858,
          66.22879562974931,
          56.79360708029416,
          96.31362636799221,
          97.80171477401045,
          98.55185360881376,
          95.74471672109144,
          82.00763419293811,
          98.42235930051578,
          63.71234959562968,
          93.5001736869412,
          97.41506881923885,
          78.68350381786544,
          72.82651553086956,
          95.65612883693964,
          48.45933164464246,
          79.05415604724256,
          97.57630403759882,
          76.59172176885288,
          69.41215124973303,
          68.78915733512378,
          74.87699959105188,
          90.28672317880796,
          96.2513409955138,
          72.31396944486829,
          88.52146740318017,
          98.08186722006901,
          96.60044266487628,
          74.34265398724332,
          94.6423654530473,
          84.50970110171818,
          62.30566555375826,
          98.63833139439072,
          96.51396487929932,
          95.71127903073219,
          98.3001935361797,
          91.96842340159313,
          54.586332786034596,
          82.05989115878778,
          93.88073588671534,
          98.13628745994444,
          82.01270036317031,
          97.75505814996797,
          83.89303989989948,
          96.6639631580554,
          73.50617513962223,
          51.25689453413496,
          82.50647551499992,
          97.053487838374,
          59.220133426923425
         ],
         "yaxis": "y3"
        },
        {
         "mode": "lines",
         "name": "Umidade relativa (300hPa)",
         "type": "scatter",
         "x": [
          "2024-02-20T15:00:00",
          "2024-02-20T18:00:00",
          "2024-02-20T21:00:00",
          "2024-02-21T00:00:00",
          "2024-02-21T03:00:00",
          "2024-02-21T06:00:00",
          "2024-02-21T09:00:00",
          "2024-02-21T12:00:00",
          "2024-02-21T15:00:00",
          "2024-02-21T18:00:00",
          "2024-02-21T21:00:00",
          "2024-02-22T00:00:00",
          "2024-02-22T03:00:00",
          "2024-02-22T06:00:00",
          "2024-02-22T09:00:00",
          "2024-02-22T12:00:00",
          "2024-02-22T15:00:00",
          "2024-02-22T18:00:00",
          "2024-02-22T21:00:00",
          "2024-02-23T00:00:00",
          "2024-02-23T03:00:00",
          "2024-02-23T06:00:00",
          "2024-02-23T09:00:00",
          "2024-02-23T12:00:00",
          "2024-02-23T15:00:00",
          "2024-02-23T18:00:00",
          "2024-02-23T21:00:00",
          "2024-02-24T00:00:00",
          "2024-02-24T03:00:00",
          "2024-02-24T06:00:00",
          "2024-02-24T09:00:00",
          "2024-02-24T12:00:00",
          "2024-02-24T15:00:00",
          "2024-02-24T18:00:00",
          "2024-02-24T21:00:00",
          "2024-02-25T00:00:00",
          "2024-02-25T03:00:00",
          "2024-02-25T06:00:00",
          "2024-02-25T09:00:00",
          "2024-02-25T12:00:00",
          "2024-02-25T15:00:00",
          "2024-02-25T18:00:00",
          "2024-02-25T21:00:00",
          "2024-02-26T00:00:00",
          "2024-02-26T03:00:00",
          "2024-02-26T06:00:00",
          "2024-02-26T09:00:00",
          "2024-02-26T12:00:00",
          "2024-02-26T15:00:00",
          "2024-02-26T18:00:00",
          "2024-02-26T21:00:00",
          "2024-02-27T00:00:00",
          "2024-02-27T03:00:00",
          "2024-02-27T06:00:00",
          "2024-02-27T09:00:00",
          "2024-02-27T12:00:00",
          "2024-02-27T15:00:00",
          "2024-02-27T18:00:00",
          "2024-02-27T21:00:00",
          "2024-02-28T00:00:00",
          "2024-02-28T03:00:00",
          "2024-02-28T06:00:00",
          "2024-02-28T09:00:00",
          "2024-02-28T12:00:00",
          "2024-02-28T15:00:00",
          "2024-02-28T18:00:00",
          "2024-02-28T21:00:00",
          "2024-02-29T00:00:00",
          "2024-02-29T03:00:00",
          "2024-02-29T06:00:00",
          "2024-02-29T09:00:00",
          "2024-02-29T12:00:00",
          "2024-02-29T15:00:00",
          "2024-02-29T18:00:00",
          "2024-02-29T21:00:00",
          "2024-03-01T00:00:00",
          "2024-03-01T03:00:00",
          "2024-03-01T06:00:00",
          "2024-03-01T09:00:00",
          "2024-03-01T12:00:00"
         ],
         "xaxis": "x3",
         "y": [
          66.64018311105657,
          70.95459456160151,
          36.32970732749429,
          16.410185857722677,
          23.8006237983337,
          39.60823511459707,
          99.66956511123995,
          48.25923886837386,
          21.414808801538662,
          11.459566026795276,
          94.994007385479,
          89.58295846430825,
          80.91827021088304,
          87.1601721243934,
          63.077530442214005,
          51.02935758537569,
          8.943932615131116,
          95.23524765770455,
          88.16673116244961,
          20.50128971221042,
          100,
          90.77500900296039,
          14.615436262092967,
          86.58587481307411,
          57.72376110110771,
          81.35483870967738,
          16.103091525009937,
          43.66162297433388,
          47.955318460646296,
          13.68554460280151,
          6.114339426862378,
          19.814200872829346,
          99.65401043733024,
          63.40747703482161,
          95.2524893948179,
          50.150846888637865,
          96.99622913296929,
          99.14895840327156,
          10.516070436719843,
          32.35405621509433,
          15.270507522812734,
          40.85544114505447,
          36.243559678945445,
          10.562194891201536,
          29.01677419354862,
          92.81685842463445,
          49.40846583452861,
          58.01554734946686,
          80.04729880672578,
          82.82090395825028,
          54.04499404889056,
          7.911498764000344,
          87.28552262947444,
          41.17752861110254,
          43.98577349162254,
          91.79090182195516,
          56.29897396771119,
          41.32792138431929,
          11.326883754997404,
          99.31148777733692,
          80.16221930600902,
          24.02031556138803,
          38.01804010132149,
          60.12009399700886,
          97.2731760612811,
          80.84760155034036,
          10.71462630085151,
          53.35972167119331,
          11.806871547593632,
          53.93645558030991,
          40.57022492141484,
          30.34044251838747,
          97.07775261696207,
          88.59890011291866,
          72.05252357554835,
          61.091769157994236,
          90.30372997222781,
          10.364373912778087,
          91.78962248603816,
          32.07101535081032
         ],
         "yaxis": "y3"
        },
        {
         "mode": "lines",
         "name": "Umidade relativa (800hPa)",
         "type": "scatter",
         "x": [
          "2024-02-20T15:00:00",
          "2024-02-20T18:00:00",
          "2024-02-20T21:00:00",
          "2024-02-21T00:00:00",
          "2024-02-21T03:00:00",
          "2024-02-21T06:00:00",
          "2024-02-21T09:00:00",
          "2024-02-21T12:00:00",
          "2024-02-21T15:00:00",
          "2024-02-21T18:00:00",
          "2024-02-21T21:00:00",
          "2024-02-22T00:00:00",
          "2024-02-22T03:00:00",
          "2024-02-22T06:00:00",
          "2024-02-22T09:00:00",
          "2024-02-22T12:00:00",
          "2024-02-22T15:00:00",
          "2024-02-22T18:00:00",
          "2024-02-22T21:00:00",
          "2024-02-23T00:00:00",
          "2024-02-23T03:00:00",
          "2024-02-23T06:00:00",
          "2024-02-23T09:00:00",
          "2024-02-23T12:00:00",
          "2024-02-23T15:00:00",
          "2024-02-23T18:00:00",
          "2024-02-23T21:00:00",
          "2024-02-24T00:00:00",
          "2024-02-24T03:00:00",
          "2024-02-24T06:00:00",
          "2024-02-24T09:00:00",
          "2024-02-24T12:00:00",
          "2024-02-24T15:00:00",
          "2024-02-24T18:00:00",
          "2024-02-24T21:00:00",
          "2024-02-25T00:00:00",
          "2024-02-25T03:00:00",
          "2024-02-25T06:00:00",
          "2024-02-25T09:00:00",
          "2024-02-25T12:00:00",
          "2024-02-25T15:00:00",
          "2024-02-25T18:00:00",
          "2024-02-25T21:00:00",
          "2024-02-26T00:00:00",
          "2024-02-26T03:00:00",
          "2024-02-26T06:00:00",
          "2024-02-26T09:00:00",
          "2024-02-26T12:00:00",
          "2024-02-26T15:00:00",
          "2024-02-26T18:00:00",
          "2024-02-26T21:00:00",
          "2024-02-27T00:00:00",
          "2024-02-27T03:00:00",
          "2024-02-27T06:00:00",
          "2024-02-27T09:00:00",
          "2024-02-27T12:00:00",
          "2024-02-27T15:00:00",
          "2024-02-27T18:00:00",
          "2024-02-27T21:00:00",
          "2024-02-28T00:00:00",
          "2024-02-28T03:00:00",
          "2024-02-28T06:00:00",
          "2024-02-28T09:00:00",
          "2024-02-28T12:00:00",
          "2024-02-28T15:00:00",
          "2024-02-28T18:00:00",
          "2024-02-28T21:00:00",
          "2024-02-29T00:00:00",
          "2024-02-29T03:00:00",
          "2024-02-29T06:00:00",
          "2024-02-29T09:00:00",
          "2024-02-29T12:00:00",
          "2024-02-29T15:00:00",
          "2024-02-29T18:00:00",
          "2024-02-29T21:00:00",
          "2024-03-01T00:00:00",
          "2024-03-01T03:00:00",
          "2024-03-01T06:00:00",
          "2024-03-01T09:00:00",
          "2024-03-01T12:00:00"
         ],
         "xaxis": "x3",
         "y": [
          65.22327707754744,
          75.05512497329623,
          83.75036835840928,
          79.1343363750115,
          78.58652180547509,
          78.06733603930785,
          69.03488265633106,
          89.06604571672702,
          67.69679494613486,
          81.58886684774316,
          70.3866597491378,
          79.59634510330511,
          90.53856135746324,
          86.9882064271981,
          73.64664693136388,
          73.94126285592203,
          73.8566899624623,
          76.74379711294887,
          68.76471083712275,
          71.34044373912776,
          83.7242591631826,
          79.73893734550006,
          79.97249671926029,
          88.83604113895069,
          77.65100009155543,
          68.44260383922845,
          66.42928067873156,
          91.21113559373748,
          75.15815790276798,
          86.29955748161252,
          57.409173863948496,
          80.65488326670123,
          73.43191869869077,
          78.67814569536426,
          73.34170354319896,
          79.95134372997221,
          76.37141758476514,
          78.7587292092654,
          79.3362663655507,
          72.14138126773884,
          64.54718222602006,
          80.88522476882227,
          73.64307504501485,
          66.8720261238442,
          74.90858241523482,
          94.37877620777002,
          68.98499343852049,
          77.84944853053375,
          53.31374126407681,
          78.71993408001948,
          88.62081972716453,
          76.29678151799045,
          77.41713797418139,
          83.15017914365052,
          79.34179143650613,
          80.25235145115508,
          87.83407208471941,
          87.0036414685506,
          72.81765190588084,
          71.66833460493791,
          85.94609698782305,
          73.92435804315322,
          70.18539628284552,
          81.8571514023256,
          79.17448164311662,
          65.44550553910948,
          87.76771507919554,
          83.11863521225627,
          67.59484847560054,
          97.0473488570818,
          79.24546769615783,
          86.66162907803582,
          79.92754905850398,
          75.3398602252264,
          78.64715109714031,
          95.57085604419078,
          84.9132480849635,
          77.64482314523764,
          85.91253395184206,
          86.51726187932985
         ],
         "yaxis": "y3"
        },
        {
         "mode": "lines",
         "name": "Acumulado precip após 3h",
         "type": "scatter",
         "x": [
          "2024-02-20T15:00:00",
          "2024-02-20T18:00:00",
          "2024-02-20T21:00:00",
          "2024-02-21T00:00:00",
          "2024-02-21T03:00:00",
          "2024-02-21T06:00:00",
          "2024-02-21T09:00:00",
          "2024-02-21T12:00:00",
          "2024-02-21T15:00:00",
          "2024-02-21T18:00:00",
          "2024-02-21T21:00:00",
          "2024-02-22T00:00:00",
          "2024-02-22T03:00:00",
          "2024-02-22T06:00:00",
          "2024-02-22T09:00:00",
          "2024-02-22T12:00:00",
          "2024-02-22T15:00:00",
          "2024-02-22T18:00:00",
          "2024-02-22T21:00:00",
          "2024-02-23T00:00:00",
          "2024-02-23T03:00:00",
          "2024-02-23T06:00:00",
          "2024-02-23T09:00:00",
          "2024-02-23T12:00:00",
          "2024-02-23T15:00:00",
          "2024-02-23T18:00:00",
          "2024-02-23T21:00:00",
          "2024-02-24T00:00:00",
          "2024-02-24T03:00:00",
          "2024-02-24T06:00:00",
          "2024-02-24T09:00:00",
          "2024-02-24T12:00:00",
          "2024-02-24T15:00:00",
          "2024-02-24T18:00:00",
          "2024-02-24T21:00:00",
          "2024-02-25T00:00:00",
          "2024-02-25T03:00:00",
          "2024-02-25T06:00:00",
          "2024-02-25T09:00:00",
          "2024-02-25T12:00:00",
          "2024-02-25T15:00:00",
          "2024-02-25T18:00:00",
          "2024-02-25T21:00:00",
          "2024-02-26T00:00:00",
          "2024-02-26T03:00:00",
          "2024-02-26T06:00:00",
          "2024-02-26T09:00:00",
          "2024-02-26T12:00:00",
          "2024-02-26T15:00:00",
          "2024-02-26T18:00:00",
          "2024-02-26T21:00:00",
          "2024-02-27T00:00:00",
          "2024-02-27T03:00:00",
          "2024-02-27T06:00:00",
          "2024-02-27T09:00:00",
          "2024-02-27T12:00:00",
          "2024-02-27T15:00:00",
          "2024-02-27T18:00:00",
          "2024-02-27T21:00:00",
          "2024-02-28T00:00:00",
          "2024-02-28T03:00:00",
          "2024-02-28T06:00:00",
          "2024-02-28T09:00:00",
          "2024-02-28T12:00:00",
          "2024-02-28T15:00:00",
          "2024-02-28T18:00:00",
          "2024-02-28T21:00:00",
          "2024-02-29T00:00:00",
          "2024-02-29T03:00:00",
          "2024-02-29T06:00:00",
          "2024-02-29T09:00:00",
          "2024-02-29T12:00:00",
          "2024-02-29T15:00:00",
          "2024-02-29T18:00:00",
          "2024-02-29T21:00:00",
          "2024-03-01T00:00:00",
          "2024-03-01T03:00:00",
          "2024-03-01T06:00:00",
          "2024-03-01T09:00:00",
          "2024-03-01T12:00:00"
         ],
         "xaxis": "x4",
         "y": [
          0.004997745219275492,
          0.002901428424939707,
          0.00007787618030335353,
          0.0010730910733359876,
          0.0000772824610126042,
          0,
          0,
          0.00025645846125675907,
          0.0024170948454237725,
          0.004164523807489183,
          0.004590531534775743,
          0.0006409411786248413,
          0,
          0.004806235407574693,
          0.00031565368816186744,
          0.0002646574419385346,
          0.00019539725943784153,
          0.0029555063570054774,
          0,
          0.004623596044801167,
          0.00198170069887387,
          0,
          0,
          0.0015984407605213011,
          0,
          0.0000321597949156152,
          0,
          0,
          0.0017460648213141583,
          0.0007363886226996637,
          0.0009384934965056413,
          0.0024183458967864386,
          0,
          0.004653790911587913,
          0.0006585689870906734,
          0.000014249262977997231,
          0,
          0.00018135297097689507,
          0.000014842982268746558,
          0,
          0,
          0.003853570397045803,
          0,
          0.00007332433240760177,
          0.000007124631488998617,
          0.000595189452803137,
          0,
          0.00016208536637469945,
          0.0009132038819543919,
          0,
          0.005246626691488389,
          0.0012972271736808277,
          0.000022561333048494497,
          0.000776422266304496,
          0.000014249262977997235,
          0,
          0.0006699556749168519,
          0,
          0.00026126476027711116,
          0.00415291800897248,
          0.002150196819971316,
          0.0039056127201147718,
          0,
          0.00022896360362560382,
          0.0003736544083986946,
          0.00019462683797724046,
          0.0006535365092928788,
          0.0021433831843012886,
          0.0000527137913144351,
          0,
          0,
          0,
          0.00001543670155949588,
          0.001901817181920852,
          0.007683179979857721,
          0.0028728026734214157,
          0.00022879396954253084,
          0.0035737024323252288,
          0,
          0.0018419928952910039
         ],
         "yaxis": "y4"
        },
        {
         "mode": "lines",
         "name": "Acumulado precip. convectiva",
         "type": "scatter",
         "x": [
          "2024-02-20T15:00:00",
          "2024-02-20T18:00:00",
          "2024-02-20T21:00:00",
          "2024-02-21T00:00:00",
          "2024-02-21T03:00:00",
          "2024-02-21T06:00:00",
          "2024-02-21T09:00:00",
          "2024-02-21T12:00:00",
          "2024-02-21T15:00:00",
          "2024-02-21T18:00:00",
          "2024-02-21T21:00:00",
          "2024-02-22T00:00:00",
          "2024-02-22T03:00:00",
          "2024-02-22T06:00:00",
          "2024-02-22T09:00:00",
          "2024-02-22T12:00:00",
          "2024-02-22T15:00:00",
          "2024-02-22T18:00:00",
          "2024-02-22T21:00:00",
          "2024-02-23T00:00:00",
          "2024-02-23T03:00:00",
          "2024-02-23T06:00:00",
          "2024-02-23T09:00:00",
          "2024-02-23T12:00:00",
          "2024-02-23T15:00:00",
          "2024-02-23T18:00:00",
          "2024-02-23T21:00:00",
          "2024-02-24T00:00:00",
          "2024-02-24T03:00:00",
          "2024-02-24T06:00:00",
          "2024-02-24T09:00:00",
          "2024-02-24T12:00:00",
          "2024-02-24T15:00:00",
          "2024-02-24T18:00:00",
          "2024-02-24T21:00:00",
          "2024-02-25T00:00:00",
          "2024-02-25T03:00:00",
          "2024-02-25T06:00:00",
          "2024-02-25T09:00:00",
          "2024-02-25T12:00:00",
          "2024-02-25T15:00:00",
          "2024-02-25T18:00:00",
          "2024-02-25T21:00:00",
          "2024-02-26T00:00:00",
          "2024-02-26T03:00:00",
          "2024-02-26T06:00:00",
          "2024-02-26T09:00:00",
          "2024-02-26T12:00:00",
          "2024-02-26T15:00:00",
          "2024-02-26T18:00:00",
          "2024-02-26T21:00:00",
          "2024-02-27T00:00:00",
          "2024-02-27T03:00:00",
          "2024-02-27T06:00:00",
          "2024-02-27T09:00:00",
          "2024-02-27T12:00:00",
          "2024-02-27T15:00:00",
          "2024-02-27T18:00:00",
          "2024-02-27T21:00:00",
          "2024-02-28T00:00:00",
          "2024-02-28T03:00:00",
          "2024-02-28T06:00:00",
          "2024-02-28T09:00:00",
          "2024-02-28T12:00:00",
          "2024-02-28T15:00:00",
          "2024-02-28T18:00:00",
          "2024-02-28T21:00:00",
          "2024-02-29T00:00:00",
          "2024-02-29T03:00:00",
          "2024-02-29T06:00:00",
          "2024-02-29T09:00:00",
          "2024-02-29T12:00:00",
          "2024-02-29T15:00:00",
          "2024-02-29T18:00:00",
          "2024-02-29T21:00:00",
          "2024-03-01T00:00:00",
          "2024-03-01T03:00:00",
          "2024-03-01T06:00:00",
          "2024-03-01T09:00:00",
          "2024-03-01T12:00:00"
         ],
         "xaxis": "x4",
         "y": [
          0.00016365253151035415,
          0,
          0.0010526528214362097,
          0.00007152043214209314,
          0.0017475496688742034,
          0.0048062889492477175,
          0.0045909297463910875,
          0.004165813852351393,
          0.0029567679372538994,
          0.0006564249855037005,
          0,
          0.0010740740684225304,
          0.004631716360972968,
          0.0018419642475661585,
          0,
          0.0009131640827661844,
          0,
          0.003575179067354374,
          0.004152704702902349,
          0.00003235915707876714,
          0,
          0,
          0,
          0.000014934995574816692,
          0,
          0.000014387035737175686,
          0.00007394848475600105,
          0.0029044494460890333,
          0.0002667712942899857,
          0,
          0.0021206725516525883,
          0.0009410276345103413,
          0.0007765799432355549,
          0,
          0,
          0.000014387035737175688,
          0.00039834070863978965,
          0.00768492042298648,
          0.0024199691763054526,
          0.005247671971800899,
          0,
          0,
          0.0021528325754570183,
          0,
          0.00005217566454054579,
          0.00023032715842158597,
          0.00007797166356395159,
          0.0028751480147709437,
          0.00018200918607134996,
          0,
          0.00499761139255959,
          0.00025791261024812233,
          0.0019035225226600096,
          0,
          0,
          0.0006424678029725082,
          0.0000227011932737211,
          0.000007168797875912284,
          0.0019816411328470746,
          0,
          0.000015585955381939194,
          0,
          0.0038566821039460377,
          0.004623403576769306,
          0.00019553033539841165,
          0.00052295213171788,
          0.0002928357799005061,
          0,
          0.0039050103762932444,
          0.000596376003296011,
          0.002420641422772949,
          0.0000787922299874868,
          0,
          0.0012997476882228975,
          0.00026226882229072235,
          0,
          0,
          0.00022915021210364572,
          0.0006714135410626692,
          0.0007383168279061214
         ],
         "yaxis": "y4"
        }
       ],
       "layout": {
        "annotations": [
         {
          "font": {
           "size": 16
          },
          "showarrow": false,
          "text": "Temperatura (K)",
          "x": 0.225,
          "xanchor": "center",
          "xref": "paper",
          "y": 1,
          "yanchor": "bottom",
          "yref": "paper"
         },
         {
          "font": {
           "size": 16
          },
          "showarrow": false,
          "text": "Velocidade dos ventos (ms-1)",
          "x": 0.775,
          "xanchor": "center",
          "xref": "paper",
          "y": 1,
          "yanchor": "bottom",
          "yref": "paper"
         },
         {
          "font": {
           "size": 16
          },
          "showarrow": false,
          "text": "Umidade Relativa",
          "x": 0.225,
          "xanchor": "center",
          "xref": "paper",
          "y": 0.375,
          "yanchor": "bottom",
          "yref": "paper"
         },
         {
          "font": {
           "size": 16
          },
          "showarrow": false,
          "text": "Acumulado de chuva",
          "x": 0.775,
          "xanchor": "center",
          "xref": "paper",
          "y": 0.375,
          "yanchor": "bottom",
          "yref": "paper"
         }
        ],
        "height": 800,
        "legend": {
         "orientation": "h",
         "x": 0.5,
         "xanchor": "center",
         "y": -0.2
        },
        "template": {
         "data": {
          "bar": [
           {
            "error_x": {
             "color": "#2a3f5f"
            },
            "error_y": {
             "color": "#2a3f5f"
            },
            "marker": {
             "line": {
              "color": "#E5ECF6",
              "width": 0.5
             },
             "pattern": {
              "fillmode": "overlay",
              "size": 10,
              "solidity": 0.2
             }
            },
            "type": "bar"
           }
          ],
          "barpolar": [
           {
            "marker": {
             "line": {
              "color": "#E5ECF6",
              "width": 0.5
             },
             "pattern": {
              "fillmode": "overlay",
              "size": 10,
              "solidity": 0.2
             }
            },
            "type": "barpolar"
           }
          ],
          "carpet": [
           {
            "aaxis": {
             "endlinecolor": "#2a3f5f",
             "gridcolor": "white",
             "linecolor": "white",
             "minorgridcolor": "white",
             "startlinecolor": "#2a3f5f"
            },
            "baxis": {
             "endlinecolor": "#2a3f5f",
             "gridcolor": "white",
             "linecolor": "white",
             "minorgridcolor": "white",
             "startlinecolor": "#2a3f5f"
            },
            "type": "carpet"
           }
          ],
          "choropleth": [
           {
            "colorbar": {
             "outlinewidth": 0,
             "ticks": ""
            },
            "type": "choropleth"
           }
          ],
          "contour": [
           {
            "colorbar": {
             "outlinewidth": 0,
             "ticks": ""
            },
            "colorscale": [
             [
              0,
              "#0d0887"
             ],
             [
              0.1111111111111111,
              "#46039f"
             ],
             [
              0.2222222222222222,
              "#7201a8"
             ],
             [
              0.3333333333333333,
              "#9c179e"
             ],
             [
              0.4444444444444444,
              "#bd3786"
             ],
             [
              0.5555555555555556,
              "#d8576b"
             ],
             [
              0.6666666666666666,
              "#ed7953"
             ],
             [
              0.7777777777777778,
              "#fb9f3a"
             ],
             [
              0.8888888888888888,
              "#fdca26"
             ],
             [
              1,
              "#f0f921"
             ]
            ],
            "type": "contour"
           }
          ],
          "contourcarpet": [
           {
            "colorbar": {
             "outlinewidth": 0,
             "ticks": ""
            },
            "type": "contourcarpet"
           }
          ],
          "heatmap": [
           {
            "colorbar": {
             "outlinewidth": 0,
             "ticks": ""
            },
            "colorscale": [
             [
              0,
              "#0d0887"
             ],
             [
              0.1111111111111111,
              "#46039f"
             ],
             [
              0.2222222222222222,
              "#7201a8"
             ],
             [
              0.3333333333333333,
              "#9c179e"
             ],
             [
              0.4444444444444444,
              "#bd3786"
             ],
             [
              0.5555555555555556,
              "#d8576b"
             ],
             [
              0.6666666666666666,
              "#ed7953"
             ],
             [
              0.7777777777777778,
              "#fb9f3a"
             ],
             [
              0.8888888888888888,
              "#fdca26"
             ],
             [
              1,
              "#f0f921"
             ]
            ],
            "type": "heatmap"
           }
          ],
          "heatmapgl": [
           {
            "colorbar": {
             "outlinewidth": 0,
             "ticks": ""
            },
            "colorscale": [
             [
              0,
              "#0d0887"
             ],
             [
              0.1111111111111111,
              "#46039f"
             ],
             [
              0.2222222222222222,
              "#7201a8"
             ],
             [
              0.3333333333333333,
              "#9c179e"
             ],
             [
              0.4444444444444444,
              "#bd3786"
             ],
             [
              0.5555555555555556,
              "#d8576b"
             ],
             [
              0.6666666666666666,
              "#ed7953"
             ],
             [
              0.7777777777777778,
              "#fb9f3a"
             ],
             [
              0.8888888888888888,
              "#fdca26"
             ],
             [
              1,
              "#f0f921"
             ]
            ],
            "type": "heatmapgl"
           }
          ],
          "histogram": [
           {
            "marker": {
             "pattern": {
              "fillmode": "overlay",
              "size": 10,
              "solidity": 0.2
             }
            },
            "type": "histogram"
           }
          ],
          "histogram2d": [
           {
            "colorbar": {
             "outlinewidth": 0,
             "ticks": ""
            },
            "colorscale": [
             [
              0,
              "#0d0887"
             ],
             [
              0.1111111111111111,
              "#46039f"
             ],
             [
              0.2222222222222222,
              "#7201a8"
             ],
             [
              0.3333333333333333,
              "#9c179e"
             ],
             [
              0.4444444444444444,
              "#bd3786"
             ],
             [
              0.5555555555555556,
              "#d8576b"
             ],
             [
              0.6666666666666666,
              "#ed7953"
             ],
             [
              0.7777777777777778,
              "#fb9f3a"
             ],
             [
              0.8888888888888888,
              "#fdca26"
             ],
             [
              1,
              "#f0f921"
             ]
            ],
            "type": "histogram2d"
           }
          ],
          "histogram2dcontour": [
           {
            "colorbar": {
             "outlinewidth": 0,
             "ticks": ""
            },
            "colorscale": [
             [
              0,
              "#0d0887"
             ],
             [
              0.1111111111111111,
              "#46039f"
             ],
             [
              0.2222222222222222,
              "#7201a8"
             ],
             [
              0.3333333333333333,
              "#9c179e"
             ],
             [
              0.4444444444444444,
              "#bd3786"
             ],
             [
              0.5555555555555556,
              "#d8576b"
             ],
             [
              0.6666666666666666,
              "#ed7953"
             ],
             [
              0.7777777777777778,
              "#fb9f3a"
             ],
             [
              0.8888888888888888,
              "#fdca26"
             ],
             [
              1,
              "#f0f921"
             ]
            ],
            "type": "histogram2dcontour"
           }
          ],
          "mesh3d": [
           {
            "colorbar": {
             "outlinewidth": 0,
             "ticks": ""
            },
            "type": "mesh3d"
           }
          ],
          "parcoords": [
           {
            "line": {
             "colorbar": {
              "outlinewidth": 0,
              "ticks": ""
             }
            },
            "type": "parcoords"
           }
          ],
          "pie": [
           {
            "automargin": true,
            "type": "pie"
           }
          ],
          "scatter": [
           {
            "fillpattern": {
             "fillmode": "overlay",
             "size": 10,
             "solidity": 0.2
            },
            "type": "scatter"
           }
          ],
          "scatter3d": [
           {
            "line": {
             "colorbar": {
              "outlinewidth": 0,
              "ticks": ""
             }
            },
            "marker": {
             "colorbar": {
              "outlinewidth": 0,
              "ticks": ""
             }
            },
            "type": "scatter3d"
           }
          ],
          "scattercarpet": [
           {
            "marker": {
             "colorbar": {
              "outlinewidth": 0,
              "ticks": ""
             }
            },
            "type": "scattercarpet"
           }
          ],
          "scattergeo": [
           {
            "marker": {
             "colorbar": {
              "outlinewidth": 0,
              "ticks": ""
             }
            },
            "type": "scattergeo"
           }
          ],
          "scattergl": [
           {
            "marker": {
             "colorbar": {
              "outlinewidth": 0,
              "ticks": ""
             }
            },
            "type": "scattergl"
           }
          ],
          "scattermapbox": [
           {
            "marker": {
             "colorbar": {
              "outlinewidth": 0,
              "ticks": ""
             }
            },
            "type": "scattermapbox"
           }
          ],
          "scatterpolar": [
           {
            "marker": {
             "colorbar": {
              "outlinewidth": 0,
              "ticks": ""
             }
            },
            "type": "scatterpolar"
           }
          ],
          "scatterpolargl": [
           {
            "marker": {
             "colorbar": {
              "outlinewidth": 0,
              "ticks": ""
             }
            },
            "type": "scatterpolargl"
           }
          ],
          "scatterternary": [
           {
            "marker": {
             "colorbar": {
              "outlinewidth": 0,
              "ticks": ""
             }
            },
            "type": "scatterternary"
           }
          ],
          "surface": [
           {
            "colorbar": {
             "outlinewidth": 0,
             "ticks": ""
            },
            "colorscale": [
             [
              0,
              "#0d0887"
             ],
             [
              0.1111111111111111,
              "#46039f"
             ],
             [
              0.2222222222222222,
              "#7201a8"
             ],
             [
              0.3333333333333333,
              "#9c179e"
             ],
             [
              0.4444444444444444,
              "#bd3786"
             ],
             [
              0.5555555555555556,
              "#d8576b"
             ],
             [
              0.6666666666666666,
              "#ed7953"
             ],
             [
              0.7777777777777778,
              "#fb9f3a"
             ],
             [
              0.8888888888888888,
              "#fdca26"
             ],
             [
              1,
              "#f0f921"
             ]
            ],
            "type": "surface"
           }
          ],
          "table": [
           {
            "cells": {
             "fill": {
              "color": "#EBF0F8"
             },
             "line": {
              "color": "white"
             }
            },
            "header": {
             "fill": {
              "color": "#C8D4E3"
             },
             "line": {
              "color": "white"
             }
            },
            "type": "table"
           }
          ]
         },
         "layout": {
          "annotationdefaults": {
           "arrowcolor": "#2a3f5f",
           "arrowhead": 0,
           "arrowwidth": 1
          },
          "autotypenumbers": "strict",
          "coloraxis": {
           "colorbar": {
            "outlinewidth": 0,
            "ticks": ""
           }
          },
          "colorscale": {
           "diverging": [
            [
             0,
             "#8e0152"
            ],
            [
             0.1,
             "#c51b7d"
            ],
            [
             0.2,
             "#de77ae"
            ],
            [
             0.3,
             "#f1b6da"
            ],
            [
             0.4,
             "#fde0ef"
            ],
            [
             0.5,
             "#f7f7f7"
            ],
            [
             0.6,
             "#e6f5d0"
            ],
            [
             0.7,
             "#b8e186"
            ],
            [
             0.8,
             "#7fbc41"
            ],
            [
             0.9,
             "#4d9221"
            ],
            [
             1,
             "#276419"
            ]
           ],
           "sequential": [
            [
             0,
             "#0d0887"
            ],
            [
             0.1111111111111111,
             "#46039f"
            ],
            [
             0.2222222222222222,
             "#7201a8"
            ],
            [
             0.3333333333333333,
             "#9c179e"
            ],
            [
             0.4444444444444444,
             "#bd3786"
            ],
            [
             0.5555555555555556,
             "#d8576b"
            ],
            [
             0.6666666666666666,
             "#ed7953"
            ],
            [
             0.7777777777777778,
             "#fb9f3a"
            ],
            [
             0.8888888888888888,
             "#fdca26"
            ],
            [
             1,
             "#f0f921"
            ]
           ],
           "sequentialminus": [
            [
             0,
             "#0d0887"
            ],
            [
             0.1111111111111111,
             "#46039f"
            ],
            [
             0.2222222222222222,
             "#7201a8"
            ],
            [
             0.3333333333333333,
             "#9c179e"
            ],
            [
             0.4444444444444444,
             "#bd3786"
            ],
            [
             0.5555555555555556,
             "#d8576b"
            ],
            [
             0.6666666666666666,
             "#ed7953"
            ],
            [
             0.7777777777777778,
             "#fb9f3a"
            ],
            [
             0.8888888888888888,
             "#fdca26"
            ],
            [
             1,
             "#f0f921"
            ]
           ]
          },
          "colorway": [
           "#636efa",
           "#EF553B",
           "#00cc96",
           "#ab63fa",
           "#FFA15A",
           "#19d3f3",
           "#FF6692",
           "#B6E880",
           "#FF97FF",
           "#FECB52"
          ],
          "font": {
           "color": "#2a3f5f"
          },
          "geo": {
           "bgcolor": "white",
           "lakecolor": "white",
           "landcolor": "#E5ECF6",
           "showlakes": true,
           "showland": true,
           "subunitcolor": "white"
          },
          "hoverlabel": {
           "align": "left"
          },
          "hovermode": "closest",
          "mapbox": {
           "style": "light"
          },
          "paper_bgcolor": "white",
          "plot_bgcolor": "#E5ECF6",
          "polar": {
           "angularaxis": {
            "gridcolor": "white",
            "linecolor": "white",
            "ticks": ""
           },
           "bgcolor": "#E5ECF6",
           "radialaxis": {
            "gridcolor": "white",
            "linecolor": "white",
            "ticks": ""
           }
          },
          "scene": {
           "xaxis": {
            "backgroundcolor": "#E5ECF6",
            "gridcolor": "white",
            "gridwidth": 2,
            "linecolor": "white",
            "showbackground": true,
            "ticks": "",
            "zerolinecolor": "white"
           },
           "yaxis": {
            "backgroundcolor": "#E5ECF6",
            "gridcolor": "white",
            "gridwidth": 2,
            "linecolor": "white",
            "showbackground": true,
            "ticks": "",
            "zerolinecolor": "white"
           },
           "zaxis": {
            "backgroundcolor": "#E5ECF6",
            "gridcolor": "white",
            "gridwidth": 2,
            "linecolor": "white",
            "showbackground": true,
            "ticks": "",
            "zerolinecolor": "white"
           }
          },
          "shapedefaults": {
           "line": {
            "color": "#2a3f5f"
           }
          },
          "ternary": {
           "aaxis": {
            "gridcolor": "white",
            "linecolor": "white",
            "ticks": ""
           },
           "baxis": {
            "gridcolor": "white",
            "linecolor": "white",
            "ticks": ""
           },
           "bgcolor": "#E5ECF6",
           "caxis": {
            "gridcolor": "white",
            "linecolor": "white",
            "ticks": ""
           }
          },
          "title": {
           "x": 0.05
          },
          "xaxis": {
           "automargin": true,
           "gridcolor": "white",
           "linecolor": "white",
           "ticks": "",
           "title": {
            "standoff": 15
           },
           "zerolinecolor": "white",
           "zerolinewidth": 2
          },
          "yaxis": {
           "automargin": true,
           "gridcolor": "white",
           "linecolor": "white",
           "ticks": "",
           "title": {
            "standoff": 15
           },
           "zerolinecolor": "white",
           "zerolinewidth": 2
          }
         }
        },
        "title": {
         "text": "Previsões com previso GFS"
        },
        "width": 1000,
        "xaxis": {
         "anchor": "y",
         "domain": [
          0,
          0.45
         ]
        },
        "xaxis2": {
         "anchor": "y2",
         "domain": [
          0.55,
          1
         ]
        },
        "xaxis3": {
         "anchor": "y3",
         "domain": [
          0,
          0.45
         ]
        },
        "xaxis4": {
         "anchor": "y4",
         "domain": [
          0.55,
          1
         ]
        },
        "yaxis": {
         "anchor": "x",
         "domain": [
          0.625,
          1
         ]
        },
        "yaxis2": {
         "anchor": "x2",
         "domain": [
          0.625,
          1
         ]
        },
        "yaxis3": {
         "anchor": "x3",
         "domain": [
          0,
          0.375
         ]
        },
        "yaxis4": {
         "anchor": "x4",
         "domain": [
          0,
          0.375
         ]
        }
       }
      }
     },
     "metadata": {},
     "output_type": "display_data"
    }
   ],
   "source": [
    "make_windy_plots(windy_prec)"
   ]
  },
  {
   "cell_type": "code",
   "execution_count": 164,
   "metadata": {},
   "outputs": [],
   "source": [
    "mun = pd.read_csv('/home/ayumi/final_project_university/analytics-project/analytics-tcc/municipios.csv')"
   ]
  },
  {
   "cell_type": "code",
   "execution_count": 183,
   "metadata": {},
   "outputs": [
    {
     "data": {
      "text/plain": [
       "-23.1896"
      ]
     },
     "execution_count": 183,
     "metadata": {},
     "output_type": "execute_result"
    }
   ],
   "source": [
    "option = 'São José dos Campos'\n",
    "mun[mun.nome == option]['latitude'].values[0]"
   ]
  }
 ],
 "metadata": {
  "kernelspec": {
   "display_name": "Python 3",
   "language": "python",
   "name": "python3"
  },
  "language_info": {
   "codemirror_mode": {
    "name": "ipython",
    "version": 3
   },
   "file_extension": ".py",
   "mimetype": "text/x-python",
   "name": "python",
   "nbconvert_exporter": "python",
   "pygments_lexer": "ipython3",
   "version": "3.10.5"
  }
 },
 "nbformat": 4,
 "nbformat_minor": 2
}
