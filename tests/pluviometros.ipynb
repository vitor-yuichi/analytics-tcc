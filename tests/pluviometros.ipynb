{
 "cells": [
  {
   "cell_type": "code",
   "execution_count": 2,
   "metadata": {},
   "outputs": [],
   "source": [
    "import pandas as pd \n",
    "import numpy as np\n",
    "import os"
   ]
  },
  {
   "cell_type": "code",
   "execution_count": 51,
   "metadata": {},
   "outputs": [],
   "source": [
    "PATH_TO_FILE = '/home/ayumi/final_project_university/analytics-data/rain_gauges'"
   ]
  },
  {
   "cell_type": "code",
   "execution_count": 62,
   "metadata": {},
   "outputs": [
    {
     "data": {
      "text/plain": [
       "567"
      ]
     },
     "execution_count": 62,
     "metadata": {},
     "output_type": "execute_result"
    }
   ],
   "source": [
    "len(file_name_list)"
   ]
  },
  {
   "cell_type": "code",
   "execution_count": 78,
   "metadata": {},
   "outputs": [],
   "source": [
    "\n",
    "file_name_list = os.listdir(PATH_TO_FILE)\n",
    "end_value = min(567, len(file_name_list))\n",
    "# Iterar sobre os intervalos de 10 em 10 até o valor 567 ou o número total de arquivos\n",
    "for start_index in range(0, end_value, 10):\n",
    "    end_index = min(start_index + 9, end_value - 1)\n",
    "    lista = []\n",
    "    \n",
    "    for file_name in file_name_list[start_index:end_index + 1]:\n",
    "        # Seu código atual aqui\n",
    "\n",
    "(PATH_TO_FILE, file_name),\n",
    "                               header=0,\n",
    "                               nrows=8,\n",
    "                               encoding='iso-8859-1',\n",
    "                               sep=';',\n",
    "                               decimal=',',\n",
    "                               on_bad_lines='skip')\n",
    "\n",
    "        df = pd.read_csv(os.path.join(PATH_TO_FILE, file_name),\n",
    "                         header=8,\n",
    "                         encoding='iso-8859-1',\n",
    "                         sep=';',\n",
    "                         decimal=',')\n",
    "\n",
    "        rain_by_month = df[['Data', 'PRECIPITAÇÃO TOTAL, HORÁRIO (mm)']].groupby('Data')[\n",
    "            'PRECIPITAÇÃO TOTAL, HORÁRIO (mm)'].sum()\n",
    "\n",
    "        lista.append({\n",
    "            'nome_estacao': file_name[:-4],\n",
    "            'UF': metadata.iloc[0, 1],\n",
    "            'ESTACAO': metadata.iloc[1, 1],\n",
    "            'CODIGO': metadata.iloc[2, 1],\n",
    "            'LATITUDE': float(metadata.iloc[3, 1].replace(',', '.')),\n",
    "            'LONGITUDE': float(metadata.iloc[4, 1].replace(',', '.')),\n",
    "            'PLUVIO_ORIGEM': metadata.iloc[6, 1],\n",
    "            'acumulado_dia': dict(zip(rain_by_month.index, rain_by_month))\n",
    "        })\n",
    "    collection.insert_many(lista)\n",
    "        "
   ]
  },
  {
   "cell_type": "markdown",
   "metadata": {},
   "source": [
    "## Query data"
   ]
  },
  {
   "cell_type": "code",
   "execution_count": null,
   "metadata": {},
   "outputs": [],
   "source": []
  }
 ],
 "metadata": {
  "kernelspec": {
   "display_name": "Python 3",
   "language": "python",
   "name": "python3"
  },
  "language_info": {
   "codemirror_mode": {
    "name": "ipython",
    "version": 3
   },
   "file_extension": ".py",
   "mimetype": "text/x-python",
   "name": "python",
   "nbconvert_exporter": "python",
   "pygments_lexer": "ipython3",
   "version": "3.10.0"
  }
 },
 "nbformat": 4,
 "nbformat_minor": 2
}
