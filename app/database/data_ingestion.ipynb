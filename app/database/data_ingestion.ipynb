{
 "cells": [
  {
   "cell_type": "code",
   "execution_count": 30,
   "metadata": {},
   "outputs": [],
   "source": [
    "import pandas as pd \n",
    "import numpy as np \n",
    "import os \n",
    "from setup.connector import get_database\n",
    "from datetime import datetime"
   ]
  },
  {
   "cell_type": "markdown",
   "metadata": {},
   "source": [
    "## Floods data ingestion"
   ]
  },
  {
   "cell_type": "code",
   "execution_count": 4,
   "metadata": {},
   "outputs": [],
   "source": [
    "df = pd.read_csv(r'/home/ayumi/final_project_university/analytics-data/floods/floods_sp.csv')"
   ]
  },
  {
   "cell_type": "code",
   "execution_count": 6,
   "metadata": {},
   "outputs": [],
   "source": [
    "df = df[['LONG', 'LAT', 'LOCAL_ED', 'REFERENCIA', 'DATA', 'H_INICIO', 'H_FIM']]"
   ]
  },
  {
   "cell_type": "code",
   "execution_count": 26,
   "metadata": {},
   "outputs": [
    {
     "data": {
      "text/html": [
       "<div>\n",
       "<style scoped>\n",
       "    .dataframe tbody tr th:only-of-type {\n",
       "        vertical-align: middle;\n",
       "    }\n",
       "\n",
       "    .dataframe tbody tr th {\n",
       "        vertical-align: top;\n",
       "    }\n",
       "\n",
       "    .dataframe thead th {\n",
       "        text-align: right;\n",
       "    }\n",
       "</style>\n",
       "<table border=\"1\" class=\"dataframe\">\n",
       "  <thead>\n",
       "    <tr style=\"text-align: right;\">\n",
       "      <th></th>\n",
       "      <th>LONG</th>\n",
       "      <th>LAT</th>\n",
       "      <th>LOCAL_ED</th>\n",
       "      <th>REFERENCIA</th>\n",
       "      <th>DATA</th>\n",
       "      <th>H_INICIO</th>\n",
       "      <th>H_FIM</th>\n",
       "    </tr>\n",
       "  </thead>\n",
       "  <tbody>\n",
       "    <tr>\n",
       "      <th>0</th>\n",
       "      <td>-46.406760</td>\n",
       "      <td>-23.498280</td>\n",
       "      <td>R MANUEL B DE LIMA</td>\n",
       "      <td>SEM NUMERO-AMBOS-IT</td>\n",
       "      <td>2019/01/01</td>\n",
       "      <td>16:12:00</td>\n",
       "      <td>17:30:00</td>\n",
       "    </tr>\n",
       "    <tr>\n",
       "      <th>1</th>\n",
       "      <td>-46.457200</td>\n",
       "      <td>-23.528865</td>\n",
       "      <td>AV JACU PESSEGO</td>\n",
       "      <td>R MONTANHAS - MAUA/A SENNA</td>\n",
       "      <td>2019/01/01</td>\n",
       "      <td>16:25:00</td>\n",
       "      <td>17:23:00</td>\n",
       "    </tr>\n",
       "    <tr>\n",
       "      <th>2</th>\n",
       "      <td>-46.752870</td>\n",
       "      <td>-23.402870</td>\n",
       "      <td>R CRISPIM DO AMARAL</td>\n",
       "      <td>ALTURA DO NUMERO 102-CENTROBAIRRO-PR</td>\n",
       "      <td>2019/01/01</td>\n",
       "      <td>17:16:00</td>\n",
       "      <td>22:29:00</td>\n",
       "    </tr>\n",
       "    <tr>\n",
       "      <th>3</th>\n",
       "      <td>-46.753120</td>\n",
       "      <td>-23.403920</td>\n",
       "      <td>PC INACIO DIAS</td>\n",
       "      <td>R CRISPIM DO AMARAL-AMBOS-PR</td>\n",
       "      <td>2019/01/01</td>\n",
       "      <td>17:33:00</td>\n",
       "      <td>22:29:00</td>\n",
       "    </tr>\n",
       "    <tr>\n",
       "      <th>4</th>\n",
       "      <td>-46.750699</td>\n",
       "      <td>-23.407361</td>\n",
       "      <td>R FRANCIS DE CASTELNAU</td>\n",
       "      <td>ALTURA DO NUMERO 10-AMBOS-PR</td>\n",
       "      <td>2019/01/01</td>\n",
       "      <td>18:01:00</td>\n",
       "      <td>22:29:00</td>\n",
       "    </tr>\n",
       "    <tr>\n",
       "      <th>...</th>\n",
       "      <td>...</td>\n",
       "      <td>...</td>\n",
       "      <td>...</td>\n",
       "      <td>...</td>\n",
       "      <td>...</td>\n",
       "      <td>...</td>\n",
       "      <td>...</td>\n",
       "    </tr>\n",
       "    <tr>\n",
       "      <th>1160</th>\n",
       "      <td>-46.627042</td>\n",
       "      <td>-23.543123</td>\n",
       "      <td>AV MERCURIO</td>\n",
       "      <td>PC S VITO - BAIRRO/CENTRO</td>\n",
       "      <td>2019/12/23</td>\n",
       "      <td>19:09:00</td>\n",
       "      <td>21:24:00</td>\n",
       "    </tr>\n",
       "    <tr>\n",
       "      <th>1161</th>\n",
       "      <td>-46.623985</td>\n",
       "      <td>-23.511533</td>\n",
       "      <td>AV ZAKI NARCHI</td>\n",
       "      <td>R URUPIARA - AMBOS - UNICA</td>\n",
       "      <td>2019/12/23</td>\n",
       "      <td>20:10:00</td>\n",
       "      <td>20:28:00</td>\n",
       "    </tr>\n",
       "    <tr>\n",
       "      <th>1162</th>\n",
       "      <td>-46.666610</td>\n",
       "      <td>-23.514270</td>\n",
       "      <td>MARGINAL TIETE</td>\n",
       "      <td>PONTE DO LIM├âO - AS/CB</td>\n",
       "      <td>2019/12/31</td>\n",
       "      <td>15:26:00</td>\n",
       "      <td>16:25:00</td>\n",
       "    </tr>\n",
       "    <tr>\n",
       "      <th>1163</th>\n",
       "      <td>-46.653830</td>\n",
       "      <td>-23.515610</td>\n",
       "      <td>MARGINAL TIETE</td>\n",
       "      <td>PONTE DA CASA VERDE - AS/CB</td>\n",
       "      <td>2019/12/31</td>\n",
       "      <td>15:27:00</td>\n",
       "      <td>16:26:00</td>\n",
       "    </tr>\n",
       "    <tr>\n",
       "      <th>1164</th>\n",
       "      <td>-46.675160</td>\n",
       "      <td>-23.519230</td>\n",
       "      <td>PC PASCOAL MARTINS</td>\n",
       "      <td>AV MARQ DE SAO VICENTE - B/C</td>\n",
       "      <td>2019/12/31</td>\n",
       "      <td>15:29:00</td>\n",
       "      <td>15:47:00</td>\n",
       "    </tr>\n",
       "  </tbody>\n",
       "</table>\n",
       "<p>1165 rows × 7 columns</p>\n",
       "</div>"
      ],
      "text/plain": [
       "           LONG        LAT                LOCAL_ED  \\\n",
       "0    -46.406760 -23.498280      R MANUEL B DE LIMA   \n",
       "1    -46.457200 -23.528865         AV JACU PESSEGO   \n",
       "2    -46.752870 -23.402870     R CRISPIM DO AMARAL   \n",
       "3    -46.753120 -23.403920          PC INACIO DIAS   \n",
       "4    -46.750699 -23.407361  R FRANCIS DE CASTELNAU   \n",
       "...         ...        ...                     ...   \n",
       "1160 -46.627042 -23.543123             AV MERCURIO   \n",
       "1161 -46.623985 -23.511533          AV ZAKI NARCHI   \n",
       "1162 -46.666610 -23.514270          MARGINAL TIETE   \n",
       "1163 -46.653830 -23.515610          MARGINAL TIETE   \n",
       "1164 -46.675160 -23.519230      PC PASCOAL MARTINS   \n",
       "\n",
       "                                REFERENCIA        DATA  H_INICIO     H_FIM  \n",
       "0                      SEM NUMERO-AMBOS-IT  2019/01/01  16:12:00  17:30:00  \n",
       "1               R MONTANHAS - MAUA/A SENNA  2019/01/01  16:25:00  17:23:00  \n",
       "2     ALTURA DO NUMERO 102-CENTROBAIRRO-PR  2019/01/01  17:16:00  22:29:00  \n",
       "3             R CRISPIM DO AMARAL-AMBOS-PR  2019/01/01  17:33:00  22:29:00  \n",
       "4             ALTURA DO NUMERO 10-AMBOS-PR  2019/01/01  18:01:00  22:29:00  \n",
       "...                                    ...         ...       ...       ...  \n",
       "1160             PC S VITO - BAIRRO/CENTRO  2019/12/23  19:09:00  21:24:00  \n",
       "1161            R URUPIARA - AMBOS - UNICA  2019/12/23  20:10:00  20:28:00  \n",
       "1162               PONTE DO LIM├âO - AS/CB  2019/12/31  15:26:00  16:25:00  \n",
       "1163           PONTE DA CASA VERDE - AS/CB  2019/12/31  15:27:00  16:26:00  \n",
       "1164          AV MARQ DE SAO VICENTE - B/C  2019/12/31  15:29:00  15:47:00  \n",
       "\n",
       "[1165 rows x 7 columns]"
      ]
     },
     "execution_count": 26,
     "metadata": {},
     "output_type": "execute_result"
    }
   ],
   "source": [
    "df"
   ]
  },
  {
   "cell_type": "code",
   "execution_count": 27,
   "metadata": {},
   "outputs": [],
   "source": [
    "floods_list_json = []\n",
    "for index, row in df.iterrows():\n",
    "\n",
    "    floods_list_json.append({\n",
    "        'LONGITUDE': row['LONG'],\n",
    "        'LATITUDE['Nome do Município'],\n",
    "        'CHEIA_2015': row['Ocorrência de Cheias em 2015'],\n",
    "        'CHEIA_2016': row['Cocorrência de Cheias em 2016'],\n",
    "        'CHEIA_2ow['Nome do Município'],\n",
    "        'CHEIA_2015': row['Ocorrência de Cheias em 2015'],\n",
    "        'CHEIA_2016': row['Cocorrência de Cheias em 2016'],\n",
    "        'CHEIA_2': row['LAT'],\n",
    "        'LOCAL_ED': row['LOCAL_ED'],\n",
    "        'REFERENCIA': row['REFERENCIA'],\n",
    "        'DATA': datetime.strptime(row['DATA'],  \"%Y/%m/%d\"),\n",
    "        'H_INICIO': row['H_INICIO'],\n",
    "        'H_FIM': row['H_FIM']\n",
    "    })\n"
   ]
  },
  {
   "cell_type": "code",
   "execution_count": 24,
   "metadata": {},
   "outputs": [],
   "source": [
    "# db = get_database('/home/ayumi/final_projecinundations_list = []t_university/analytics-data/data_connection/database.txt', 'rain_gauges')\n",
    "# collection = db['floods_sp_20190']\n",
    "# collection.insert_many(floods_list_json)"
   ]
  },
  {
   "cell_type": "markdown",
   "metadata": {},
   "source": [
    "## ingresso dos dados de inundação"
   ]
  },
  {
   "cell_type": "code",
   "execution_count": 34,
   "metadata": {},
   "outputs": [],
   "source": [
    "table1  = pd.read_csv(r'/home/ayumi/final_project_university/analytics-data/inundacoes/Número de registros de inundações por município entre 2003 e 2016.csv',\n",
    "                      sep =';')"
   ]
  },
  {
   "cell_type": "code",
   "execution_count": 44,
   "metadata": {},
   "outputs": [],
   "source": [
    "table1 = table1[['Nome do Município', 'Ocorrência de Cheias em 2015',\n",
    "                  'Cocorrência de Cheias em 2016', 'Ocorrência de Cheias de 2003 a 2016', \n",
    "                  'Ocorrência de Secas de 2003 a 2016', 'Ocorrência de Secas em 2015']]"
   ]
  },
  {
   "cell_type": "code",
   "execution_count": 48,
   "metadata": {},
   "outputs": [],
   "source": [
    "inundations_list = []\n",
    "for index, row in table1.iterrows():\n",
    "    inundations_list.append({\n",
    "        'MUN': rfolium.Marker([row['LATITUDE'], row['LONGITUDE'], popup=row['LOCAL_ED'],\n",
    "                       icon=folium.Icon(color=\"blue\", icon=\"fa-solid fa-house-flood-water\", prefix='fa')\n",
    "                       ).add_to(my_map)003_2016': row['Ocorrência de Cheias de 2003 a 2016'],\n",
    "        'SECA_2003_2026': row['Ocorrência de Secas de 2003 a 2016']        \n",
    "    })\n",
    "    "
   ]
  },
  {
   "cell_type": "code",
   "execution_count": 49,
   "metadata": {},
   "outputs": [
    {
     "data": {
      "text/plain": [
       "InsertManyResult([ObjectId('65c41f34c7f5df1a116f32ec'), ObjectId('65c41f34c7f5df1a116f32ed'), ObjectId('65c41f34c7f5df1a116f32ee'), ObjectId('65c41f34c7f5df1a116f32ef'), ObjectId('65c41f34c7f5df1a116f32f0'), ObjectId('65c41f34c7f5df1a116f32f1'), ObjectId('65c41f34c7f5df1a116f32f2'), ObjectId('65c41f34c7f5df1a116f32f3'), ObjectId('65c41f34c7f5df1a116f32f4'), ObjectId('65c41f34c7f5df1a116f32f5'), ObjectId('65c41f34c7f5df1a116f32f6'), ObjectId('65c41f34c7f5df1a116f32f7'), ObjectId('65c41f34c7f5df1a116f32f8'), ObjectId('65c41f34c7f5df1a116f32f9'), ObjectId('65c41f34c7f5df1a116f32fa'), ObjectId('65c41f34c7f5df1a116f32fb'), ObjectId('65c41f34c7f5df1a116f32fc'), ObjectId('65c41f34c7f5df1a116f32fd'), ObjectId('65c41f34c7f5df1a116f32fe'), ObjectId('65c41f34c7f5df1a116f32ff'), ObjectId('65c41f34c7f5df1a116f3300'), ObjectId('65c41f34c7f5df1a116f3301'), ObjectId('65c41f34c7f5df1a116f3302'), ObjectId('65c41f34c7f5df1a116f3303'), ObjectId('65c41f34c7f5df1a116f3304'), ObjectId('65c41f34c7f5df1a116f3305'), ObjectId('65c41f34c7f5df1a116f3306'), ObjectId('65c41f34c7f5df1a116f3307'), ObjectId('65c41f34c7f5df1a116f3308'), ObjectId('65c41f34c7f5df1a116f3309'), ObjectId('65c41f34c7f5df1a116f330a'), ObjectId('65c41f34c7f5df1a116f330b'), ObjectId('65c41f34c7f5df1a116f330c'), ObjectId('65c41f34c7f5df1a116f330d'), ObjectId('65c41f34c7f5df1a116f330e'), ObjectId('65c41f34c7f5df1a116f330f'), ObjectId('65c41f34c7f5df1a116f3310'), ObjectId('65c41f34c7f5df1a116f3311'), ObjectId('65c41f34c7f5df1a116f3312'), ObjectId('65c41f34c7f5df1a116f3313'), ObjectId('65c41f34c7f5df1a116f3314'), ObjectId('65c41f34c7f5df1a116f3315'), ObjectId('65c41f34c7f5df1a116f3316'), ObjectId('65c41f34c7f5df1a116f3317'), ObjectId('65c41f34c7f5df1a116f3318'), ObjectId('65c41f34c7f5df1a116f3319'), ObjectId('65c41f34c7f5df1a116f331a'), ObjectId('65c41f34c7f5df1a116f331b'), ObjectId('65c41f34c7f5df1a116f331c'), ObjectId('65c41f34c7f5df1a116f331d'), ObjectId('65c41f34c7f5df1a116f331e'), ObjectId('65c41f34c7f5df1a116f331f'), ObjectId('65c41f34c7f5df1a116f3320'), ObjectId('65c41f34c7f5df1a116f3321'), ObjectId('65c41f34c7f5df1a116f3322'), ObjectId('65c41f34c7f5df1a116f3323'), ObjectId('65c41f34c7f5df1a116f3324'), ObjectId('65c41f34c7f5df1a116f3325'), ObjectId('65c41f34c7f5df1a116f3326'), ObjectId('65c41f34c7f5df1a116f3327'), ObjectId('65c41f34c7f5df1a116f3328'), ObjectId('65c41f34c7f5df1a116f3329'), ObjectId('65c41f34c7f5df1a116f332a'), ObjectId('65c41f34c7f5df1a116f332b'), ObjectId('65c41f34c7f5df1a116f332c'), ObjectId('65c41f34c7f5df1a116f332d'), ObjectId('65c41f34c7f5df1a116f332e'), ObjectId('65c41f34c7f5df1a116f332f'), ObjectId('65c41f34c7f5df1a116f3330'), ObjectId('65c41f34c7f5df1a116f3331'), ObjectId('65c41f34c7f5df1a116f3332'), ObjectId('65c41f34c7f5df1a116f3333'), ObjectId('65c41f34c7f5df1a116f3334'), ObjectId('65c41f34c7f5df1a116f3335'), ObjectId('65c41f34c7f5df1a116f3336'), ObjectId('65c41f34c7f5df1a116f3337'), ObjectId('65c41f34c7f5df1a116f3338'), ObjectId('65c41f34c7f5df1a116f3339'), ObjectId('65c41f34c7f5df1a116f333a'), ObjectId('65c41f34c7f5df1a116f333b'), ObjectId('65c41f34c7f5df1a116f333c'), ObjectId('65c41f34c7f5df1a116f333d'), ObjectId('65c41f34c7f5df1a116f333e'), ObjectId('65c41f34c7f5df1a116f333f'), ObjectId('65c41f34c7f5df1a116f3340'), ObjectId('65c41f34c7f5df1a116f3341'), ObjectId('65c41f34c7f5df1a116f3342'), ObjectId('65c41f34c7f5df1a116f3343'), ObjectId('65c41f34c7f5df1a116f3344'), ObjectId('65c41f34c7f5df1a116f3345'), ObjectId('65c41f34c7f5df1a116f3346'), ObjectId('65c41f34c7f5df1a116f3347'), ObjectId('65c41f34c7f5df1a116f3348'), ObjectId('65c41f34c7f5df1a116f3349'), ObjectId('65c41f34c7f5df1a116f334a'), ObjectId('65c41f34c7f5df1a116f334b'), ObjectId('65c41f34c7f5df1a116f334c'), ObjectId('65c41f34c7f5df1a116f334d'), ObjectId('65c41f34c7f5df1a116f334e'), ObjectId('65c41f34c7f5df1a116f334f'), ObjectId('65c41f34c7f5df1a116f3350'), ObjectId('65c41f34c7f5df1a116f3351'), ObjectId('65c41f34c7f5df1a116f3352'), ObjectId('65c41f34c7f5df1a116f3353'), ObjectId('65c41f34c7f5df1a116f3354'), ObjectId('65c41f34c7f5df1a116f3355'), ObjectId('65c41f34c7f5df1a116f3356'), ObjectId('65c41f34c7f5df1a116f3357'), ObjectId('65c41f34c7f5df1a116f3358'), ObjectId('65c41f34c7f5df1a116f3359'), ObjectId('65c41f34c7f5df1a116f335a'), ObjectId('65c41f34c7f5df1a116f335b'), ObjectId('65c41f34c7f5df1a116f335c'), ObjectId('65c41f34c7f5df1a116f335d'), ObjectId('65c41f34c7f5df1a116f335e'), ObjectId('65c41f34c7f5df1a116f335f'), ObjectId('65c41f34c7f5df1a116f3360'), ObjectId('65c41f34c7f5df1a116f3361'), ObjectId('65c41f34c7f5df1a116f3362'), ObjectId('65c41f34c7f5df1a116f3363'), ObjectId('65c41f34c7f5df1a116f3364'), ObjectId('65c41f34c7f5df1a116f3365'), ObjectId('65c41f34c7f5df1a116f3366'), ObjectId('65c41f34c7f5df1a116f3367'), ObjectId('65c41f34c7f5df1a116f3368'), ObjectId('65c41f34c7f5df1a116f3369'), ObjectId('65c41f34c7f5df1a116f336a'), ObjectId('65c41f34c7f5df1a116f336b'), ObjectId('65c41f34c7f5df1a116f336c'), ObjectId('65c41f34c7f5df1a116f336d'), ObjectId('65c41f34c7f5df1a116f336e'), ObjectId('65c41f34c7f5df1a116f336f'), ObjectId('65c41f34c7f5df1a116f3370'), ObjectId('65c41f34c7f5df1a116f3371'), ObjectId('65c41f34c7f5df1a116f3372'), ObjectId('65c41f34c7f5df1a116f3373'), ObjectId('65c41f34c7f5df1a116f3374'), ObjectId('65c41f34c7f5df1a116f3375'), ObjectId('65c41f34c7f5df1a116f3376'), ObjectId('65c41f34c7f5df1a116f3377'), ObjectId('65c41f34c7f5df1a116f3378'), ObjectId('65c41f34c7f5df1a116f3379'), ObjectId('65c41f34c7f5df1a116f337a'), ObjectId('65c41f34c7f5df1a116f337b'), ObjectId('65c41f34c7f5df1a116f337c'), ObjectId('65c41f34c7f5df1a116f337d'), ObjectId('65c41f34c7f5df1a116f337e'), ObjectId('65c41f34c7f5df1a116f337f'), ObjectId('65c41f34c7f5df1a116f3380'), ObjectId('65c41f34c7f5df1a116f3381'), ObjectId('65c41f34c7f5df1a116f3382'), ObjectId('65c41f34c7f5df1a116f3383'), ObjectId('65c41f34c7f5df1a116f3384'), ObjectId('65c41f34c7f5df1a116f3385'), ObjectId('65c41f34c7f5df1a116f3386'), ObjectId('65c41f34c7f5df1a116f3387'), ObjectId('65c41f34c7f5df1a116f3388'), ObjectId('65c41f34c7f5df1a116f3389'), ObjectId('65c41f34c7f5df1a116f338a'), ObjectId('65c41f34c7f5df1a116f338b'), ObjectId('65c41f34c7f5df1a116f338c'), ObjectId('65c41f34c7f5df1a116f338d'), ObjectId('65c41f34c7f5df1a116f338e'), ObjectId('65c41f34c7f5df1a116f338f'), ObjectId('65c41f34c7f5df1a116f3390'), ObjectId('65c41f34c7f5df1a116f3391'), ObjectId('65c41f34c7f5df1a116f3392'), ObjectId('65c41f34c7f5df1a116f3393'), ObjectId('65c41f34c7f5df1a116f3394'), ObjectId('65c41f34c7f5df1a116f3395'), ObjectId('65c41f34c7f5df1a116f3396'), ObjectId('65c41f34c7f5df1a116f3397'), ObjectId('65c41f34c7f5df1a116f3398'), ObjectId('65c41f34c7f5df1a116f3399'), ObjectId('65c41f34c7f5df1a116f339a'), ObjectId('65c41f34c7f5df1a116f339b'), ObjectId('65c41f34c7f5df1a116f339c'), ObjectId('65c41f34c7f5df1a116f339d'), ObjectId('65c41f34c7f5df1a116f339e'), ObjectId('65c41f34c7f5df1a116f339f'), ObjectId('65c41f34c7f5df1a116f33a0'), ObjectId('65c41f34c7f5df1a116f33a1'), ObjectId('65c41f34c7f5df1a116f33a2'), ObjectId('65c41f34c7f5df1a116f33a3'), ObjectId('65c41f34c7f5df1a116f33a4'), ObjectId('65c41f34c7f5df1a116f33a5'), ObjectId('65c41f34c7f5df1a116f33a6'), ObjectId('65c41f34c7f5df1a116f33a7'), ObjectId('65c41f34c7f5df1a116f33a8'), ObjectId('65c41f34c7f5df1a116f33a9'), ObjectId('65c41f34c7f5df1a116f33aa'), ObjectId('65c41f34c7f5df1a116f33ab'), ObjectId('65c41f34c7f5df1a116f33ac'), ObjectId('65c41f34c7f5df1a116f33ad'), ObjectId('65c41f34c7f5df1a116f33ae'), ObjectId('65c41f34c7f5df1a116f33af'), ObjectId('65c41f34c7f5df1a116f33b0'), ObjectId('65c41f34c7f5df1a116f33b1'), ObjectId('65c41f34c7f5df1a116f33b2'), ObjectId('65c41f34c7f5df1a116f33b3'), ObjectId('65c41f34c7f5df1a116f33b4'), ObjectId('65c41f34c7f5df1a116f33b5'), ObjectId('65c41f34c7f5df1a116f33b6'), ObjectId('65c41f34c7f5df1a116f33b7'), ObjectId('65c41f34c7f5df1a116f33b8'), ObjectId('65c41f34c7f5df1a116f33b9'), ObjectId('65c41f34c7f5df1a116f33ba'), ObjectId('65c41f34c7f5df1a116f33bb'), ObjectId('65c41f34c7f5df1a116f33bc'), ObjectId('65c41f34c7f5df1a116f33bd'), ObjectId('65c41f34c7f5df1a116f33be'), ObjectId('65c41f34c7f5df1a116f33bf'), ObjectId('65c41f34c7f5df1a116f33c0'), ObjectId('65c41f34c7f5df1a116f33c1'), ObjectId('65c41f34c7f5df1a116f33c2'), ObjectId('65c41f34c7f5df1a116f33c3'), ObjectId('65c41f34c7f5df1a116f33c4'), ObjectId('65c41f34c7f5df1a116f33c5'), ObjectId('65c41f34c7f5df1a116f33c6'), ObjectId('65c41f34c7f5df1a116f33c7'), ObjectId('65c41f34c7f5df1a116f33c8'), ObjectId('65c41f34c7f5df1a116f33c9'), ObjectId('65c41f34c7f5df1a116f33ca'), ObjectId('65c41f34c7f5df1a116f33cb'), ObjectId('65c41f34c7f5df1a116f33cc'), ObjectId('65c41f34c7f5df1a116f33cd'), ObjectId('65c41f34c7f5df1a116f33ce'), ObjectId('65c41f34c7f5df1a116f33cf'), ObjectId('65c41f34c7f5df1a116f33d0'), ObjectId('65c41f34c7f5df1a116f33d1'), ObjectId('65c41f34c7f5df1a116f33d2'), ObjectId('65c41f34c7f5df1a116f33d3'), ObjectId('65c41f34c7f5df1a116f33d4'), ObjectId('65c41f34c7f5df1a116f33d5'), ObjectId('65c41f34c7f5df1a116f33d6'), ObjectId('65c41f34c7f5df1a116f33d7'), ObjectId('65c41f34c7f5df1a116f33d8'), ObjectId('65c41f34c7f5df1a116f33d9'), ObjectId('65c41f34c7f5df1a116f33da'), ObjectId('65c41f34c7f5df1a116f33db'), ObjectId('65c41f34c7f5df1a116f33dc'), ObjectId('65c41f34c7f5df1a116f33dd'), ObjectId('65c41f34c7f5df1a116f33de'), ObjectId('65c41f34c7f5df1a116f33df'), ObjectId('65c41f34c7f5df1a116f33e0'), ObjectId('65c41f34c7f5df1a116f33e1'), ObjectId('65c41f34c7f5df1a116f33e2'), ObjectId('65c41f34c7f5df1a116f33e3'), ObjectId('65c41f34c7f5df1a116f33e4'), ObjectId('65c41f34c7f5df1a116f33e5'), ObjectId('65c41f34c7f5df1a116f33e6'), ObjectId('65c41f34c7f5df1a116f33e7'), ObjectId('65c41f34c7f5df1a116f33e8'), ObjectId('65c41f34c7f5df1a116f33e9'), ObjectId('65c41f34c7f5df1a116f33ea'), ObjectId('65c41f34c7f5df1a116f33eb'), ObjectId('65c41f34c7f5df1a116f33ec'), ObjectId('65c41f34c7f5df1a116f33ed'), ObjectId('65c41f34c7f5df1a116f33ee'), ObjectId('65c41f34c7f5df1a116f33ef'), ObjectId('65c41f34c7f5df1a116f33f0'), ObjectId('65c41f34c7f5df1a116f33f1'), ObjectId('65c41f34c7f5df1a116f33f2'), ObjectId('65c41f34c7f5df1a116f33f3'), ObjectId('65c41f34c7f5df1a116f33f4'), ObjectId('65c41f34c7f5df1a116f33f5'), ObjectId('65c41f34c7f5df1a116f33f6'), ObjectId('65c41f34c7f5df1a116f33f7'), ObjectId('65c41f34c7f5df1a116f33f8'), ObjectId('65c41f34c7f5df1a116f33f9'), ObjectId('65c41f34c7f5df1a116f33fa'), ObjectId('65c41f34c7f5df1a116f33fb'), ObjectId('65c41f34c7f5df1a116f33fc'), ObjectId('65c41f34c7f5df1a116f33fd'), ObjectId('65c41f34c7f5df1a116f33fe'), ObjectId('65c41f34c7f5df1a116f33ff'), ObjectId('65c41f34c7f5df1a116f3400'), ObjectId('65c41f34c7f5df1a116f3401'), ObjectId('65c41f34c7f5df1a116f3402'), ObjectId('65c41f34c7f5df1a116f3403'), ObjectId('65c41f34c7f5df1a116f3404'), ObjectId('65c41f34c7f5df1a116f3405'), ObjectId('65c41f34c7f5df1a116f3406'), ObjectId('65c41f34c7f5df1a116f3407'), ObjectId('65c41f34c7f5df1a116f3408'), ObjectId('65c41f34c7f5df1a116f3409'), ObjectId('65c41f34c7f5df1a116f340a'), ObjectId('65c41f34c7f5df1a116f340b'), ObjectId('65c41f34c7f5df1a116f340c'), ObjectId('65c41f34c7f5df1a116f340d'), ObjectId('65c41f34c7f5df1a116f340e'), ObjectId('65c41f34c7f5df1a116f340f'), ObjectId('65c41f34c7f5df1a116f3410'), ObjectId('65c41f34c7f5df1a116f3411'), ObjectId('65c41f34c7f5df1a116f3412'), ObjectId('65c41f34c7f5df1a116f3413'), ObjectId('65c41f34c7f5df1a116f3414'), ObjectId('65c41f34c7f5df1a116f3415'), ObjectId('65c41f34c7f5df1a116f3416'), ObjectId('65c41f34c7f5df1a116f3417'), ObjectId('65c41f34c7f5df1a116f3418'), ObjectId('65c41f34c7f5df1a116f3419'), ObjectId('65c41f34c7f5df1a116f341a'), ObjectId('65c41f34c7f5df1a116f341b'), ObjectId('65c41f34c7f5df1a116f341c'), ObjectId('65c41f34c7f5df1a116f341d'), ObjectId('65c41f34c7f5df1a116f341e'), ObjectId('65c41f34c7f5df1a116f341f'), ObjectId('65c41f34c7f5df1a116f3420'), ObjectId('65c41f34c7f5df1a116f3421'), ObjectId('65c41f34c7f5df1a116f3422'), ObjectId('65c41f34c7f5df1a116f3423'), ObjectId('65c41f34c7f5df1a116f3424'), ObjectId('65c41f34c7f5df1a116f3425'), ObjectId('65c41f34c7f5df1a116f3426'), ObjectId('65c41f34c7f5df1a116f3427'), ObjectId('65c41f34c7f5df1a116f3428'), ObjectId('65c41f34c7f5df1a116f3429'), ObjectId('65c41f34c7f5df1a116f342a'), ObjectId('65c41f34c7f5df1a116f342b'), ObjectId('65c41f34c7f5df1a116f342c'), ObjectId('65c41f34c7f5df1a116f342d'), ObjectId('65c41f34c7f5df1a116f342e'), ObjectId('65c41f34c7f5df1a116f342f'), ObjectId('65c41f34c7f5df1a116f3430'), ObjectId('65c41f34c7f5df1a116f3431'), ObjectId('65c41f34c7f5df1a116f3432'), ObjectId('65c41f34c7f5df1a116f3433'), ObjectId('65c41f34c7f5df1a116f3434'), ObjectId('65c41f34c7f5df1a116f3435'), ObjectId('65c41f34c7f5df1a116f3436'), ObjectId('65c41f34c7f5df1a116f3437'), ObjectId('65c41f34c7f5df1a116f3438'), ObjectId('65c41f34c7f5df1a116f3439'), ObjectId('65c41f34c7f5df1a116f343a'), ObjectId('65c41f34c7f5df1a116f343b'), ObjectId('65c41f34c7f5df1a116f343c'), ObjectId('65c41f34c7f5df1a116f343d'), ObjectId('65c41f34c7f5df1a116f343e'), ObjectId('65c41f34c7f5df1a116f343f'), ObjectId('65c41f34c7f5df1a116f3440'), ObjectId('65c41f34c7f5df1a116f3441'), ObjectId('65c41f34c7f5df1a116f3442'), ObjectId('65c41f34c7f5df1a116f3443'), ObjectId('65c41f34c7f5df1a116f3444'), ObjectId('65c41f34c7f5df1a116f3445'), ObjectId('65c41f34c7f5df1a116f3446'), ObjectId('65c41f34c7f5df1a116f3447'), ObjectId('65c41f34c7f5df1a116f3448'), ObjectId('65c41f34c7f5df1a116f3449'), ObjectId('65c41f34c7f5df1a116f344a'), ObjectId('65c41f34c7f5df1a116f344b'), ObjectId('65c41f34c7f5df1a116f344c'), ObjectId('65c41f34c7f5df1a116f344d'), ObjectId('65c41f34c7f5df1a116f344e'), ObjectId('65c41f34c7f5df1a116f344f'), ObjectId('65c41f34c7f5df1a116f3450'), ObjectId('65c41f34c7f5df1a116f3451'), ObjectId('65c41f34c7f5df1a116f3452'), ObjectId('65c41f34c7f5df1a116f3453'), ObjectId('65c41f34c7f5df1a116f3454'), ObjectId('65c41f34c7f5df1a116f3455'), ObjectId('65c41f34c7f5df1a116f3456'), ObjectId('65c41f34c7f5df1a116f3457'), ObjectId('65c41f34c7f5df1a116f3458'), ObjectId('65c41f34c7f5df1a116f3459'), ObjectId('65c41f34c7f5df1a116f345a'), ObjectId('65c41f34c7f5df1a116f345b'), ObjectId('65c41f34c7f5df1a116f345c'), ObjectId('65c41f34c7f5df1a116f345d'), ObjectId('65c41f34c7f5df1a116f345e'), ObjectId('65c41f34c7f5df1a116f345f'), ObjectId('65c41f34c7f5df1a116f3460'), ObjectId('65c41f34c7f5df1a116f3461'), ObjectId('65c41f34c7f5df1a116f3462'), ObjectId('65c41f34c7f5df1a116f3463'), ObjectId('65c41f34c7f5df1a116f3464'), ObjectId('65c41f34c7f5df1a116f3465'), ObjectId('65c41f34c7f5df1a116f3466'), ObjectId('65c41f34c7f5df1a116f3467'), ObjectId('65c41f34c7f5df1a116f3468'), ObjectId('65c41f34c7f5df1a116f3469'), ObjectId('65c41f34c7f5df1a116f346a'), ObjectId('65c41f34c7f5df1a116f346b'), ObjectId('65c41f34c7f5df1a116f346c'), ObjectId('65c41f34c7f5df1a116f346d'), ObjectId('65c41f34c7f5df1a116f346e'), ObjectId('65c41f34c7f5df1a116f346f'), ObjectId('65c41f34c7f5df1a116f3470'), ObjectId('65c41f34c7f5df1a116f3471'), ObjectId('65c41f34c7f5df1a116f3472'), ObjectId('65c41f34c7f5df1a116f3473'), ObjectId('65c41f34c7f5df1a116f3474'), ObjectId('65c41f34c7f5df1a116f3475'), ObjectId('65c41f34c7f5df1a116f3476'), ObjectId('65c41f34c7f5df1a116f3477'), ObjectId('65c41f34c7f5df1a116f3478'), ObjectId('65c41f34c7f5df1a116f3479'), ObjectId('65c41f34c7f5df1a116f347a'), ObjectId('65c41f34c7f5df1a116f347b'), ObjectId('65c41f34c7f5df1a116f347c'), ObjectId('65c41f34c7f5df1a116f347d'), ObjectId('65c41f34c7f5df1a116f347e'), ObjectId('65c41f34c7f5df1a116f347f'), ObjectId('65c41f34c7f5df1a116f3480'), ObjectId('65c41f34c7f5df1a116f3481'), ObjectId('65c41f34c7f5df1a116f3482'), ObjectId('65c41f34c7f5df1a116f3483'), ObjectId('65c41f34c7f5df1a116f3484'), ObjectId('65c41f34c7f5df1a116f3485'), ObjectId('65c41f34c7f5df1a116f3486'), ObjectId('65c41f34c7f5df1a116f3487'), ObjectId('65c41f34c7f5df1a116f3488'), ObjectId('65c41f34c7f5df1a116f3489'), ObjectId('65c41f34c7f5df1a116f348a'), ObjectId('65c41f34c7f5df1a116f348b'), ObjectId('65c41f34c7f5df1a116f348c'), ObjectId('65c41f34c7f5df1a116f348d'), ObjectId('65c41f34c7f5df1a116f348e'), ObjectId('65c41f34c7f5df1a116f348f'), ObjectId('65c41f34c7f5df1a116f3490'), ObjectId('65c41f34c7f5df1a116f3491'), ObjectId('65c41f34c7f5df1a116f3492'), ObjectId('65c41f34c7f5df1a116f3493'), ObjectId('65c41f34c7f5df1a116f3494'), ObjectId('65c41f34c7f5df1a116f3495'), ObjectId('65c41f34c7f5df1a116f3496'), ObjectId('65c41f34c7f5df1a116f3497'), ObjectId('65c41f34c7f5df1a116f3498'), ObjectId('65c41f34c7f5df1a116f3499'), ObjectId('65c41f34c7f5df1a116f349a'), ObjectId('65c41f34c7f5df1a116f349b'), ObjectId('65c41f34c7f5df1a116f349c'), ObjectId('65c41f34c7f5df1a116f349d'), ObjectId('65c41f34c7f5df1a116f349e'), ObjectId('65c41f34c7f5df1a116f349f'), ObjectId('65c41f34c7f5df1a116f34a0'), ObjectId('65c41f34c7f5df1a116f34a1'), ObjectId('65c41f34c7f5df1a116f34a2'), ObjectId('65c41f34c7f5df1a116f34a3'), ObjectId('65c41f34c7f5df1a116f34a4'), ObjectId('65c41f34c7f5df1a116f34a5'), ObjectId('65c41f34c7f5df1a116f34a6'), ObjectId('65c41f34c7f5df1a116f34a7'), ObjectId('65c41f34c7f5df1a116f34a8'), ObjectId('65c41f34c7f5df1a116f34a9'), ObjectId('65c41f34c7f5df1a116f34aa'), ObjectId('65c41f34c7f5df1a116f34ab'), ObjectId('65c41f34c7f5df1a116f34ac'), ObjectId('65c41f34c7f5df1a116f34ad'), ObjectId('65c41f34c7f5df1a116f34ae'), ObjectId('65c41f34c7f5df1a116f34af'), ObjectId('65c41f34c7f5df1a116f34b0'), ObjectId('65c41f34c7f5df1a116f34b1'), ObjectId('65c41f34c7f5df1a116f34b2'), ObjectId('65c41f34c7f5df1a116f34b3'), ObjectId('65c41f34c7f5df1a116f34b4'), ObjectId('65c41f34c7f5df1a116f34b5'), ObjectId('65c41f34c7f5df1a116f34b6'), ObjectId('65c41f34c7f5df1a116f34b7'), ObjectId('65c41f34c7f5df1a116f34b8'), ObjectId('65c41f34c7f5df1a116f34b9'), ObjectId('65c41f34c7f5df1a116f34ba'), ObjectId('65c41f34c7f5df1a116f34bb'), ObjectId('65c41f34c7f5df1a116f34bc'), ObjectId('65c41f34c7f5df1a116f34bd'), ObjectId('65c41f34c7f5df1a116f34be'), ObjectId('65c41f34c7f5df1a116f34bf'), ObjectId('65c41f34c7f5df1a116f34c0'), ObjectId('65c41f34c7f5df1a116f34c1'), ObjectId('65c41f34c7f5df1a116f34c2'), ObjectId('65c41f34c7f5df1a116f34c3'), ObjectId('65c41f34c7f5df1a116f34c4'), ObjectId('65c41f34c7f5df1a116f34c5'), ObjectId('65c41f34c7f5df1a116f34c6'), ObjectId('65c41f34c7f5df1a116f34c7'), ObjectId('65c41f34c7f5df1a116f34c8'), ObjectId('65c41f34c7f5df1a116f34c9'), ObjectId('65c41f34c7f5df1a116f34ca'), ObjectId('65c41f34c7f5df1a116f34cb'), ObjectId('65c41f34c7f5df1a116f34cc'), ObjectId('65c41f34c7f5df1a116f34cd'), ObjectId('65c41f34c7f5df1a116f34ce'), ObjectId('65c41f34c7f5df1a116f34cf'), ObjectId('65c41f34c7f5df1a116f34d0'), ObjectId('65c41f34c7f5df1a116f34d1'), ObjectId('65c41f34c7f5df1a116f34d2'), ObjectId('65c41f34c7f5df1a116f34d3'), ObjectId('65c41f34c7f5df1a116f34d4'), ObjectId('65c41f34c7f5df1a116f34d5'), ObjectId('65c41f34c7f5df1a116f34d6'), ObjectId('65c41f34c7f5df1a116f34d7'), ObjectId('65c41f34c7f5df1a116f34d8'), ObjectId('65c41f34c7f5df1a116f34d9'), ObjectId('65c41f34c7f5df1a116f34da'), ObjectId('65c41f34c7f5df1a116f34db'), ObjectId('65c41f34c7f5df1a116f34dc'), ObjectId('65c41f34c7f5df1a116f34dd'), ObjectId('65c41f34c7f5df1a116f34de'), ObjectId('65c41f34c7f5df1a116f34df'), ObjectId('65c41f34c7f5df1a116f34e0'), ObjectId('65c41f34c7f5df1a116f34e1'), ObjectId('65c41f34c7f5df1a116f34e2'), ObjectId('65c41f34c7f5df1a116f34e3'), ObjectId('65c41f34c7f5df1a116f34e4'), ObjectId('65c41f34c7f5df1a116f34e5'), ObjectId('65c41f34c7f5df1a116f34e6'), ObjectId('65c41f34c7f5df1a116f34e7'), ObjectId('65c41f34c7f5df1a116f34e8'), ObjectId('65c41f34c7f5df1a116f34e9'), ObjectId('65c41f34c7f5df1a116f34ea'), ObjectId('65c41f34c7f5df1a116f34eb'), ObjectId('65c41f34c7f5df1a116f34ec'), ObjectId('65c41f34c7f5df1a116f34ed'), ObjectId('65c41f34c7f5df1a116f34ee'), ObjectId('65c41f34c7f5df1a116f34ef'), ObjectId('65c41f34c7f5df1a116f34f0'), ObjectId('65c41f34c7f5df1a116f34f1'), ObjectId('65c41f34c7f5df1a116f34f2'), ObjectId('65c41f34c7f5df1a116f34f3'), ObjectId('65c41f34c7f5df1a116f34f4'), ObjectId('65c41f34c7f5df1a116f34f5'), ObjectId('65c41f34c7f5df1a116f34f6'), ObjectId('65c41f34c7f5df1a116f34f7'), ObjectId('65c41f34c7f5df1a116f34f8'), ObjectId('65c41f34c7f5df1a116f34f9'), ObjectId('65c41f34c7f5df1a116f34fa'), ObjectId('65c41f34c7f5df1a116f34fb'), ObjectId('65c41f34c7f5df1a116f34fc'), ObjectId('65c41f34c7f5df1a116f34fd'), ObjectId('65c41f34c7f5df1a116f34fe'), ObjectId('65c41f34c7f5df1a116f34ff'), ObjectId('65c41f34c7f5df1a116f3500'), ObjectId('65c41f34c7f5df1a116f3501'), ObjectId('65c41f34c7f5df1a116f3502'), ObjectId('65c41f34c7f5df1a116f3503'), ObjectId('65c41f34c7f5df1a116f3504'), ObjectId('65c41f34c7f5df1a116f3505'), ObjectId('65c41f34c7f5df1a116f3506'), ObjectId('65c41f34c7f5df1a116f3507'), ObjectId('65c41f34c7f5df1a116f3508'), ObjectId('65c41f34c7f5df1a116f3509'), ObjectId('65c41f34c7f5df1a116f350a'), ObjectId('65c41f34c7f5df1a116f350b'), ObjectId('65c41f34c7f5df1a116f350c'), ObjectId('65c41f34c7f5df1a116f350d'), ObjectId('65c41f34c7f5df1a116f350e'), ObjectId('65c41f34c7f5df1a116f350f'), ObjectId('65c41f34c7f5df1a116f3510'), ObjectId('65c41f34c7f5df1a116f3511'), ObjectId('65c41f34c7f5df1a116f3512'), ObjectId('65c41f34c7f5df1a116f3513'), ObjectId('65c41f34c7f5df1a116f3514'), ObjectId('65c41f34c7f5df1a116f3515'), ObjectId('65c41f34c7f5df1a116f3516'), ObjectId('65c41f34c7f5df1a116f3517'), ObjectId('65c41f34c7f5df1a116f3518'), ObjectId('65c41f34c7f5df1a116f3519'), ObjectId('65c41f34c7f5df1a116f351a'), ObjectId('65c41f34c7f5df1a116f351b'), ObjectId('65c41f34c7f5df1a116f351c'), ObjectId('65c41f34c7f5df1a116f351d'), ObjectId('65c41f34c7f5df1a116f351e'), ObjectId('65c41f34c7f5df1a116f351f'), ObjectId('65c41f34c7f5df1a116f3520'), ObjectId('65c41f34c7f5df1a116f3521'), ObjectId('65c41f34c7f5df1a116f3522'), ObjectId('65c41f34c7f5df1a116f3523'), ObjectId('65c41f34c7f5df1a116f3524'), ObjectId('65c41f34c7f5df1a116f3525'), ObjectId('65c41f34c7f5df1a116f3526'), ObjectId('65c41f34c7f5df1a116f3527'), ObjectId('65c41f34c7f5df1a116f3528'), ObjectId('65c41f34c7f5df1a116f3529'), ObjectId('65c41f34c7f5df1a116f352a'), ObjectId('65c41f34c7f5df1a116f352b'), ObjectId('65c41f34c7f5df1a116f352c'), ObjectId('65c41f34c7f5df1a116f352d'), ObjectId('65c41f34c7f5df1a116f352e'), ObjectId('65c41f34c7f5df1a116f352f'), ObjectId('65c41f34c7f5df1a116f3530'), ObjectId('65c41f34c7f5df1a116f3531'), ObjectId('65c41f34c7f5df1a116f3532'), ObjectId('65c41f34c7f5df1a116f3533'), ObjectId('65c41f34c7f5df1a116f3534'), ObjectId('65c41f34c7f5df1a116f3535'), ObjectId('65c41f34c7f5df1a116f3536'), ObjectId('65c41f34c7f5df1a116f3537'), ObjectId('65c41f34c7f5df1a116f3538'), ObjectId('65c41f34c7f5df1a116f3539'), ObjectId('65c41f34c7f5df1a116f353a'), ObjectId('65c41f34c7f5df1a116f353b'), ObjectId('65c41f34c7f5df1a116f353c'), ObjectId('65c41f34c7f5df1a116f353d'), ObjectId('65c41f34c7f5df1a116f353e'), ObjectId('65c41f34c7f5df1a116f353f'), ObjectId('65c41f34c7f5df1a116f3540'), ObjectId('65c41f34c7f5df1a116f3541'), ObjectId('65c41f34c7f5df1a116f3542'), ObjectId('65c41f34c7f5df1a116f3543'), ObjectId('65c41f34c7f5df1a116f3544'), ObjectId('65c41f34c7f5df1a116f3545'), ObjectId('65c41f34c7f5df1a116f3546'), ObjectId('65c41f34c7f5df1a116f3547'), ObjectId('65c41f34c7f5df1a116f3548'), ObjectId('65c41f34c7f5df1a116f3549'), ObjectId('65c41f34c7f5df1a116f354a'), ObjectId('65c41f34c7f5df1a116f354b'), ObjectId('65c41f34c7f5df1a116f354c'), ObjectId('65c41f34c7f5df1a116f354d'), ObjectId('65c41f34c7f5df1a116f354e'), ObjectId('65c41f34c7f5df1a116f354f'), ObjectId('65c41f34c7f5df1a116f3550'), ObjectId('65c41f34c7f5df1a116f3551'), ObjectId('65c41f34c7f5df1a116f3552'), ObjectId('65c41f34c7f5df1a116f3553'), ObjectId('65c41f34c7f5df1a116f3554'), ObjectId('65c41f34c7f5df1a116f3555'), ObjectId('65c41f34c7f5df1a116f3556'), ObjectId('65c41f34c7f5df1a116f3557'), ObjectId('65c41f34c7f5df1a116f3558'), ObjectId('65c41f34c7f5df1a116f3559'), ObjectId('65c41f34c7f5df1a116f355a'), ObjectId('65c41f34c7f5df1a116f355b'), ObjectId('65c41f34c7f5df1a116f355c'), ObjectId('65c41f34c7f5df1a116f355d'), ObjectId('65c41f34c7f5df1a116f355e'), ObjectId('65c41f34c7f5df1a116f355f'), ObjectId('65c41f34c7f5df1a116f3560'), ObjectId('65c41f34c7f5df1a116f3561'), ObjectId('65c41f34c7f5df1a116f3562'), ObjectId('65c41f34c7f5df1a116f3563'), ObjectId('65c41f34c7f5df1a116f3564'), ObjectId('65c41f34c7f5df1a116f3565'), ObjectId('65c41f34c7f5df1a116f3566'), ObjectId('65c41f34c7f5df1a116f3567'), ObjectId('65c41f34c7f5df1a116f3568'), ObjectId('65c41f34c7f5df1a116f3569'), ObjectId('65c41f34c7f5df1a116f356a'), ObjectId('65c41f34c7f5df1a116f356b'), ObjectId('65c41f34c7f5df1a116f356c'), ObjectId('65c41f34c7f5df1a116f356d'), ObjectId('65c41f34c7f5df1a116f356e'), ObjectId('65c41f34c7f5df1a116f356f'), ObjectId('65c41f34c7f5df1a116f3570'), ObjectId('65c41f34c7f5df1a116f3571'), ObjectId('65c41f34c7f5df1a116f3572'), ObjectId('65c41f34c7f5df1a116f3573'), ObjectId('65c41f34c7f5df1a116f3574'), ObjectId('65c41f34c7f5df1a116f3575'), ObjectId('65c41f34c7f5df1a116f3576'), ObjectId('65c41f34c7f5df1a116f3577'), ObjectId('65c41f34c7f5df1a116f3578'), ObjectId('65c41f34c7f5df1a116f3579'), ObjectId('65c41f34c7f5df1a116f357a'), ObjectId('65c41f34c7f5df1a116f357b'), ObjectId('65c41f34c7f5df1a116f357c'), ObjectId('65c41f34c7f5df1a116f357d'), ObjectId('65c41f34c7f5df1a116f357e'), ObjectId('65c41f34c7f5df1a116f357f'), ObjectId('65c41f34c7f5df1a116f3580'), ObjectId('65c41f34c7f5df1a116f3581'), ObjectId('65c41f34c7f5df1a116f3582'), ObjectId('65c41f34c7f5df1a116f3583'), ObjectId('65c41f34c7f5df1a116f3584'), ObjectId('65c41f34c7f5df1a116f3585'), ObjectId('65c41f34c7f5df1a116f3586'), ObjectId('65c41f34c7f5df1a116f3587'), ObjectId('65c41f34c7f5df1a116f3588'), ObjectId('65c41f34c7f5df1a116f3589'), ObjectId('65c41f34c7f5df1a116f358a'), ObjectId('65c41f34c7f5df1a116f358b'), ObjectId('65c41f34c7f5df1a116f358c'), ObjectId('65c41f34c7f5df1a116f358d'), ObjectId('65c41f34c7f5df1a116f358e'), ObjectId('65c41f34c7f5df1a116f358f'), ObjectId('65c41f34c7f5df1a116f3590'), ObjectId('65c41f34c7f5df1a116f3591'), ObjectId('65c41f34c7f5df1a116f3592'), ObjectId('65c41f34c7f5df1a116f3593'), ObjectId('65c41f34c7f5df1a116f3594'), ObjectId('65c41f34c7f5df1a116f3595'), ObjectId('65c41f34c7f5df1a116f3596'), ObjectId('65c41f34c7f5df1a116f3597'), ObjectId('65c41f34c7f5df1a116f3598'), ObjectId('65c41f34c7f5df1a116f3599'), ObjectId('65c41f34c7f5df1a116f359a'), ObjectId('65c41f34c7f5df1a116f359b'), ObjectId('65c41f34c7f5df1a116f359c'), ObjectId('65c41f34c7f5df1a116f359d'), ObjectId('65c41f34c7f5df1a116f359e'), ObjectId('65c41f34c7f5df1a116f359f'), ObjectId('65c41f34c7f5df1a116f35a0'), ObjectId('65c41f34c7f5df1a116f35a1'), ObjectId('65c41f34c7f5df1a116f35a2'), ObjectId('65c41f34c7f5df1a116f35a3'), ObjectId('65c41f34c7f5df1a116f35a4'), ObjectId('65c41f34c7f5df1a116f35a5'), ObjectId('65c41f34c7f5df1a116f35a6'), ObjectId('65c41f34c7f5df1a116f35a7'), ObjectId('65c41f34c7f5df1a116f35a8'), ObjectId('65c41f34c7f5df1a116f35a9'), ObjectId('65c41f34c7f5df1a116f35aa'), ObjectId('65c41f34c7f5df1a116f35ab'), ObjectId('65c41f34c7f5df1a116f35ac'), ObjectId('65c41f34c7f5df1a116f35ad'), ObjectId('65c41f34c7f5df1a116f35ae'), ObjectId('65c41f34c7f5df1a116f35af'), ObjectId('65c41f34c7f5df1a116f35b0'), ObjectId('65c41f34c7f5df1a116f35b1'), ObjectId('65c41f34c7f5df1a116f35b2'), ObjectId('65c41f34c7f5df1a116f35b3'), ObjectId('65c41f34c7f5df1a116f35b4'), ObjectId('65c41f34c7f5df1a116f35b5'), ObjectId('65c41f34c7f5df1a116f35b6'), ObjectId('65c41f34c7f5df1a116f35b7'), ObjectId('65c41f34c7f5df1a116f35b8'), ObjectId('65c41f34c7f5df1a116f35b9'), ObjectId('65c41f34c7f5df1a116f35ba'), ObjectId('65c41f34c7f5df1a116f35bb'), ObjectId('65c41f34c7f5df1a116f35bc'), ObjectId('65c41f34c7f5df1a116f35bd'), ObjectId('65c41f34c7f5df1a116f35be'), ObjectId('65c41f34c7f5df1a116f35bf'), ObjectId('65c41f34c7f5df1a116f35c0'), ObjectId('65c41f34c7f5df1a116f35c1'), ObjectId('65c41f34c7f5df1a116f35c2'), ObjectId('65c41f34c7f5df1a116f35c3'), ObjectId('65c41f34c7f5df1a116f35c4'), ObjectId('65c41f34c7f5df1a116f35c5'), ObjectId('65c41f34c7f5df1a116f35c6'), ObjectId('65c41f34c7f5df1a116f35c7'), ObjectId('65c41f34c7f5df1a116f35c8'), ObjectId('65c41f34c7f5df1a116f35c9'), ObjectId('65c41f34c7f5df1a116f35ca'), ObjectId('65c41f34c7f5df1a116f35cb'), ObjectId('65c41f34c7f5df1a116f35cc'), ObjectId('65c41f34c7f5df1a116f35cd'), ObjectId('65c41f34c7f5df1a116f35ce'), ObjectId('65c41f34c7f5df1a116f35cf'), ObjectId('65c41f34c7f5df1a116f35d0'), ObjectId('65c41f34c7f5df1a116f35d1'), ObjectId('65c41f34c7f5df1a116f35d2'), ObjectId('65c41f34c7f5df1a116f35d3'), ObjectId('65c41f34c7f5df1a116f35d4'), ObjectId('65c41f34c7f5df1a116f35d5'), ObjectId('65c41f34c7f5df1a116f35d6'), ObjectId('65c41f34c7f5df1a116f35d7'), ObjectId('65c41f34c7f5df1a116f35d8'), ObjectId('65c41f34c7f5df1a116f35d9'), ObjectId('65c41f34c7f5df1a116f35da'), ObjectId('65c41f34c7f5df1a116f35db'), ObjectId('65c41f34c7f5df1a116f35dc'), ObjectId('65c41f34c7f5df1a116f35dd'), ObjectId('65c41f34c7f5df1a116f35de'), ObjectId('65c41f34c7f5df1a116f35df'), ObjectId('65c41f34c7f5df1a116f35e0'), ObjectId('65c41f34c7f5df1a116f35e1'), ObjectId('65c41f34c7f5df1a116f35e2'), ObjectId('65c41f34c7f5df1a116f35e3'), ObjectId('65c41f34c7f5df1a116f35e4'), ObjectId('65c41f34c7f5df1a116f35e5'), ObjectId('65c41f34c7f5df1a116f35e6'), ObjectId('65c41f34c7f5df1a116f35e7'), ObjectId('65c41f34c7f5df1a116f35e8'), ObjectId('65c41f34c7f5df1a116f35e9'), ObjectId('65c41f34c7f5df1a116f35ea'), ObjectId('65c41f34c7f5df1a116f35eb'), ObjectId('65c41f34c7f5df1a116f35ec'), ObjectId('65c41f34c7f5df1a116f35ed'), ObjectId('65c41f34c7f5df1a116f35ee'), ObjectId('65c41f34c7f5df1a116f35ef'), ObjectId('65c41f34c7f5df1a116f35f0'), ObjectId('65c41f34c7f5df1a116f35f1'), ObjectId('65c41f34c7f5df1a116f35f2'), ObjectId('65c41f34c7f5df1a116f35f3'), ObjectId('65c41f34c7f5df1a116f35f4'), ObjectId('65c41f34c7f5df1a116f35f5'), ObjectId('65c41f34c7f5df1a116f35f6'), ObjectId('65c41f34c7f5df1a116f35f7'), ObjectId('65c41f34c7f5df1a116f35f8'), ObjectId('65c41f34c7f5df1a116f35f9'), ObjectId('65c41f34c7f5df1a116f35fa'), ObjectId('65c41f34c7f5df1a116f35fb'), ObjectId('65c41f34c7f5df1a116f35fc'), ObjectId('65c41f34c7f5df1a116f35fd'), ObjectId('65c41f34c7f5df1a116f35fe'), ObjectId('65c41f34c7f5df1a116f35ff'), ObjectId('65c41f34c7f5df1a116f3600'), ObjectId('65c41f34c7f5df1a116f3601'), ObjectId('65c41f34c7f5df1a116f3602'), ObjectId('65c41f34c7f5df1a116f3603'), ObjectId('65c41f34c7f5df1a116f3604'), ObjectId('65c41f34c7f5df1a116f3605'), ObjectId('65c41f34c7f5df1a116f3606'), ObjectId('65c41f34c7f5df1a116f3607'), ObjectId('65c41f34c7f5df1a116f3608'), ObjectId('65c41f34c7f5df1a116f3609'), ObjectId('65c41f34c7f5df1a116f360a'), ObjectId('65c41f34c7f5df1a116f360b'), ObjectId('65c41f34c7f5df1a116f360c'), ObjectId('65c41f34c7f5df1a116f360d'), ObjectId('65c41f34c7f5df1a116f360e'), ObjectId('65c41f34c7f5df1a116f360f'), ObjectId('65c41f34c7f5df1a116f3610'), ObjectId('65c41f34c7f5df1a116f3611'), ObjectId('65c41f34c7f5df1a116f3612'), ObjectId('65c41f34c7f5df1a116f3613'), ObjectId('65c41f34c7f5df1a116f3614'), ObjectId('65c41f34c7f5df1a116f3615'), ObjectId('65c41f34c7f5df1a116f3616'), ObjectId('65c41f34c7f5df1a116f3617'), ObjectId('65c41f34c7f5df1a116f3618'), ObjectId('65c41f34c7f5df1a116f3619'), ObjectId('65c41f34c7f5df1a116f361a'), ObjectId('65c41f34c7f5df1a116f361b'), ObjectId('65c41f34c7f5df1a116f361c'), ObjectId('65c41f34c7f5df1a116f361d'), ObjectId('65c41f34c7f5df1a116f361e'), ObjectId('65c41f34c7f5df1a116f361f'), ObjectId('65c41f34c7f5df1a116f3620'), ObjectId('65c41f34c7f5df1a116f3621'), ObjectId('65c41f34c7f5df1a116f3622'), ObjectId('65c41f34c7f5df1a116f3623'), ObjectId('65c41f34c7f5df1a116f3624'), ObjectId('65c41f34c7f5df1a116f3625'), ObjectId('65c41f34c7f5df1a116f3626'), ObjectId('65c41f34c7f5df1a116f3627'), ObjectId('65c41f34c7f5df1a116f3628'), ObjectId('65c41f34c7f5df1a116f3629'), ObjectId('65c41f34c7f5df1a116f362a'), ObjectId('65c41f34c7f5df1a116f362b'), ObjectId('65c41f34c7f5df1a116f362c'), ObjectId('65c41f34c7f5df1a116f362d'), ObjectId('65c41f34c7f5df1a116f362e'), ObjectId('65c41f34c7f5df1a116f362f'), ObjectId('65c41f34c7f5df1a116f3630'), ObjectId('65c41f34c7f5df1a116f3631'), ObjectId('65c41f34c7f5df1a116f3632'), ObjectId('65c41f34c7f5df1a116f3633'), ObjectId('65c41f34c7f5df1a116f3634'), ObjectId('65c41f34c7f5df1a116f3635'), ObjectId('65c41f34c7f5df1a116f3636'), ObjectId('65c41f34c7f5df1a116f3637'), ObjectId('65c41f34c7f5df1a116f3638'), ObjectId('65c41f34c7f5df1a116f3639'), ObjectId('65c41f34c7f5df1a116f363a'), ObjectId('65c41f34c7f5df1a116f363b'), ObjectId('65c41f34c7f5df1a116f363c'), ObjectId('65c41f34c7f5df1a116f363d'), ObjectId('65c41f34c7f5df1a116f363e'), ObjectId('65c41f34c7f5df1a116f363f'), ObjectId('65c41f34c7f5df1a116f3640'), ObjectId('65c41f34c7f5df1a116f3641'), ObjectId('65c41f34c7f5df1a116f3642'), ObjectId('65c41f34c7f5df1a116f3643'), ObjectId('65c41f34c7f5df1a116f3644'), ObjectId('65c41f34c7f5df1a116f3645'), ObjectId('65c41f34c7f5df1a116f3646'), ObjectId('65c41f34c7f5df1a116f3647'), ObjectId('65c41f34c7f5df1a116f3648'), ObjectId('65c41f34c7f5df1a116f3649'), ObjectId('65c41f34c7f5df1a116f364a'), ObjectId('65c41f34c7f5df1a116f364b'), ObjectId('65c41f34c7f5df1a116f364c'), ObjectId('65c41f34c7f5df1a116f364d'), ObjectId('65c41f34c7f5df1a116f364e'), ObjectId('65c41f34c7f5df1a116f364f'), ObjectId('65c41f34c7f5df1a116f3650'), ObjectId('65c41f34c7f5df1a116f3651'), ObjectId('65c41f34c7f5df1a116f3652'), ObjectId('65c41f34c7f5df1a116f3653'), ObjectId('65c41f34c7f5df1a116f3654'), ObjectId('65c41f34c7f5df1a116f3655'), ObjectId('65c41f34c7f5df1a116f3656'), ObjectId('65c41f34c7f5df1a116f3657'), ObjectId('65c41f34c7f5df1a116f3658'), ObjectId('65c41f34c7f5df1a116f3659'), ObjectId('65c41f34c7f5df1a116f365a'), ObjectId('65c41f34c7f5df1a116f365b'), ObjectId('65c41f34c7f5df1a116f365c'), ObjectId('65c41f34c7f5df1a116f365d'), ObjectId('65c41f34c7f5df1a116f365e'), ObjectId('65c41f34c7f5df1a116f365f'), ObjectId('65c41f34c7f5df1a116f3660'), ObjectId('65c41f34c7f5df1a116f3661'), ObjectId('65c41f34c7f5df1a116f3662'), ObjectId('65c41f34c7f5df1a116f3663'), ObjectId('65c41f34c7f5df1a116f3664'), ObjectId('65c41f34c7f5df1a116f3665'), ObjectId('65c41f34c7f5df1a116f3666'), ObjectId('65c41f34c7f5df1a116f3667'), ObjectId('65c41f34c7f5df1a116f3668'), ObjectId('65c41f34c7f5df1a116f3669'), ObjectId('65c41f34c7f5df1a116f366a'), ObjectId('65c41f34c7f5df1a116f366b'), ObjectId('65c41f34c7f5df1a116f366c'), ObjectId('65c41f34c7f5df1a116f366d'), ObjectId('65c41f34c7f5df1a116f366e'), ObjectId('65c41f34c7f5df1a116f366f'), ObjectId('65c41f34c7f5df1a116f3670'), ObjectId('65c41f34c7f5df1a116f3671'), ObjectId('65c41f34c7f5df1a116f3672'), ObjectId('65c41f34c7f5df1a116f3673'), ObjectId('65c41f34c7f5df1a116f3674'), ObjectId('65c41f34c7f5df1a116f3675'), ObjectId('65c41f34c7f5df1a116f3676'), ObjectId('65c41f34c7f5df1a116f3677'), ObjectId('65c41f34c7f5df1a116f3678'), ObjectId('65c41f34c7f5df1a116f3679'), ObjectId('65c41f34c7f5df1a116f367a'), ObjectId('65c41f34c7f5df1a116f367b'), ObjectId('65c41f34c7f5df1a116f367c'), ObjectId('65c41f34c7f5df1a116f367d'), ObjectId('65c41f34c7f5df1a116f367e'), ObjectId('65c41f34c7f5df1a116f367f'), ObjectId('65c41f34c7f5df1a116f3680'), ObjectId('65c41f34c7f5df1a116f3681'), ObjectId('65c41f34c7f5df1a116f3682'), ObjectId('65c41f34c7f5df1a116f3683'), ObjectId('65c41f34c7f5df1a116f3684'), ObjectId('65c41f34c7f5df1a116f3685'), ObjectId('65c41f34c7f5df1a116f3686'), ObjectId('65c41f34c7f5df1a116f3687'), ObjectId('65c41f34c7f5df1a116f3688'), ObjectId('65c41f34c7f5df1a116f3689'), ObjectId('65c41f34c7f5df1a116f368a'), ObjectId('65c41f34c7f5df1a116f368b'), ObjectId('65c41f34c7f5df1a116f368c'), ObjectId('65c41f34c7f5df1a116f368d'), ObjectId('65c41f34c7f5df1a116f368e'), ObjectId('65c41f34c7f5df1a116f368f'), ObjectId('65c41f34c7f5df1a116f3690'), ObjectId('65c41f34c7f5df1a116f3691'), ObjectId('65c41f34c7f5df1a116f3692'), ObjectId('65c41f34c7f5df1a116f3693'), ObjectId('65c41f34c7f5df1a116f3694'), ObjectId('65c41f34c7f5df1a116f3695'), ObjectId('65c41f34c7f5df1a116f3696'), ObjectId('65c41f34c7f5df1a116f3697'), ObjectId('65c41f34c7f5df1a116f3698'), ObjectId('65c41f34c7f5df1a116f3699'), ObjectId('65c41f34c7f5df1a116f369a'), ObjectId('65c41f34c7f5df1a116f369b'), ObjectId('65c41f34c7f5df1a116f369c'), ObjectId('65c41f34c7f5df1a116f369d'), ObjectId('65c41f34c7f5df1a116f369e'), ObjectId('65c41f34c7f5df1a116f369f'), ObjectId('65c41f34c7f5df1a116f36a0'), ObjectId('65c41f34c7f5df1a116f36a1'), ObjectId('65c41f34c7f5df1a116f36a2'), ObjectId('65c41f34c7f5df1a116f36a3'), ObjectId('65c41f34c7f5df1a116f36a4'), ObjectId('65c41f34c7f5df1a116f36a5'), ObjectId('65c41f34c7f5df1a116f36a6'), ObjectId('65c41f34c7f5df1a116f36a7'), ObjectId('65c41f34c7f5df1a116f36a8'), ObjectId('65c41f34c7f5df1a116f36a9'), ObjectId('65c41f34c7f5df1a116f36aa'), ObjectId('65c41f34c7f5df1a116f36ab'), ObjectId('65c41f34c7f5df1a116f36ac'), ObjectId('65c41f34c7f5df1a116f36ad'), ObjectId('65c41f34c7f5df1a116f36ae'), ObjectId('65c41f34c7f5df1a116f36af'), ObjectId('65c41f34c7f5df1a116f36b0'), ObjectId('65c41f34c7f5df1a116f36b1'), ObjectId('65c41f34c7f5df1a116f36b2'), ObjectId('65c41f34c7f5df1a116f36b3'), ObjectId('65c41f34c7f5df1a116f36b4'), ObjectId('65c41f34c7f5df1a116f36b5'), ObjectId('65c41f34c7f5df1a116f36b6'), ObjectId('65c41f34c7f5df1a116f36b7'), ObjectId('65c41f34c7f5df1a116f36b8'), ObjectId('65c41f34c7f5df1a116f36b9'), ObjectId('65c41f34c7f5df1a116f36ba'), ObjectId('65c41f34c7f5df1a116f36bb'), ObjectId('65c41f34c7f5df1a116f36bc'), ObjectId('65c41f34c7f5df1a116f36bd'), ObjectId('65c41f34c7f5df1a116f36be'), ObjectId('65c41f34c7f5df1a116f36bf'), ObjectId('65c41f34c7f5df1a116f36c0'), ObjectId('65c41f34c7f5df1a116f36c1'), ObjectId('65c41f34c7f5df1a116f36c2'), ObjectId('65c41f34c7f5df1a116f36c3'), ObjectId('65c41f34c7f5df1a116f36c4'), ObjectId('65c41f34c7f5df1a116f36c5'), ObjectId('65c41f34c7f5df1a116f36c6'), ObjectId('65c41f34c7f5df1a116f36c7'), ObjectId('65c41f34c7f5df1a116f36c8'), ObjectId('65c41f34c7f5df1a116f36c9'), ObjectId('65c41f34c7f5df1a116f36ca'), ObjectId('65c41f34c7f5df1a116f36cb'), ObjectId('65c41f34c7f5df1a116f36cc'), ObjectId('65c41f34c7f5df1a116f36cd'), ObjectId('65c41f34c7f5df1a116f36ce'), ObjectId('65c41f34c7f5df1a116f36cf'), ObjectId('65c41f34c7f5df1a116f36d0'), ObjectId('65c41f34c7f5df1a116f36d1'), ObjectId('65c41f34c7f5df1a116f36d2'), ObjectId('65c41f34c7f5df1a116f36d3')], acknowledged=True)"
      ]
     },
     "execution_count": 49,
     "metadata": {},
     "output_type": "execute_result"
    }
   ],
   "source": [
    "# db = get_database('/home/ayumi/final_project_university/analytics-data/data_connection/database.txt', 'rain_gauges')\n",
    "# collection = db['inundations_secas']\n",
    "# collection.insert_many(inundations_list)"
   ]
  },
  {
   "cell_type": "markdown",
   "metadata": {},
   "source": [
    "## Query Data"
   ]
  },
  {
   "cell_type": "code",
   "execution_count": 289,
   "metadata": {},
   "outputs": [],
   "source": [
    "db = get_database('/home/ayumi/final_project_university/analytics-data/data_connection/database.txt', 'rain_gauges')\n",
    "collection = db['floods_sp_20190']"
   ]
  },
  {
   "cell_type": "code",
   "execution_count": 182,
   "metadata": {},
   "outputs": [],
   "source": [
    "# Get distinct field names from all documents in the collection\n",
    "distinct_fields = set()\n",
    "for document in collection.find():\n",
    "    distinct_fields.update(document.keys())\n"
   ]
  },
  {
   "cell_type": "code",
   "execution_count": 183,
   "metadata": {},
   "outputs": [
    {
     "name": "stdout",
     "output_type": "stream",
     "text": [
      "Columns (fields) in the collection:\n",
      "REFERENCIA\n",
      "LOCAL_ED\n",
      "LATITUDE\n",
      "DATA\n",
      "LONGITUDE\n",
      "H_FIM\n",
      "H_INICIO\n",
      "_id\n"
     ]
    }
   ],
   "source": [
    "\n",
    "# Print the distinct fields (equivalent to columns)\n",
    "print(\"Columns (fields) in the collection:\")\n",
    "for field in distinct_fields:\n",
    "    print(field)"
   ]
  },
  {
   "cell_type": "code",
   "execution_count": 290,
   "metadata": {},
   "outputs": [],
   "source": [
    "# Specify the two keys you want to retrieve\n",
    "key1 = \"LATITUDE\"\n",
    "key2 = \"LONGITUDE\"\n",
    "key3 = 'LOCAL_ED'\n",
    "key4 ='DATA'\n",
    "key5 = 'H_FIM'\n",
    "key6 =  'H_INICIO'\n",
    "\n",
    "# Construct the projection dictionary\n",
    "projection = {key1: 1, key2: 1, key3: 1, key4:1, key5:1, key6:1}\n"
   ]
  },
  {
   "cell_type": "code",
   "execution_count": 291,
   "metadata": {},
   "outputs": [],
   "source": [
    "values  = collection.find({}, projection)"
   ]
  },
  {
   "cell_type": "code",
   "execution_count": 292,
   "metadata": {},
   "outputs": [],
   "source": [
    "\"\"\"Adicionar valores das colunas de LATITUDE/LONGITUDE/LOCAL_ED\"\"\"\n",
    "l = []\n",
    "for v in values:\n",
    "    l.append(v)"
   ]
  },
  {
   "cell_type": "code",
   "execution_count": 293,
   "metadata": {},
   "outputs": [],
   "source": [
    "floods = pd.DataFrame(l)"
   ]
  },
  {
   "cell_type": "code",
   "execution_count": 295,
   "metadata": {},
   "outputs": [],
   "source": [
    "floods.to_excel('floods.xlsx')"
   ]
  },
  {
   "cell_type": "code",
   "execution_count": 303,
   "metadata": {},
   "outputs": [],
   "source": [
    "floods.H_INICIO = pd.to_timedelta(floods.H_INICIO)\n",
    "floods.H_FIM = pd.to_timedelta(floods.H_FIM )"
   ]
  },
  {
   "cell_type": "code",
   "execution_count": 195,
   "metadata": {},
   "outputs": [],
   "source": [
    "floods.to_excel('floods.xlsx')"
   ]
  },
  {
   "cell_type": "code",
   "execution_count": 196,
   "metadata": {},
   "outputs": [
    {
     "data": {
      "text/html": [
       "<div>\n",
       "<style scoped>\n",
       "    .dataframe tbody tr th:only-of-type {\n",
       "        vertical-align: middle;\n",
       "    }\n",
       "\n",
       "    .dataframe tbody tr th {\n",
       "        vertical-align: top;\n",
       "    }\n",
       "\n",
       "    .dataframe thead th {\n",
       "        text-align: right;\n",
       "    }\n",
       "</style>\n",
       "<table border=\"1\" class=\"dataframe\">\n",
       "  <thead>\n",
       "    <tr style=\"text-align: right;\">\n",
       "      <th></th>\n",
       "      <th>_id</th>\n",
       "      <th>LONGITUDE</th>\n",
       "      <th>LATITUDE</th>\n",
       "      <th>LOCAL_ED</th>\n",
       "      <th>DATA</th>\n",
       "      <th>H_INICIO</th>\n",
       "      <th>H_FIM</th>\n",
       "    </tr>\n",
       "  </thead>\n",
       "  <tbody>\n",
       "    <tr>\n",
       "      <th>0</th>\n",
       "      <td>65c2e514c7f5df1a116f2e5d</td>\n",
       "      <td>-46.406760</td>\n",
       "      <td>-23.498280</td>\n",
       "      <td>R MANUEL B DE LIMA</td>\n",
       "      <td>2019-01-01</td>\n",
       "      <td>0 days 16:12:00</td>\n",
       "      <td>0 days 17:30:00</td>\n",
       "    </tr>\n",
       "    <tr>\n",
       "      <th>1</th>\n",
       "      <td>65c2e514c7f5df1a116f2e5e</td>\n",
       "      <td>-46.457200</td>\n",
       "      <td>-23.528865</td>\n",
       "      <td>AV JACU PESSEGO</td>\n",
       "      <td>2019-01-01</td>\n",
       "      <td>0 days 16:25:00</td>\n",
       "      <td>0 days 17:23:00</td>\n",
       "    </tr>\n",
       "    <tr>\n",
       "      <th>2</th>\n",
       "      <td>65c2e514c7f5df1a116f2e5f</td>\n",
       "      <td>-46.752870</td>\n",
       "      <td>-23.402870</td>\n",
       "      <td>R CRISPIM DO AMARAL</td>\n",
       "      <td>2019-01-01</td>\n",
       "      <td>0 days 17:16:00</td>\n",
       "      <td>0 days 22:29:00</td>\n",
       "    </tr>\n",
       "    <tr>\n",
       "      <th>3</th>\n",
       "      <td>65c2e514c7f5df1a116f2e60</td>\n",
       "      <td>-46.753120</td>\n",
       "      <td>-23.403920</td>\n",
       "      <td>PC INACIO DIAS</td>\n",
       "      <td>2019-01-01</td>\n",
       "      <td>0 days 17:33:00</td>\n",
       "      <td>0 days 22:29:00</td>\n",
       "    </tr>\n",
       "    <tr>\n",
       "      <th>4</th>\n",
       "      <td>65c2e514c7f5df1a116f2e61</td>\n",
       "      <td>-46.750699</td>\n",
       "      <td>-23.407361</td>\n",
       "      <td>R FRANCIS DE CASTELNAU</td>\n",
       "      <td>2019-01-01</td>\n",
       "      <td>0 days 18:01:00</td>\n",
       "      <td>0 days 22:29:00</td>\n",
       "    </tr>\n",
       "    <tr>\n",
       "      <th>...</th>\n",
       "      <td>...</td>\n",
       "      <td>...</td>\n",
       "      <td>...</td>\n",
       "      <td>...</td>\n",
       "      <td>...</td>\n",
       "      <td>...</td>\n",
       "      <td>...</td>\n",
       "    </tr>\n",
       "    <tr>\n",
       "      <th>1160</th>\n",
       "      <td>65c2e514c7f5df1a116f32e5</td>\n",
       "      <td>-46.627042</td>\n",
       "      <td>-23.543123</td>\n",
       "      <td>AV MERCURIO</td>\n",
       "      <td>2019-12-23</td>\n",
       "      <td>0 days 19:09:00</td>\n",
       "      <td>0 days 21:24:00</td>\n",
       "    </tr>\n",
       "    <tr>\n",
       "      <th>1161</th>\n",
       "      <td>65c2e514c7f5df1a116f32e6</td>\n",
       "      <td>-46.623985</td>\n",
       "      <td>-23.511533</td>\n",
       "      <td>AV ZAKI NARCHI</td>\n",
       "      <td>2019-12-23</td>\n",
       "      <td>0 days 20:10:00</td>\n",
       "      <td>0 days 20:28:00</td>\n",
       "    </tr>\n",
       "    <tr>\n",
       "      <th>1162</th>\n",
       "      <td>65c2e514c7f5df1a116f32e7</td>\n",
       "      <td>-46.666610</td>\n",
       "      <td>-23.514270</td>\n",
       "      <td>MARGINAL TIETE</td>\n",
       "      <td>2019-12-31</td>\n",
       "      <td>0 days 15:26:00</td>\n",
       "      <td>0 days 16:25:00</td>\n",
       "    </tr>\n",
       "    <tr>\n",
       "      <th>1163</th>\n",
       "      <td>65c2e514c7f5df1a116f32e8</td>\n",
       "      <td>-46.653830</td>\n",
       "      <td>-23.515610</td>\n",
       "      <td>MARGINAL TIETE</td>\n",
       "      <td>2019-12-31</td>\n",
       "      <td>0 days 15:27:00</td>\n",
       "      <td>0 days 16:26:00</td>\n",
       "    </tr>\n",
       "    <tr>\n",
       "      <th>1164</th>\n",
       "      <td>65c2e514c7f5df1a116f32e9</td>\n",
       "      <td>-46.675160</td>\n",
       "      <td>-23.519230</td>\n",
       "      <td>PC PASCOAL MARTINS</td>\n",
       "      <td>2019-12-31</td>\n",
       "      <td>0 days 15:29:00</td>\n",
       "      <td>0 days 15:47:00</td>\n",
       "    </tr>\n",
       "  </tbody>\n",
       "</table>\n",
       "<p>1165 rows × 7 columns</p>\n",
       "</div>"
      ],
      "text/plain": [
       "                           _id  LONGITUDE   LATITUDE                LOCAL_ED  \\\n",
       "0     65c2e514c7f5df1a116f2e5d -46.406760 -23.498280      R MANUEL B DE LIMA   \n",
       "1     65c2e514c7f5df1a116f2e5e -46.457200 -23.528865         AV JACU PESSEGO   \n",
       "2     65c2e514c7f5df1a116f2e5f -46.752870 -23.402870     R CRISPIM DO AMARAL   \n",
       "3     65c2e514c7f5df1a116f2e60 -46.753120 -23.403920          PC INACIO DIAS   \n",
       "4     65c2e514c7f5df1a116f2e61 -46.750699 -23.407361  R FRANCIS DE CASTELNAU   \n",
       "...                        ...        ...        ...                     ...   \n",
       "1160  65c2e514c7f5df1a116f32e5 -46.627042 -23.543123             AV MERCURIO   \n",
       "1161  65c2e514c7f5df1a116f32e6 -46.623985 -23.511533          AV ZAKI NARCHI   \n",
       "1162  65c2e514c7f5df1a116f32e7 -46.666610 -23.514270          MARGINAL TIETE   \n",
       "1163  65c2e514c7f5df1a116f32e8 -46.653830 -23.515610          MARGINAL TIETE   \n",
       "1164  65c2e514c7f5df1a116f32e9 -46.675160 -23.519230      PC PASCOAL MARTINS   \n",
       "\n",
       "           DATA        H_INICIO           H_FIM  \n",
       "0    2019-01-01 0 days 16:12:00 0 days 17:30:00  \n",
       "1    2019-01-01 0 days 16:25:00 0 days 17:23:00  \n",
       "2    2019-01-01 0 days 17:16:00 0 days 22:29:00  \n",
       "3    2019-01-01 0 days 17:33:00 0 days 22:29:00  \n",
       "4    2019-01-01 0 days 18:01:00 0 days 22:29:00  \n",
       "...         ...             ...             ...  \n",
       "1160 2019-12-23 0 days 19:09:00 0 days 21:24:00  \n",
       "1161 2019-12-23 0 days 20:10:00 0 days 20:28:00  \n",
       "1162 2019-12-31 0 days 15:26:00 0 days 16:25:00  \n",
       "1163 2019-12-31 0 days 15:27:00 0 days 16:26:00  \n",
       "1164 2019-12-31 0 days 15:29:00 0 days 15:47:00  \n",
       "\n",
       "[1165 rows x 7 columns]"
      ]
     },
     "execution_count": 196,
     "metadata": {},
     "output_type": "execute_result"
    }
   ],
   "source": [
    "floods"
   ]
  },
  {
   "cell_type": "code",
   "execution_count": 169,
   "metadata": {},
   "outputs": [],
   "source": [
    "import folium"
   ]
  },
  {
   "cell_type": "code",
   "execution_count": 174,
   "metadata": {},
   "outputs": [
    {
     "ename": "TypeError",
     "evalue": "Marker.__init__() got multiple values for argument 'popup'",
     "output_type": "error",
     "traceback": [
      "\u001b[0;31m---------------------------------------------------------------------------\u001b[0m",
      "\u001b[0;31mTypeError\u001b[0m                                 Traceback (most recent call last)",
      "Cell \u001b[0;32mIn [174], line 1\u001b[0m\n\u001b[0;32m----> 1\u001b[0m \u001b[43mfolium\u001b[49m\u001b[38;5;241;43m.\u001b[39;49m\u001b[43mMarker\u001b[49m\u001b[43m(\u001b[49m\u001b[43mrow\u001b[49m\u001b[43m[\u001b[49m\u001b[38;5;124;43m'\u001b[39;49m\u001b[38;5;124;43mLATITUDE\u001b[39;49m\u001b[38;5;124;43m'\u001b[39;49m\u001b[43m]\u001b[49m\u001b[43m,\u001b[49m\u001b[43m \u001b[49m\u001b[43mrow\u001b[49m\u001b[43m[\u001b[49m\u001b[38;5;124;43m'\u001b[39;49m\u001b[38;5;124;43mLONGITUDE\u001b[39;49m\u001b[38;5;124;43m'\u001b[39;49m\u001b[43m]\u001b[49m\u001b[43m,\u001b[49m\u001b[43m \u001b[49m\u001b[43mpopup\u001b[49m\u001b[38;5;241;43m=\u001b[39;49m\u001b[43mrow\u001b[49m\u001b[43m[\u001b[49m\u001b[38;5;124;43m'\u001b[39;49m\u001b[38;5;124;43mLOCAL_ED\u001b[39;49m\u001b[38;5;124;43m'\u001b[39;49m\u001b[43m]\u001b[49m\u001b[43m,\u001b[49m\n\u001b[1;32m      2\u001b[0m \u001b[43m                       \u001b[49m\u001b[43micon\u001b[49m\u001b[38;5;241;43m=\u001b[39;49m\u001b[43mfolium\u001b[49m\u001b[38;5;241;43m.\u001b[39;49m\u001b[43mIcon\u001b[49m\u001b[43m(\u001b[49m\u001b[43mcolor\u001b[49m\u001b[38;5;241;43m=\u001b[39;49m\u001b[38;5;124;43m\"\u001b[39;49m\u001b[38;5;124;43mblue\u001b[39;49m\u001b[38;5;124;43m\"\u001b[39;49m\u001b[43m,\u001b[49m\u001b[43m \u001b[49m\u001b[43micon\u001b[49m\u001b[38;5;241;43m=\u001b[39;49m\u001b[38;5;124;43m\"\u001b[39;49m\u001b[38;5;124;43mfa-solid fa-house-flood-water\u001b[39;49m\u001b[38;5;124;43m\"\u001b[39;49m\u001b[43m,\u001b[49m\u001b[43m \u001b[49m\u001b[43mprefix\u001b[49m\u001b[38;5;241;43m=\u001b[39;49m\u001b[38;5;124;43m'\u001b[39;49m\u001b[38;5;124;43mfa\u001b[39;49m\u001b[38;5;124;43m'\u001b[39;49m\u001b[43m)\u001b[49m\n\u001b[1;32m      3\u001b[0m \u001b[43m                       \u001b[49m\u001b[43m)\u001b[49m\u001b[38;5;241m.\u001b[39madd_to(my_map)\n",
      "\u001b[0;31mTypeError\u001b[0m: Marker.__init__() got multiple values for argument 'popup'"
     ]
    }
   ],
   "source": [
    "folium.Marker(row['LATITUDE'], row['LONGITUDE'], popup=row['LOCAL_ED'],\n",
    "                       icon=folium.Icon(color=\"blue\", icon=\"fa-solid fa-house-flood-water\", prefix='fa')\n",
    "                       ).add_to(my_map)"
   ]
  },
  {
   "cell_type": "code",
   "execution_count": 288,
   "metadata": {},
   "outputs": [],
   "source": [
    "import folium \n",
    "import pandas \n",
    "\n",
    "def plot_floods_folium(floods, start_date = datetime.date(2019, 1, 3), end_date = datetime.date(2019, 1, 10)):\n",
    "    #filtrando por data \n",
    "    floods = floods[(floods.DATA.dt.date > start_date) & (floods.DATA.dt.date < end_date)]\n",
    "\n",
    "\n",
    "    # Create a Folium map centered at a specific location\n",
    "    my_map = folium.Map(location=[floods['LATITUDE'].mean(), floods['LONGITUDE'].mean()],\n",
    "                         zoom_start=11,\n",
    "                        tiles='CartoDB dark_matter',\n",
    "                        )\n",
    "\n",
    "    # Iterate through the DataFrame and add markers\n",
    "    for index, row in floods.iterrows():\n",
    "        folium.Marker([row['LATITUDE'], row['LONGITUDE']], popup=row['LOCAL_ED'],\n",
    "                       icon=folium.Icon(color=\"blue\", icon=\"fa-solid fa-house-flood-water\", prefix='fa')\n",
    "                       ).add_to(my_map)\n",
    "    # Display the map\n",
    "    return my_map\n"
   ]
  },
  {
   "cell_type": "code",
   "execution_count": 304,
   "metadata": {},
   "outputs": [],
   "source": [
    "floods['DUR'] = floods['H_FIM'] - floods['H_INICIO'] \n"
   ]
  },
  {
   "cell_type": "code",
   "execution_count": 231,
   "metadata": {},
   "outputs": [
    {
     "data": {
      "text/plain": [
       "20.7"
      ]
     },
     "execution_count": 231,
     "metadata": {},
     "output_type": "execute_result"
    }
   ],
   "source": [
    "from datetime import timedelta\n",
    "(floods['H_FIM'] - floods['H_INICIO']).mean().seconds/60"
   ]
  },
  {
   "cell_type": "code",
   "execution_count": 249,
   "metadata": {},
   "outputs": [],
   "source": [
    "def group_by_day_floods_min(floods):\n",
    "   group = floods[['DATA', 'DUR']].groupby('DATA')['DUR'].sum()\n",
    "   group = group.dt.seconds/60\n",
    "   return group"
   ]
  },
  {
   "cell_type": "code",
   "execution_count": 332,
   "metadata": {},
   "outputs": [],
   "source": [
    "group = group_by_day_floods_min(floods)"
   ]
  },
  {
   "cell_type": "code",
   "execution_count": 258,
   "metadata": {},
   "outputs": [
    {
     "data": {
      "text/plain": [
       "array([1156.,   17.,  126., 1016.,   40.,  750.,  463.,  250.,    0.,\n",
       "        188.,   17., 1169.,   95.,  298.,  397.,  115.,  160., 1031.,\n",
       "       1012.,  226.,   25.,  252., 1358.,  229., 1034.,  482.,  761.,\n",
       "         31.,  136.,  213.,  388.,  105.,  210.,  523.,   31., 1190.,\n",
       "       1400.,  489.,  206., 1252., 1013.,  829.,  279.,  237.,  284.,\n",
       "        172.,   85.,  967.,  364.,  125.,  812.,    3.,  541.,  825.,\n",
       "        565., 1023.,  437.,   28.,  584.,   25.,  120.,   13.,   13.,\n",
       "       1113.,  445.,    9.,  158.,  576.,  906.,  209.,  557.,  903.,\n",
       "       1161.,  332.,    6.,   49.,  170.,  822., 1112.,  478.,   40.,\n",
       "          2.,  283., 1210.,  189.,  111.,  187.,  671.,  399.,   37.,\n",
       "        171.,  345.,   87.,  740., 1128.,   21.,  515.,  957.,  118.,\n",
       "       1045.,  136.])"
      ]
     },
     "execution_count": 258,
     "metadata": {},
     "output_type": "execute_result"
    }
   ],
   "source": []
  },
  {
   "cell_type": "code",
   "execution_count": 260,
   "metadata": {},
   "outputs": [
    {
     "data": {
      "application/vnd.plotly.v1+json": {
       "config": {
        "plotlyServerURL": "https://plot.ly"
       },
       "data": [
        {
         "hovertemplate": "DATA=%{x}<br>y=%{y}<br>color=%{marker.color}<extra></extra>",
         "legendgroup": "",
         "marker": {
          "color": [
           1156,
           17,
           126,
           1016,
           40,
           750,
           463,
           250,
           0,
           188,
           17,
           1169,
           95,
           298,
           397,
           115,
           160,
           1031,
           1012,
           226,
           25,
           252,
           1358,
           229,
           1034,
           482,
           761,
           31,
           136,
           213,
           388,
           105,
           210,
           523,
           31,
           1190,
           1400,
           489,
           206,
           1252,
           1013,
           829,
           279,
           237,
           284,
           172,
           85,
           967,
           364,
           125,
           812,
           3,
           541,
           825,
           565,
           1023,
           437,
           28,
           584,
           25,
           120,
           13,
           13,
           1113,
           445,
           9,
           158,
           576,
           906,
           209,
           557,
           903,
           1161,
           332,
           6,
           49,
           170,
           822,
           1112,
           478,
           40,
           2,
           283,
           1210,
           189,
           111,
           187,
           671,
           399,
           37,
           171,
           345,
           87,
           740,
           1128,
           21,
           515,
           957,
           118,
           1045,
           136
          ],
          "coloraxis": "coloraxis",
          "symbol": "circle"
         },
         "mode": "markers",
         "name": "",
         "orientation": "v",
         "showlegend": false,
         "type": "scatter",
         "x": [
          "2019-01-01T00:00:00",
          "2019-01-02T00:00:00",
          "2019-01-03T00:00:00",
          "2019-01-04T00:00:00",
          "2019-01-06T00:00:00",
          "2019-01-08T00:00:00",
          "2019-01-10T00:00:00",
          "2019-01-11T00:00:00",
          "2019-01-13T00:00:00",
          "2019-01-14T00:00:00",
          "2019-01-16T00:00:00",
          "2019-01-17T00:00:00",
          "2019-01-18T00:00:00",
          "2019-01-19T00:00:00",
          "2019-01-20T00:00:00",
          "2019-01-22T00:00:00",
          "2019-01-23T00:00:00",
          "2019-01-24T00:00:00",
          "2019-01-25T00:00:00",
          "2019-01-26T00:00:00",
          "2019-01-29T00:00:00",
          "2019-01-30T00:00:00",
          "2019-02-04T00:00:00",
          "2019-02-06T00:00:00",
          "2019-02-07T00:00:00",
          "2019-02-13T00:00:00",
          "2019-02-15T00:00:00",
          "2019-02-16T00:00:00",
          "2019-02-20T00:00:00",
          "2019-02-21T00:00:00",
          "2019-02-22T00:00:00",
          "2019-02-24T00:00:00",
          "2019-02-25T00:00:00",
          "2019-02-26T00:00:00",
          "2019-02-27T00:00:00",
          "2019-02-28T00:00:00",
          "2019-03-02T00:00:00",
          "2019-03-03T00:00:00",
          "2019-03-04T00:00:00",
          "2019-03-05T00:00:00",
          "2019-03-06T00:00:00",
          "2019-03-07T00:00:00",
          "2019-03-09T00:00:00",
          "2019-03-10T00:00:00",
          "2019-03-11T00:00:00",
          "2019-03-12T00:00:00",
          "2019-03-14T00:00:00",
          "2019-03-17T00:00:00",
          "2019-03-19T00:00:00",
          "2019-03-20T00:00:00",
          "2019-03-21T00:00:00",
          "2019-03-28T00:00:00",
          "2019-04-06T00:00:00",
          "2019-04-07T00:00:00",
          "2019-04-08T00:00:00",
          "2019-04-09T00:00:00",
          "2019-04-10T00:00:00",
          "2019-04-11T00:00:00",
          "2019-04-14T00:00:00",
          "2019-04-16T00:00:00",
          "2019-04-22T00:00:00",
          "2019-04-23T00:00:00",
          "2019-04-25T00:00:00",
          "2019-04-26T00:00:00",
          "2019-04-28T00:00:00",
          "2019-04-29T00:00:00",
          "2019-05-05T00:00:00",
          "2019-05-19T00:00:00",
          "2019-06-01T00:00:00",
          "2019-06-03T00:00:00",
          "2019-07-04T00:00:00",
          "2019-07-05T00:00:00",
          "2019-09-01T00:00:00",
          "2019-09-02T00:00:00",
          "2019-09-03T00:00:00",
          "2019-09-05T00:00:00",
          "2019-10-17T00:00:00",
          "2019-10-28T00:00:00",
          "2019-11-05T00:00:00",
          "2019-11-06T00:00:00",
          "2019-11-09T00:00:00",
          "2019-11-10T00:00:00",
          "2019-11-12T00:00:00",
          "2019-11-14T00:00:00",
          "2019-11-15T00:00:00",
          "2019-11-21T00:00:00",
          "2019-11-22T00:00:00",
          "2019-11-27T00:00:00",
          "2019-11-28T00:00:00",
          "2019-11-30T00:00:00",
          "2019-12-04T00:00:00",
          "2019-12-05T00:00:00",
          "2019-12-09T00:00:00",
          "2019-12-10T00:00:00",
          "2019-12-11T00:00:00",
          "2019-12-13T00:00:00",
          "2019-12-14T00:00:00",
          "2019-12-17T00:00:00",
          "2019-12-18T00:00:00",
          "2019-12-23T00:00:00",
          "2019-12-31T00:00:00"
         ],
         "xaxis": "x",
         "y": [
          1156,
          17,
          126,
          1016,
          40,
          750,
          463,
          250,
          0,
          188,
          17,
          1169,
          95,
          298,
          397,
          115,
          160,
          1031,
          1012,
          226,
          25,
          252,
          1358,
          229,
          1034,
          482,
          761,
          31,
          136,
          213,
          388,
          105,
          210,
          523,
          31,
          1190,
          1400,
          489,
          206,
          1252,
          1013,
          829,
          279,
          237,
          284,
          172,
          85,
          967,
          364,
          125,
          812,
          3,
          541,
          825,
          565,
          1023,
          437,
          28,
          584,
          25,
          120,
          13,
          13,
          1113,
          445,
          9,
          158,
          576,
          906,
          209,
          557,
          903,
          1161,
          332,
          6,
          49,
          170,
          822,
          1112,
          478,
          40,
          2,
          283,
          1210,
          189,
          111,
          187,
          671,
          399,
          37,
          171,
          345,
          87,
          740,
          1128,
          21,
          515,
          957,
          118,
          1045,
          136
         ],
         "yaxis": "y"
        }
       ],
       "layout": {
        "coloraxis": {
         "colorbar": {
          "title": {
           "text": "color"
          }
         },
         "colorscale": [
          [
           0,
           "rgb(255,245,240)"
          ],
          [
           0.125,
           "rgb(254,224,210)"
          ],
          [
           0.25,
           "rgb(252,187,161)"
          ],
          [
           0.375,
           "rgb(252,146,114)"
          ],
          [
           0.5,
           "rgb(251,106,74)"
          ],
          [
           0.625,
           "rgb(239,59,44)"
          ],
          [
           0.75,
           "rgb(203,24,29)"
          ],
          [
           0.875,
           "rgb(165,15,21)"
          ],
          [
           1,
           "rgb(103,0,13)"
          ]
         ]
        },
        "legend": {
         "tracegroupgap": 0
        },
        "margin": {
         "t": 60
        },
        "template": {
         "data": {
          "bar": [
           {
            "error_x": {
             "color": "#2a3f5f"
            },
            "error_y": {
             "color": "#2a3f5f"
            },
            "marker": {
             "line": {
              "color": "#E5ECF6",
              "width": 0.5
             },
             "pattern": {
              "fillmode": "overlay",
              "size": 10,
              "solidity": 0.2
             }
            },
            "type": "bar"
           }
          ],
          "barpolar": [
           {
            "marker": {
             "line": {
              "color": "#E5ECF6",
              "width": 0.5
             },
             "pattern": {
              "fillmode": "overlay",
              "size": 10,
              "solidity": 0.2
             }
            },
            "type": "barpolar"
           }
          ],
          "carpet": [
           {
            "aaxis": {
             "endlinecolor": "#2a3f5f",
             "gridcolor": "white",
             "linecolor": "white",
             "minorgridcolor": "white",
             "startlinecolor": "#2a3f5f"
            },
            "baxis": {
             "endlinecolor": "#2a3f5f",
             "gridcolor": "white",
             "linecolor": "white",
             "minorgridcolor": "white",
             "startlinecolor": "#2a3f5f"
            },
            "type": "carpet"
           }
          ],
          "choropleth": [
           {
            "colorbar": {
             "outlinewidth": 0,
             "ticks": ""
            },
            "type": "choropleth"
           }
          ],
          "contour": [
           {
            "colorbar": {
             "outlinewidth": 0,
             "ticks": ""
            },
            "colorscale": [
             [
              0,
              "#0d0887"
             ],
             [
              0.1111111111111111,
              "#46039f"
             ],
             [
              0.2222222222222222,
              "#7201a8"
             ],
             [
              0.3333333333333333,
              "#9c179e"
             ],
             [
              0.4444444444444444,
              "#bd3786"
             ],
             [
              0.5555555555555556,
              "#d8576b"
             ],
             [
              0.6666666666666666,
              "#ed7953"
             ],
             [
              0.7777777777777778,
              "#fb9f3a"
             ],
             [
              0.8888888888888888,
              "#fdca26"
             ],
             [
              1,
              "#f0f921"
             ]
            ],
            "type": "contour"
           }
          ],
          "contourcarpet": [
           {
            "colorbar": {
             "outlinewidth": 0,
             "ticks": ""
            },
            "type": "contourcarpet"
           }
          ],
          "heatmap": [
           {
            "colorbar": {
             "outlinewidth": 0,
             "ticks": ""
            },
            "colorscale": [
             [
              0,
              "#0d0887"
             ],
             [
              0.1111111111111111,
              "#46039f"
             ],
             [
              0.2222222222222222,
              "#7201a8"
             ],
             [
              0.3333333333333333,
              "#9c179e"
             ],
             [
              0.4444444444444444,
              "#bd3786"
             ],
             [
              0.5555555555555556,
              "#d8576b"
             ],
             [
              0.6666666666666666,
              "#ed7953"
             ],
             [
              0.7777777777777778,
              "#fb9f3a"
             ],
             [
              0.8888888888888888,
              "#fdca26"
             ],
             [
              1,
              "#f0f921"
             ]
            ],
            "type": "heatmap"
           }
          ],
          "heatmapgl": [
           {
            "colorbar": {
             "outlinewidth": 0,
             "ticks": ""
            },
            "colorscale": [
             [
              0,
              "#0d0887"
             ],
             [
              0.1111111111111111,
              "#46039f"
             ],
             [
              0.2222222222222222,
              "#7201a8"
             ],
             [
              0.3333333333333333,
              "#9c179e"
             ],
             [
              0.4444444444444444,
              "#bd3786"
             ],
             [
              0.5555555555555556,
              "#d8576b"
             ],
             [
              0.6666666666666666,
              "#ed7953"
             ],
             [
              0.7777777777777778,
              "#fb9f3a"
             ],
             [
              0.8888888888888888,
              "#fdca26"
             ],
             [
              1,
              "#f0f921"
             ]
            ],
            "type": "heatmapgl"
           }
          ],
          "histogram": [
           {
            "marker": {
             "pattern": {
              "fillmode": "overlay",
              "size": 10,
              "solidity": 0.2
             }
            },
            "type": "histogram"
           }
          ],
          "histogram2d": [
           {
            "colorbar": {
             "outlinewidth": 0,
             "ticks": ""
            },
            "colorscale": [
             [
              0,
              "#0d0887"
             ],
             [
              0.1111111111111111,
              "#46039f"
             ],
             [
              0.2222222222222222,
              "#7201a8"
             ],
             [
              0.3333333333333333,
              "#9c179e"
             ],
             [
              0.4444444444444444,
              "#bd3786"
             ],
             [
              0.5555555555555556,
              "#d8576b"
             ],
             [
              0.6666666666666666,
              "#ed7953"
             ],
             [
              0.7777777777777778,
              "#fb9f3a"
             ],
             [
              0.8888888888888888,
              "#fdca26"
             ],
             [
              1,
              "#f0f921"
             ]
            ],
            "type": "histogram2d"
           }
          ],
          "histogram2dcontour": [
           {
            "colorbar": {
             "outlinewidth": 0,
             "ticks": ""
            },
            "colorscale": [
             [
              0,
              "#0d0887"
             ],
             [
              0.1111111111111111,
              "#46039f"
             ],
             [
              0.2222222222222222,
              "#7201a8"
             ],
             [
              0.3333333333333333,
              "#9c179e"
             ],
             [
              0.4444444444444444,
              "#bd3786"
             ],
             [
              0.5555555555555556,
              "#d8576b"
             ],
             [
              0.6666666666666666,
              "#ed7953"
             ],
             [
              0.7777777777777778,
              "#fb9f3a"
             ],
             [
              0.8888888888888888,
              "#fdca26"
             ],
             [
              1,
              "#f0f921"
             ]
            ],
            "type": "histogram2dcontour"
           }
          ],
          "mesh3d": [
           {
            "colorbar": {
             "outlinewidth": 0,
             "ticks": ""
            },
            "type": "mesh3d"
           }
          ],
          "parcoords": [
           {
            "line": {
             "colorbar": {
              "outlinewidth": 0,
              "ticks": ""
             }
            },
            "type": "parcoords"
           }
          ],
          "pie": [
           {
            "automargin": true,
            "type": "pie"
           }
          ],
          "scatter": [
           {
            "fillpattern": {
             "fillmode": "overlay",
             "size": 10,
             "solidity": 0.2
            },
            "type": "scatter"
           }
          ],
          "scatter3d": [
           {
            "line": {
             "colorbar": {
              "outlinewidth": 0,
              "ticks": ""
             }
            },
            "marker": {
             "colorbar": {
              "outlinewidth": 0,
              "ticks": ""
             }
            },
            "type": "scatter3d"
           }
          ],
          "scattercarpet": [
           {
            "marker": {
             "colorbar": {
              "outlinewidth": 0,
              "ticks": ""
             }
            },
            "type": "scattercarpet"
           }
          ],
          "scattergeo": [
           {
            "marker": {
             "colorbar": {
              "outlinewidth": 0,
              "ticks": ""
             }
            },
            "type": "scattergeo"
           }
          ],
          "scattergl": [
           {
            "marker": {
             "colorbar": {
              "outlinewidth": 0,
              "ticks": ""
             }
            },
            "type": "scattergl"
           }
          ],
          "scattermapbox": [
           {
            "marker": {
             "colorbar": {
              "outlinewidth": 0,
              "ticks": ""
             }
            },
            "type": "scattermapbox"
           }
          ],
          "scatterpolar": [
           {
            "marker": {
             "colorbar": {
              "outlinewidth": 0,
              "ticks": ""
             }
            },
            "type": "scatterpolar"
           }
          ],
          "scatterpolargl": [
           {
            "marker": {
             "colorbar": {
              "outlinewidth": 0,
              "ticks": ""
             }
            },
            "type": "scatterpolargl"
           }
          ],
          "scatterternary": [
           {
            "marker": {
             "colorbar": {
              "outlinewidth": 0,
              "ticks": ""
             }
            },
            "type": "scatterternary"
           }
          ],
          "surface": [
           {
            "colorbar": {
             "outlinewidth": 0,
             "ticks": ""
            },
            "colorscale": [
             [
              0,
              "#0d0887"
             ],
             [
              0.1111111111111111,
              "#46039f"
             ],
             [
              0.2222222222222222,
              "#7201a8"
             ],
             [
              0.3333333333333333,
              "#9c179e"
             ],
             [
              0.4444444444444444,
              "#bd3786"
             ],
             [
              0.5555555555555556,
              "#d8576b"
             ],
             [
              0.6666666666666666,
              "#ed7953"
             ],
             [
              0.7777777777777778,
              "#fb9f3a"
             ],
             [
              0.8888888888888888,
              "#fdca26"
             ],
             [
              1,
              "#f0f921"
             ]
            ],
            "type": "surface"
           }
          ],
          "table": [
           {
            "cells": {
             "fill": {
              "color": "#EBF0F8"
             },
             "line": {
              "color": "white"
             }
            },
            "header": {
             "fill": {
              "color": "#C8D4E3"
             },
             "line": {
              "color": "white"
             }
            },
            "type": "table"
           }
          ]
         },
         "layout": {
          "annotationdefaults": {
           "arrowcolor": "#2a3f5f",
           "arrowhead": 0,
           "arrowwidth": 1
          },
          "autotypenumbers": "strict",
          "coloraxis": {
           "colorbar": {
            "outlinewidth": 0,
            "ticks": ""
           }
          },
          "colorscale": {
           "diverging": [
            [
             0,
             "#8e0152"
            ],
            [
             0.1,
             "#c51b7d"
            ],
            [
             0.2,
             "#de77ae"
            ],
            [
             0.3,
             "#f1b6da"
            ],
            [
             0.4,
             "#fde0ef"
            ],
            [
             0.5,
             "#f7f7f7"
            ],
            [
             0.6,
             "#e6f5d0"
            ],
            [
             0.7,
             "#b8e186"
            ],
            [
             0.8,
             "#7fbc41"
            ],
            [
             0.9,
             "#4d9221"
            ],
            [
             1,
             "#276419"
            ]
           ],
           "sequential": [
            [
             0,
             "#0d0887"
            ],
            [
             0.1111111111111111,
             "#46039f"
            ],
            [
             0.2222222222222222,
             "#7201a8"
            ],
            [
             0.3333333333333333,
             "#9c179e"
            ],
            [
             0.4444444444444444,
             "#bd3786"
            ],
            [
             0.5555555555555556,
             "#d8576b"
            ],
            [
             0.6666666666666666,
             "#ed7953"
            ],
            [
             0.7777777777777778,
             "#fb9f3a"
            ],
            [
             0.8888888888888888,
             "#fdca26"
            ],
            [
             1,
             "#f0f921"
            ]
           ],
           "sequentialminus": [
            [
             0,
             "#0d0887"
            ],
            [
             0.1111111111111111,
             "#46039f"
            ],
            [
             0.2222222222222222,
             "#7201a8"
            ],
            [
             0.3333333333333333,
             "#9c179e"
            ],
            [
             0.4444444444444444,
             "#bd3786"
            ],
            [
             0.5555555555555556,
             "#d8576b"
            ],
            [
             0.6666666666666666,
             "#ed7953"
            ],
            [
             0.7777777777777778,
             "#fb9f3a"
            ],
            [
             0.8888888888888888,
             "#fdca26"
            ],
            [
             1,
             "#f0f921"
            ]
           ]
          },
          "colorway": [
           "#636efa",
           "#EF553B",
           "#00cc96",
           "#ab63fa",
           "#FFA15A",
           "#19d3f3",
           "#FF6692",
           "#B6E880",
           "#FF97FF",
           "#FECB52"
          ],
          "font": {
           "color": "#2a3f5f"
          },
          "geo": {
           "bgcolor": "white",
           "lakecolor": "white",
           "landcolor": "#E5ECF6",
           "showlakes": true,
           "showland": true,
           "subunitcolor": "white"
          },
          "hoverlabel": {
           "align": "left"
          },
          "hovermode": "closest",
          "mapbox": {
           "style": "light"
          },
          "paper_bgcolor": "white",
          "plot_bgcolor": "#E5ECF6",
          "polar": {
           "angularaxis": {
            "gridcolor": "white",
            "linecolor": "white",
            "ticks": ""
           },
           "bgcolor": "#E5ECF6",
           "radialaxis": {
            "gridcolor": "white",
            "linecolor": "white",
            "ticks": ""
           }
          },
          "scene": {
           "xaxis": {
            "backgroundcolor": "#E5ECF6",
            "gridcolor": "white",
            "gridwidth": 2,
            "linecolor": "white",
            "showbackground": true,
            "ticks": "",
            "zerolinecolor": "white"
           },
           "yaxis": {
            "backgroundcolor": "#E5ECF6",
            "gridcolor": "white",
            "gridwidth": 2,
            "linecolor": "white",
            "showbackground": true,
            "ticks": "",
            "zerolinecolor": "white"
           },
           "zaxis": {
            "backgroundcolor": "#E5ECF6",
            "gridcolor": "white",
            "gridwidth": 2,
            "linecolor": "white",
            "showbackground": true,
            "ticks": "",
            "zerolinecolor": "white"
           }
          },
          "shapedefaults": {
           "line": {
            "color": "#2a3f5f"
           }
          },
          "ternary": {
           "aaxis": {
            "gridcolor": "white",
            "linecolor": "white",
            "ticks": ""
           },
           "baxis": {
            "gridcolor": "white",
            "linecolor": "white",
            "ticks": ""
           },
           "bgcolor": "#E5ECF6",
           "caxis": {
            "gridcolor": "white",
            "linecolor": "white",
            "ticks": ""
           }
          },
          "title": {
           "x": 0.05
          },
          "xaxis": {
           "automargin": true,
           "gridcolor": "white",
           "linecolor": "white",
           "ticks": "",
           "title": {
            "standoff": 15
           },
           "zerolinecolor": "white",
           "zerolinewidth": 2
          },
          "yaxis": {
           "automargin": true,
           "gridcolor": "white",
           "linecolor": "white",
           "ticks": "",
           "title": {
            "standoff": 15
           },
           "zerolinecolor": "white",
           "zerolinewidth": 2
          }
         }
        },
        "xaxis": {
         "anchor": "y",
         "domain": [
          0,
          1
         ],
         "title": {
          "text": "DATA"
         }
        },
        "yaxis": {
         "anchor": "x",
         "domain": [
          0,
          1
         ],
         "title": {
          "text": "y"
         }
        }
       }
      }
     },
     "metadata": {},
     "output_type": "display_data"
    }
   ],
   "source": [
    "import plotly.express as px\n",
    "\n",
    "series = group_by_day_floods_min(floods)\n",
    "\n",
    "def generate_scatter(series)\n",
    "    fig = px.scatter(\n",
    "        series,\n",
    "        x = series.index,\n",
    "        y = series.values,\n",
    "        color = series.values,\n",
    "        color_continuous_scale=\"reds\",\n",
    "    )\n",
    "    return fig"
   ]
  },
  {
   "cell_type": "code",
   "execution_count": 265,
   "metadata": {},
   "outputs": [
    {
     "data": {
      "text/plain": [
       "2019-03-11    62\n",
       "2019-02-21    47\n",
       "2019-03-02    46\n",
       "2019-02-26    45\n",
       "2019-02-06    43\n",
       "              ..\n",
       "2019-03-28     1\n",
       "2019-04-11     1\n",
       "2019-04-29     1\n",
       "2019-04-22     1\n",
       "2019-11-10     1\n",
       "Name: DATA, Length: 101, dtype: int64"
      ]
     },
     "execution_count": 265,
     "metadata": {},
     "output_type": "execute_result"
    }
   ],
   "source": [
    "floods.DATA.value_counts()"
   ]
  },
  {
   "cell_type": "code",
   "execution_count": 297,
   "metadata": {},
   "outputs": [
    {
     "data": {
      "text/plain": [
       "AV DAS NACOES UNIDAS    85\n",
       "MARGINAL TIETE          72\n",
       "MARGINAL PINHEIROS      32\n",
       "AV CELSO GARCIA         31\n",
       "AV ARICANDUVA           30\n",
       "                        ..\n",
       "AV IPIRANGA              1\n",
       "R PRES COSTA PEREIRA     1\n",
       "R MARACATINS             1\n",
       "PCA 14 BIS               1\n",
       "R NEWTON PRADO           1\n",
       "Name: LOCAL_ED, Length: 294, dtype: int64"
      ]
     },
     "execution_count": 297,
     "metadata": {},
     "output_type": "execute_result"
    }
   ],
   "source": [
    "floods.LOCAL_ED.value_counts()"
   ]
  },
  {
   "cell_type": "code",
   "execution_count": 330,
   "metadata": {},
   "outputs": [],
   "source": [
    "# Criar um DataFrame com as datas\n",
    "def generate_frequency_merge(floods):\n",
    "    datas = pd.date_range(start='2019-01-01', end='2019-12-31', freq='D')\n",
    "    datas = pd.DataFrame({'Data': datas})\n",
    "    merged = datas.merge(group.to_frame().reset_index(),\n",
    "            right_on = 'DATA', \n",
    "            left_on = 'Data', \n",
    "            how ='left')\n",
    "    merged = merged.merge(floods.DATA.value_counts().to_frame().reset_index(),\n",
    "             right_on= 'index',\n",
    "             left_on = 'Data', \n",
    "             how = 'left')\n",
    "    merged = merged.drop(columns = ['DATA_x', 'index'])\n",
    "    merged.rename(columns = {'DATA_y': 'Freq'}, inplace = True)\n",
    "    merged.DUR = merged.DUR.fillna(0)\n",
    "    merged.Freq = merged.Freq.fillna(0)\n",
    "    return merged"
   ]
  },
  {
   "cell_type": "code",
   "execution_count": 333,
   "metadata": {},
   "outputs": [
    {
     "data": {
      "text/html": [
       "<div>\n",
       "<style scoped>\n",
       "    .dataframe tbody tr th:only-of-type {\n",
       "        vertical-align: middle;\n",
       "    }\n",
       "\n",
       "    .dataframe tbody tr th {\n",
       "        vertical-align: top;\n",
       "    }\n",
       "\n",
       "    .dataframe thead th {\n",
       "        text-align: right;\n",
       "    }\n",
       "</style>\n",
       "<table border=\"1\" class=\"dataframe\">\n",
       "  <thead>\n",
       "    <tr style=\"text-align: right;\">\n",
       "      <th></th>\n",
       "      <th>Data</th>\n",
       "      <th>DUR</th>\n",
       "      <th>Freq</th>\n",
       "    </tr>\n",
       "  </thead>\n",
       "  <tbody>\n",
       "    <tr>\n",
       "      <th>0</th>\n",
       "      <td>2019-01-01</td>\n",
       "      <td>1156.0</td>\n",
       "      <td>11.0</td>\n",
       "    </tr>\n",
       "    <tr>\n",
       "      <th>1</th>\n",
       "      <td>2019-01-02</td>\n",
       "      <td>17.0</td>\n",
       "      <td>1.0</td>\n",
       "    </tr>\n",
       "    <tr>\n",
       "      <th>2</th>\n",
       "      <td>2019-01-03</td>\n",
       "      <td>126.0</td>\n",
       "      <td>4.0</td>\n",
       "    </tr>\n",
       "    <tr>\n",
       "      <th>3</th>\n",
       "      <td>2019-01-04</td>\n",
       "      <td>1016.0</td>\n",
       "      <td>19.0</td>\n",
       "    </tr>\n",
       "    <tr>\n",
       "      <th>4</th>\n",
       "      <td>2019-01-05</td>\n",
       "      <td>NaN</td>\n",
       "      <td>NaN</td>\n",
       "    </tr>\n",
       "    <tr>\n",
       "      <th>...</th>\n",
       "      <td>...</td>\n",
       "      <td>...</td>\n",
       "      <td>...</td>\n",
       "    </tr>\n",
       "    <tr>\n",
       "      <th>360</th>\n",
       "      <td>2019-12-27</td>\n",
       "      <td>NaN</td>\n",
       "      <td>NaN</td>\n",
       "    </tr>\n",
       "    <tr>\n",
       "      <th>361</th>\n",
       "      <td>2019-12-28</td>\n",
       "      <td>NaN</td>\n",
       "      <td>NaN</td>\n",
       "    </tr>\n",
       "    <tr>\n",
       "      <th>362</th>\n",
       "      <td>2019-12-29</td>\n",
       "      <td>NaN</td>\n",
       "      <td>NaN</td>\n",
       "    </tr>\n",
       "    <tr>\n",
       "      <th>363</th>\n",
       "      <td>2019-12-30</td>\n",
       "      <td>NaN</td>\n",
       "      <td>NaN</td>\n",
       "    </tr>\n",
       "    <tr>\n",
       "      <th>364</th>\n",
       "      <td>2019-12-31</td>\n",
       "      <td>136.0</td>\n",
       "      <td>3.0</td>\n",
       "    </tr>\n",
       "  </tbody>\n",
       "</table>\n",
       "<p>365 rows × 3 columns</p>\n",
       "</div>"
      ],
      "text/plain": [
       "          Data     DUR  Freq\n",
       "0   2019-01-01  1156.0  11.0\n",
       "1   2019-01-02    17.0   1.0\n",
       "2   2019-01-03   126.0   4.0\n",
       "3   2019-01-04  1016.0  19.0\n",
       "4   2019-01-05     NaN   NaN\n",
       "..         ...     ...   ...\n",
       "360 2019-12-27     NaN   NaN\n",
       "361 2019-12-28     NaN   NaN\n",
       "362 2019-12-29     NaN   NaN\n",
       "363 2019-12-30     NaN   NaN\n",
       "364 2019-12-31   136.0   3.0\n",
       "\n",
       "[365 rows x 3 columns]"
      ]
     },
     "execution_count": 333,
     "metadata": {},
     "output_type": "execute_result"
    }
   ],
   "source": [
    "generate_frequency_merge(floods)"
   ]
  },
  {
   "cell_type": "code",
   "execution_count": 276,
   "metadata": {},
   "outputs": [
    {
     "data": {
      "text/html": [
       "<div>\n",
       "<style scoped>\n",
       "    .dataframe tbody tr th:only-of-type {\n",
       "        vertical-align: middle;\n",
       "    }\n",
       "\n",
       "    .dataframe tbody tr th {\n",
       "        vertical-align: top;\n",
       "    }\n",
       "\n",
       "    .dataframe thead th {\n",
       "        text-align: right;\n",
       "    }\n",
       "</style>\n",
       "<table border=\"1\" class=\"dataframe\">\n",
       "  <thead>\n",
       "    <tr style=\"text-align: right;\">\n",
       "      <th></th>\n",
       "      <th>DATA</th>\n",
       "      <th>DUR</th>\n",
       "    </tr>\n",
       "  </thead>\n",
       "  <tbody>\n",
       "    <tr>\n",
       "      <th>0</th>\n",
       "      <td>2019-01-01</td>\n",
       "      <td>1156.0</td>\n",
       "    </tr>\n",
       "    <tr>\n",
       "      <th>1</th>\n",
       "      <td>2019-01-02</td>\n",
       "      <td>17.0</td>\n",
       "    </tr>\n",
       "    <tr>\n",
       "      <th>2</th>\n",
       "      <td>2019-01-03</td>\n",
       "      <td>126.0</td>\n",
       "    </tr>\n",
       "    <tr>\n",
       "      <th>3</th>\n",
       "      <td>2019-01-04</td>\n",
       "      <td>1016.0</td>\n",
       "    </tr>\n",
       "    <tr>\n",
       "      <th>4</th>\n",
       "      <td>2019-01-06</td>\n",
       "      <td>40.0</td>\n",
       "    </tr>\n",
       "    <tr>\n",
       "      <th>...</th>\n",
       "      <td>...</td>\n",
       "      <td>...</td>\n",
       "    </tr>\n",
       "    <tr>\n",
       "      <th>96</th>\n",
       "      <td>2019-12-14</td>\n",
       "      <td>515.0</td>\n",
       "    </tr>\n",
       "    <tr>\n",
       "      <th>97</th>\n",
       "      <td>2019-12-17</td>\n",
       "      <td>957.0</td>\n",
       "    </tr>\n",
       "    <tr>\n",
       "      <th>98</th>\n",
       "      <td>2019-12-18</td>\n",
       "      <td>118.0</td>\n",
       "    </tr>\n",
       "    <tr>\n",
       "      <th>99</th>\n",
       "      <td>2019-12-23</td>\n",
       "      <td>1045.0</td>\n",
       "    </tr>\n",
       "    <tr>\n",
       "      <th>100</th>\n",
       "      <td>2019-12-31</td>\n",
       "      <td>136.0</td>\n",
       "    </tr>\n",
       "  </tbody>\n",
       "</table>\n",
       "<p>101 rows × 2 columns</p>\n",
       "</div>"
      ],
      "text/plain": [
       "          DATA     DUR\n",
       "0   2019-01-01  1156.0\n",
       "1   2019-01-02    17.0\n",
       "2   2019-01-03   126.0\n",
       "3   2019-01-04  1016.0\n",
       "4   2019-01-06    40.0\n",
       "..         ...     ...\n",
       "96  2019-12-14   515.0\n",
       "97  2019-12-17   957.0\n",
       "98  2019-12-18   118.0\n",
       "99  2019-12-23  1045.0\n",
       "100 2019-12-31   136.0\n",
       "\n",
       "[101 rows x 2 columns]"
      ]
     },
     "execution_count": 276,
     "metadata": {},
     "output_type": "execute_result"
    }
   ],
   "source": [
    "group_by_day_floods_min(floods).to_frame().reset_index()"
   ]
  },
  {
   "cell_type": "code",
   "execution_count": 325,
   "metadata": {},
   "outputs": [],
   "source": [
    "datas = pd.date_range(start='2019-01-01', end='2019-12-31', freq='D')\n",
    "datas = pd.DataFrame({'Data': datas})\n",
    "merged = datas.merge(group_by_day_floods_min(floods).to_frame().reset_index(),\n",
    "            right_on = 'DATA', \n",
    "            left_on = 'Data',\n",
    "            how ='left')\n",
    "\n",
    "\n"
   ]
  },
  {
   "cell_type": "code",
   "execution_count": 323,
   "metadata": {},
   "outputs": [
    {
     "data": {
      "text/html": [
       "<div>\n",
       "<style scoped>\n",
       "    .dataframe tbody tr th:only-of-type {\n",
       "        vertical-align: middle;\n",
       "    }\n",
       "\n",
       "    .dataframe tbody tr th {\n",
       "        vertical-align: top;\n",
       "    }\n",
       "\n",
       "    .dataframe thead th {\n",
       "        text-align: right;\n",
       "    }\n",
       "</style>\n",
       "<table border=\"1\" class=\"dataframe\">\n",
       "  <thead>\n",
       "    <tr style=\"text-align: right;\">\n",
       "      <th></th>\n",
       "      <th>Data</th>\n",
       "      <th>DATA</th>\n",
       "      <th>DUR</th>\n",
       "    </tr>\n",
       "  </thead>\n",
       "  <tbody>\n",
       "    <tr>\n",
       "      <th>0</th>\n",
       "      <td>2019-01-01</td>\n",
       "      <td>2019-01-01</td>\n",
       "      <td>1156.0</td>\n",
       "    </tr>\n",
       "    <tr>\n",
       "      <th>1</th>\n",
       "      <td>2019-01-02</td>\n",
       "      <td>2019-01-02</td>\n",
       "      <td>17.0</td>\n",
       "    </tr>\n",
       "    <tr>\n",
       "      <th>2</th>\n",
       "      <td>2019-01-03</td>\n",
       "      <td>2019-01-03</td>\n",
       "      <td>126.0</td>\n",
       "    </tr>\n",
       "    <tr>\n",
       "      <th>3</th>\n",
       "      <td>2019-01-04</td>\n",
       "      <td>2019-01-04</td>\n",
       "      <td>1016.0</td>\n",
       "    </tr>\n",
       "    <tr>\n",
       "      <th>4</th>\n",
       "      <td>2019-01-05</td>\n",
       "      <td>NaT</td>\n",
       "      <td>NaN</td>\n",
       "    </tr>\n",
       "    <tr>\n",
       "      <th>...</th>\n",
       "      <td>...</td>\n",
       "      <td>...</td>\n",
       "      <td>...</td>\n",
       "    </tr>\n",
       "    <tr>\n",
       "      <th>360</th>\n",
       "      <td>2019-12-27</td>\n",
       "      <td>NaT</td>\n",
       "      <td>NaN</td>\n",
       "    </tr>\n",
       "    <tr>\n",
       "      <th>361</th>\n",
       "      <td>2019-12-28</td>\n",
       "      <td>NaT</td>\n",
       "      <td>NaN</td>\n",
       "    </tr>\n",
       "    <tr>\n",
       "      <th>362</th>\n",
       "      <td>2019-12-29</td>\n",
       "      <td>NaT</td>\n",
       "      <td>NaN</td>\n",
       "    </tr>\n",
       "    <tr>\n",
       "      <th>363</th>\n",
       "      <td>2019-12-30</td>\n",
       "      <td>NaT</td>\n",
       "      <td>NaN</td>\n",
       "    </tr>\n",
       "    <tr>\n",
       "      <th>364</th>\n",
       "      <td>2019-12-31</td>\n",
       "      <td>2019-12-31</td>\n",
       "      <td>136.0</td>\n",
       "    </tr>\n",
       "  </tbody>\n",
       "</table>\n",
       "<p>365 rows × 3 columns</p>\n",
       "</div>"
      ],
      "text/plain": [
       "          Data       DATA     DUR\n",
       "0   2019-01-01 2019-01-01  1156.0\n",
       "1   2019-01-02 2019-01-02    17.0\n",
       "2   2019-01-03 2019-01-03   126.0\n",
       "3   2019-01-04 2019-01-04  1016.0\n",
       "4   2019-01-05        NaT     NaN\n",
       "..         ...        ...     ...\n",
       "360 2019-12-27        NaT     NaN\n",
       "361 2019-12-28        NaT     NaN\n",
       "362 2019-12-29        NaT     NaN\n",
       "363 2019-12-30        NaT     NaN\n",
       "364 2019-12-31 2019-12-31   136.0\n",
       "\n",
       "[365 rows x 3 columns]"
      ]
     },
     "execution_count": 323,
     "metadata": {},
     "output_type": "execute_result"
    }
   ],
   "source": [
    "merged"
   ]
  },
  {
   "cell_type": "code",
   "execution_count": 305,
   "metadata": {},
   "outputs": [
    {
     "data": {
      "text/html": [
       "<div>\n",
       "<style scoped>\n",
       "    .dataframe tbody tr th:only-of-type {\n",
       "        vertical-align: middle;\n",
       "    }\n",
       "\n",
       "    .dataframe tbody tr th {\n",
       "        vertical-align: top;\n",
       "    }\n",
       "\n",
       "    .dataframe thead th {\n",
       "        text-align: right;\n",
       "    }\n",
       "</style>\n",
       "<table border=\"1\" class=\"dataframe\">\n",
       "  <thead>\n",
       "    <tr style=\"text-align: right;\">\n",
       "      <th></th>\n",
       "      <th>index</th>\n",
       "      <th>DATA</th>\n",
       "    </tr>\n",
       "  </thead>\n",
       "  <tbody>\n",
       "    <tr>\n",
       "      <th>0</th>\n",
       "      <td>2019-03-11</td>\n",
       "      <td>62</td>\n",
       "    </tr>\n",
       "    <tr>\n",
       "      <th>1</th>\n",
       "      <td>2019-02-21</td>\n",
       "      <td>47</td>\n",
       "    </tr>\n",
       "    <tr>\n",
       "      <th>2</th>\n",
       "      <td>2019-03-02</td>\n",
       "      <td>46</td>\n",
       "    </tr>\n",
       "    <tr>\n",
       "      <th>3</th>\n",
       "      <td>2019-02-26</td>\n",
       "      <td>45</td>\n",
       "    </tr>\n",
       "    <tr>\n",
       "      <th>4</th>\n",
       "      <td>2019-02-06</td>\n",
       "      <td>43</td>\n",
       "    </tr>\n",
       "    <tr>\n",
       "      <th>...</th>\n",
       "      <td>...</td>\n",
       "      <td>...</td>\n",
       "    </tr>\n",
       "    <tr>\n",
       "      <th>96</th>\n",
       "      <td>2019-11-10</td>\n",
       "      <td>1</td>\n",
       "    </tr>\n",
       "    <tr>\n",
       "      <th>97</th>\n",
       "      <td>2019-11-09</td>\n",
       "      <td>1</td>\n",
       "    </tr>\n",
       "    <tr>\n",
       "      <th>98</th>\n",
       "      <td>2019-09-05</td>\n",
       "      <td>1</td>\n",
       "    </tr>\n",
       "    <tr>\n",
       "      <th>99</th>\n",
       "      <td>2019-04-25</td>\n",
       "      <td>1</td>\n",
       "    </tr>\n",
       "    <tr>\n",
       "      <th>100</th>\n",
       "      <td>2019-11-30</td>\n",
       "      <td>1</td>\n",
       "    </tr>\n",
       "  </tbody>\n",
       "</table>\n",
       "<p>101 rows × 2 columns</p>\n",
       "</div>"
      ],
      "text/plain": [
       "         index  DATA\n",
       "0   2019-03-11    62\n",
       "1   2019-02-21    47\n",
       "2   2019-03-02    46\n",
       "3   2019-02-26    45\n",
       "4   2019-02-06    43\n",
       "..         ...   ...\n",
       "96  2019-11-10     1\n",
       "97  2019-11-09     1\n",
       "98  2019-09-05     1\n",
       "99  2019-04-25     1\n",
       "100 2019-11-30     1\n",
       "\n",
       "[101 rows x 2 columns]"
      ]
     },
     "execution_count": 305,
     "metadata": {},
     "output_type": "execute_result"
    }
   ],
   "source": [
    "floods.DATA.value_counts().to_frame().reset_index()"
   ]
  },
  {
   "cell_type": "code",
   "execution_count": 326,
   "metadata": {},
   "outputs": [],
   "source": [
    "merged = merged.merge(floods.DATA.value_counts().to_frame().reset_index(),\n",
    "             right_on= 'index',\n",
    "             left_on = 'Data')"
   ]
  },
  {
   "cell_type": "code",
   "execution_count": 327,
   "metadata": {},
   "outputs": [
    {
     "data": {
      "text/html": [
       "<div>\n",
       "<style scoped>\n",
       "    .dataframe tbody tr th:only-of-type {\n",
       "        vertical-align: middle;\n",
       "    }\n",
       "\n",
       "    .dataframe tbody tr th {\n",
       "        vertical-align: top;\n",
       "    }\n",
       "\n",
       "    .dataframe thead th {\n",
       "        text-align: right;\n",
       "    }\n",
       "</style>\n",
       "<table border=\"1\" class=\"dataframe\">\n",
       "  <thead>\n",
       "    <tr style=\"text-align: right;\">\n",
       "      <th></th>\n",
       "      <th>Data</th>\n",
       "      <th>DATA_x</th>\n",
       "      <th>DUR</th>\n",
       "      <th>index</th>\n",
       "      <th>DATA_y</th>\n",
       "    </tr>\n",
       "  </thead>\n",
       "  <tbody>\n",
       "    <tr>\n",
       "      <th>0</th>\n",
       "      <td>2019-01-01</td>\n",
       "      <td>2019-01-01</td>\n",
       "      <td>1156.0</td>\n",
       "      <td>2019-01-01</td>\n",
       "      <td>11</td>\n",
       "    </tr>\n",
       "    <tr>\n",
       "      <th>1</th>\n",
       "      <td>2019-01-02</td>\n",
       "      <td>2019-01-02</td>\n",
       "      <td>17.0</td>\n",
       "      <td>2019-01-02</td>\n",
       "      <td>1</td>\n",
       "    </tr>\n",
       "    <tr>\n",
       "      <th>2</th>\n",
       "      <td>2019-01-03</td>\n",
       "      <td>2019-01-03</td>\n",
       "      <td>126.0</td>\n",
       "      <td>2019-01-03</td>\n",
       "      <td>4</td>\n",
       "    </tr>\n",
       "    <tr>\n",
       "      <th>3</th>\n",
       "      <td>2019-01-04</td>\n",
       "      <td>2019-01-04</td>\n",
       "      <td>1016.0</td>\n",
       "      <td>2019-01-04</td>\n",
       "      <td>19</td>\n",
       "    </tr>\n",
       "    <tr>\n",
       "      <th>4</th>\n",
       "      <td>2019-01-06</td>\n",
       "      <td>2019-01-06</td>\n",
       "      <td>40.0</td>\n",
       "      <td>2019-01-06</td>\n",
       "      <td>1</td>\n",
       "    </tr>\n",
       "    <tr>\n",
       "      <th>...</th>\n",
       "      <td>...</td>\n",
       "      <td>...</td>\n",
       "      <td>...</td>\n",
       "      <td>...</td>\n",
       "      <td>...</td>\n",
       "    </tr>\n",
       "    <tr>\n",
       "      <th>96</th>\n",
       "      <td>2019-12-14</td>\n",
       "      <td>2019-12-14</td>\n",
       "      <td>515.0</td>\n",
       "      <td>2019-12-14</td>\n",
       "      <td>9</td>\n",
       "    </tr>\n",
       "    <tr>\n",
       "      <th>97</th>\n",
       "      <td>2019-12-17</td>\n",
       "      <td>2019-12-17</td>\n",
       "      <td>957.0</td>\n",
       "      <td>2019-12-17</td>\n",
       "      <td>20</td>\n",
       "    </tr>\n",
       "    <tr>\n",
       "      <th>98</th>\n",
       "      <td>2019-12-18</td>\n",
       "      <td>2019-12-18</td>\n",
       "      <td>118.0</td>\n",
       "      <td>2019-12-18</td>\n",
       "      <td>3</td>\n",
       "    </tr>\n",
       "    <tr>\n",
       "      <th>99</th>\n",
       "      <td>2019-12-23</td>\n",
       "      <td>2019-12-23</td>\n",
       "      <td>1045.0</td>\n",
       "      <td>2019-12-23</td>\n",
       "      <td>28</td>\n",
       "    </tr>\n",
       "    <tr>\n",
       "      <th>100</th>\n",
       "      <td>2019-12-31</td>\n",
       "      <td>2019-12-31</td>\n",
       "      <td>136.0</td>\n",
       "      <td>2019-12-31</td>\n",
       "      <td>3</td>\n",
       "    </tr>\n",
       "  </tbody>\n",
       "</table>\n",
       "<p>101 rows × 5 columns</p>\n",
       "</div>"
      ],
      "text/plain": [
       "          Data     DATA_x     DUR      index  DATA_y\n",
       "0   2019-01-01 2019-01-01  1156.0 2019-01-01      11\n",
       "1   2019-01-02 2019-01-02    17.0 2019-01-02       1\n",
       "2   2019-01-03 2019-01-03   126.0 2019-01-03       4\n",
       "3   2019-01-04 2019-01-04  1016.0 2019-01-04      19\n",
       "4   2019-01-06 2019-01-06    40.0 2019-01-06       1\n",
       "..         ...        ...     ...        ...     ...\n",
       "96  2019-12-14 2019-12-14   515.0 2019-12-14       9\n",
       "97  2019-12-17 2019-12-17   957.0 2019-12-17      20\n",
       "98  2019-12-18 2019-12-18   118.0 2019-12-18       3\n",
       "99  2019-12-23 2019-12-23  1045.0 2019-12-23      28\n",
       "100 2019-12-31 2019-12-31   136.0 2019-12-31       3\n",
       "\n",
       "[101 rows x 5 columns]"
      ]
     },
     "execution_count": 327,
     "metadata": {},
     "output_type": "execute_result"
    }
   ],
   "source": [
    "merged"
   ]
  },
  {
   "cell_type": "code",
   "execution_count": 328,
   "metadata": {},
   "outputs": [
    {
     "data": {
      "text/html": [
       "<div>\n",
       "<style scoped>\n",
       "    .dataframe tbody tr th:only-of-type {\n",
       "        vertical-align: middle;\n",
       "    }\n",
       "\n",
       "    .dataframe tbody tr th {\n",
       "        vertical-align: top;\n",
       "    }\n",
       "\n",
       "    .dataframe thead th {\n",
       "        text-align: right;\n",
       "    }\n",
       "</style>\n",
       "<table border=\"1\" class=\"dataframe\">\n",
       "  <thead>\n",
       "    <tr style=\"text-align: right;\">\n",
       "      <th></th>\n",
       "      <th>Data</th>\n",
       "      <th>DATA_x</th>\n",
       "      <th>DUR</th>\n",
       "      <th>index</th>\n",
       "      <th>Freq</th>\n",
       "    </tr>\n",
       "  </thead>\n",
       "  <tbody>\n",
       "    <tr>\n",
       "      <th>0</th>\n",
       "      <td>2019-01-01</td>\n",
       "      <td>2019-01-01</td>\n",
       "      <td>1156.0</td>\n",
       "      <td>2019-01-01</td>\n",
       "      <td>11</td>\n",
       "    </tr>\n",
       "    <tr>\n",
       "      <th>1</th>\n",
       "      <td>2019-01-02</td>\n",
       "      <td>2019-01-02</td>\n",
       "      <td>17.0</td>\n",
       "      <td>2019-01-02</td>\n",
       "      <td>1</td>\n",
       "    </tr>\n",
       "    <tr>\n",
       "      <th>2</th>\n",
       "      <td>2019-01-03</td>\n",
       "      <td>2019-01-03</td>\n",
       "      <td>126.0</td>\n",
       "      <td>2019-01-03</td>\n",
       "      <td>4</td>\n",
       "    </tr>\n",
       "    <tr>\n",
       "      <th>3</th>\n",
       "      <td>2019-01-04</td>\n",
       "      <td>2019-01-04</td>\n",
       "      <td>1016.0</td>\n",
       "      <td>2019-01-04</td>\n",
       "      <td>19</td>\n",
       "    </tr>\n",
       "    <tr>\n",
       "      <th>4</th>\n",
       "      <td>2019-01-06</td>\n",
       "      <td>2019-01-06</td>\n",
       "      <td>40.0</td>\n",
       "      <td>2019-01-06</td>\n",
       "      <td>1</td>\n",
       "    </tr>\n",
       "    <tr>\n",
       "      <th>...</th>\n",
       "      <td>...</td>\n",
       "      <td>...</td>\n",
       "      <td>...</td>\n",
       "      <td>...</td>\n",
       "      <td>...</td>\n",
       "    </tr>\n",
       "    <tr>\n",
       "      <th>96</th>\n",
       "      <td>2019-12-14</td>\n",
       "      <td>2019-12-14</td>\n",
       "      <td>515.0</td>\n",
       "      <td>2019-12-14</td>\n",
       "      <td>9</td>\n",
       "    </tr>\n",
       "    <tr>\n",
       "      <th>97</th>\n",
       "      <td>2019-12-17</td>\n",
       "      <td>2019-12-17</td>\n",
       "      <td>957.0</td>\n",
       "      <td>2019-12-17</td>\n",
       "      <td>20</td>\n",
       "    </tr>\n",
       "    <tr>\n",
       "      <th>98</th>\n",
       "      <td>2019-12-18</td>\n",
       "      <td>2019-12-18</td>\n",
       "      <td>118.0</td>\n",
       "      <td>2019-12-18</td>\n",
       "      <td>3</td>\n",
       "    </tr>\n",
       "    <tr>\n",
       "      <th>99</th>\n",
       "      <td>2019-12-23</td>\n",
       "      <td>2019-12-23</td>\n",
       "      <td>1045.0</td>\n",
       "      <td>2019-12-23</td>\n",
       "      <td>28</td>\n",
       "    </tr>\n",
       "    <tr>\n",
       "      <th>100</th>\n",
       "      <td>2019-12-31</td>\n",
       "      <td>2019-12-31</td>\n",
       "      <td>136.0</td>\n",
       "      <td>2019-12-31</td>\n",
       "      <td>3</td>\n",
       "    </tr>\n",
       "  </tbody>\n",
       "</table>\n",
       "<p>101 rows × 5 columns</p>\n",
       "</div>"
      ],
      "text/plain": [
       "          Data     DATA_x     DUR      index  Freq\n",
       "0   2019-01-01 2019-01-01  1156.0 2019-01-01    11\n",
       "1   2019-01-02 2019-01-02    17.0 2019-01-02     1\n",
       "2   2019-01-03 2019-01-03   126.0 2019-01-03     4\n",
       "3   2019-01-04 2019-01-04  1016.0 2019-01-04    19\n",
       "4   2019-01-06 2019-01-06    40.0 2019-01-06     1\n",
       "..         ...        ...     ...        ...   ...\n",
       "96  2019-12-14 2019-12-14   515.0 2019-12-14     9\n",
       "97  2019-12-17 2019-12-17   957.0 2019-12-17    20\n",
       "98  2019-12-18 2019-12-18   118.0 2019-12-18     3\n",
       "99  2019-12-23 2019-12-23  1045.0 2019-12-23    28\n",
       "100 2019-12-31 2019-12-31   136.0 2019-12-31     3\n",
       "\n",
       "[101 rows x 5 columns]"
      ]
     },
     "execution_count": 328,
     "metadata": {},
     "output_type": "execute_result"
    }
   ],
   "source": [
    "merged.drop(columns = ['DATA_x', 'index'])\n",
    "merged.rename(columns = {'DATA_y': 'Freq'})"
   ]
  },
  {
   "cell_type": "code",
   "execution_count": 287,
   "metadata": {},
   "outputs": [
    {
     "data": {
      "application/vnd.plotly.v1+json": {
       "config": {
        "plotlyServerURL": "https://plot.ly"
       },
       "data": [
        {
         "hovertemplate": "DUR=%{x}<br>DATA_y=%{marker.color}<extra></extra>",
         "legendgroup": "",
         "marker": {
          "color": [
           11,
           1,
           4,
           19,
           1,
           10,
           7,
           5,
           1,
           7,
           1,
           23,
           2,
           4,
           2,
           13,
           2,
           22,
           13,
           15,
           2,
           26,
           40,
           43,
           2,
           3,
           18,
           38,
           24,
           47,
           11,
           1,
           4,
           45,
           1,
           8,
           46,
           9,
           2,
           12,
           23,
           12,
           15,
           27,
           62,
           10,
           4,
           12,
           8,
           3,
           4,
           1,
           21,
           6,
           13,
           12,
           2,
           1,
           5,
           2,
           1,
           1,
           1,
           14,
           5,
           1,
           4,
           5,
           2,
           25,
           39,
           25,
           4,
           5,
           1,
           1,
           2,
           5,
           38,
           7,
           1,
           1,
           2,
           7,
           7,
           1,
           4,
           22,
           8,
           1,
           1,
           5,
           15,
           35,
           17,
           1,
           9,
           20,
           3,
           28,
           3
          ],
          "coloraxis": "coloraxis",
          "symbol": "circle"
         },
         "mode": "markers",
         "name": "",
         "orientation": "v",
         "showlegend": false,
         "type": "scatter",
         "x": [
          1156,
          17,
          126,
          1016,
          40,
          750,
          463,
          250,
          0,
          188,
          17,
          1169,
          95,
          298,
          397,
          115,
          160,
          1031,
          1012,
          226,
          25,
          252,
          1358,
          229,
          1034,
          482,
          761,
          31,
          136,
          213,
          388,
          105,
          210,
          523,
          31,
          1190,
          1400,
          489,
          206,
          1252,
          1013,
          829,
          279,
          237,
          284,
          172,
          85,
          967,
          364,
          125,
          812,
          3,
          541,
          825,
          565,
          1023,
          437,
          28,
          584,
          25,
          120,
          13,
          13,
          1113,
          445,
          9,
          158,
          576,
          906,
          209,
          557,
          903,
          1161,
          332,
          6,
          49,
          170,
          822,
          1112,
          478,
          40,
          2,
          283,
          1210,
          189,
          111,
          187,
          671,
          399,
          37,
          171,
          345,
          87,
          740,
          1128,
          21,
          515,
          957,
          118,
          1045,
          136
         ],
         "xaxis": "x",
         "y": [
          11,
          1,
          4,
          19,
          1,
          10,
          7,
          5,
          1,
          7,
          1,
          23,
          2,
          4,
          2,
          13,
          2,
          22,
          13,
          15,
          2,
          26,
          40,
          43,
          2,
          3,
          18,
          38,
          24,
          47,
          11,
          1,
          4,
          45,
          1,
          8,
          46,
          9,
          2,
          12,
          23,
          12,
          15,
          27,
          62,
          10,
          4,
          12,
          8,
          3,
          4,
          1,
          21,
          6,
          13,
          12,
          2,
          1,
          5,
          2,
          1,
          1,
          1,
          14,
          5,
          1,
          4,
          5,
          2,
          25,
          39,
          25,
          4,
          5,
          1,
          1,
          2,
          5,
          38,
          7,
          1,
          1,
          2,
          7,
          7,
          1,
          4,
          22,
          8,
          1,
          1,
          5,
          15,
          35,
          17,
          1,
          9,
          20,
          3,
          28,
          3
         ],
         "yaxis": "y"
        }
       ],
       "layout": {
        "coloraxis": {
         "colorbar": {
          "title": {
           "text": "DATA_y"
          }
         },
         "colorscale": [
          [
           0,
           "rgb(255,245,240)"
          ],
          [
           0.125,
           "rgb(254,224,210)"
          ],
          [
           0.25,
           "rgb(252,187,161)"
          ],
          [
           0.375,
           "rgb(252,146,114)"
          ],
          [
           0.5,
           "rgb(251,106,74)"
          ],
          [
           0.625,
           "rgb(239,59,44)"
          ],
          [
           0.75,
           "rgb(203,24,29)"
          ],
          [
           0.875,
           "rgb(165,15,21)"
          ],
          [
           1,
           "rgb(103,0,13)"
          ]
         ]
        },
        "legend": {
         "tracegroupgap": 0
        },
        "margin": {
         "t": 60
        },
        "template": {
         "data": {
          "bar": [
           {
            "error_x": {
             "color": "#2a3f5f"
            },
            "error_y": {
             "color": "#2a3f5f"
            },
            "marker": {
             "line": {
              "color": "#E5ECF6",
              "width": 0.5
             },
             "pattern": {
              "fillmode": "overlay",
              "size": 10,
              "solidity": 0.2
             }
            },
            "type": "bar"
           }
          ],
          "barpolar": [
           {
            "marker": {
             "line": {
              "color": "#E5ECF6",
              "width": 0.5
             },
             "pattern": {
              "fillmode": "overlay",
              "size": 10,
              "solidity": 0.2
             }
            },
            "type": "barpolar"
           }
          ],
          "carpet": [
           {
            "aaxis": {
             "endlinecolor": "#2a3f5f",
             "gridcolor": "white",
             "linecolor": "white",
             "minorgridcolor": "white",
             "startlinecolor": "#2a3f5f"
            },
            "baxis": {
             "endlinecolor": "#2a3f5f",
             "gridcolor": "white",
             "linecolor": "white",
             "minorgridcolor": "white",
             "startlinecolor": "#2a3f5f"
            },
            "type": "carpet"
           }
          ],
          "choropleth": [
           {
            "colorbar": {
             "outlinewidth": 0,
             "ticks": ""
            },
            "type": "choropleth"
           }
          ],
          "contour": [
           {
            "colorbar": {
             "outlinewidth": 0,
             "ticks": ""
            },
            "colorscale": [
             [
              0,
              "#0d0887"
             ],
             [
              0.1111111111111111,
              "#46039f"
             ],
             [
              0.2222222222222222,
              "#7201a8"
             ],
             [
              0.3333333333333333,
              "#9c179e"
             ],
             [
              0.4444444444444444,
              "#bd3786"
             ],
             [
              0.5555555555555556,
              "#d8576b"
             ],
             [
              0.6666666666666666,
              "#ed7953"
             ],
             [
              0.7777777777777778,
              "#fb9f3a"
             ],
             [
              0.8888888888888888,
              "#fdca26"
             ],
             [
              1,
              "#f0f921"
             ]
            ],
            "type": "contour"
           }
          ],
          "contourcarpet": [
           {
            "colorbar": {
             "outlinewidth": 0,
             "ticks": ""
            },
            "type": "contourcarpet"
           }
          ],
          "heatmap": [
           {
            "colorbar": {
             "outlinewidth": 0,
             "ticks": ""
            },
            "colorscale": [
             [
              0,
              "#0d0887"
             ],
             [
              0.1111111111111111,
              "#46039f"
             ],
             [
              0.2222222222222222,
              "#7201a8"
             ],
             [
              0.3333333333333333,
              "#9c179e"
             ],
             [
              0.4444444444444444,
              "#bd3786"
             ],
             [
              0.5555555555555556,
              "#d8576b"
             ],
             [
              0.6666666666666666,
              "#ed7953"
             ],
             [
              0.7777777777777778,
              "#fb9f3a"
             ],
             [
              0.8888888888888888,
              "#fdca26"
             ],
             [
              1,
              "#f0f921"
             ]
            ],
            "type": "heatmap"
           }
          ],
          "heatmapgl": [
           {
            "colorbar": {
             "outlinewidth": 0,
             "ticks": ""
            },
            "colorscale": [
             [
              0,
              "#0d0887"
             ],
             [
              0.1111111111111111,
              "#46039f"
             ],
             [
              0.2222222222222222,
              "#7201a8"
             ],
             [
              0.3333333333333333,
              "#9c179e"
             ],
             [
              0.4444444444444444,
              "#bd3786"
             ],
             [
              0.5555555555555556,
              "#d8576b"
             ],
             [
              0.6666666666666666,
              "#ed7953"
             ],
             [
              0.7777777777777778,
              "#fb9f3a"
             ],
             [
              0.8888888888888888,
              "#fdca26"
             ],
             [
              1,
              "#f0f921"
             ]
            ],
            "type": "heatmapgl"
           }
          ],
          "histogram": [
           {
            "marker": {
             "pattern": {
              "fillmode": "overlay",
              "size": 10,
              "solidity": 0.2
             }
            },
            "type": "histogram"
           }
          ],
          "histogram2d": [
           {
            "colorbar": {
             "outlinewidth": 0,
             "ticks": ""
            },
            "colorscale": [
             [
              0,
              "#0d0887"
             ],
             [
              0.1111111111111111,
              "#46039f"
             ],
             [
              0.2222222222222222,
              "#7201a8"
             ],
             [
              0.3333333333333333,
              "#9c179e"
             ],
             [
              0.4444444444444444,
              "#bd3786"
             ],
             [
              0.5555555555555556,
              "#d8576b"
             ],
             [
              0.6666666666666666,
              "#ed7953"
             ],
             [
              0.7777777777777778,
              "#fb9f3a"
             ],
             [
              0.8888888888888888,
              "#fdca26"
             ],
             [
              1,
              "#f0f921"
             ]
            ],
            "type": "histogram2d"
           }
          ],
          "histogram2dcontour": [
           {
            "colorbar": {
             "outlinewidth": 0,
             "ticks": ""
            },
            "colorscale": [
             [
              0,
              "#0d0887"
             ],
             [
              0.1111111111111111,
              "#46039f"
             ],
             [
              0.2222222222222222,
              "#7201a8"
             ],
             [
              0.3333333333333333,
              "#9c179e"
             ],
             [
              0.4444444444444444,
              "#bd3786"
             ],
             [
              0.5555555555555556,
              "#d8576b"
             ],
             [
              0.6666666666666666,
              "#ed7953"
             ],
             [
              0.7777777777777778,
              "#fb9f3a"
             ],
             [
              0.8888888888888888,
              "#fdca26"
             ],
             [
              1,
              "#f0f921"
             ]
            ],
            "type": "histogram2dcontour"
           }
          ],
          "mesh3d": [
           {
            "colorbar": {
             "outlinewidth": 0,
             "ticks": ""
            },
            "type": "mesh3d"
           }
          ],
          "parcoords": [
           {
            "line": {
             "colorbar": {
              "outlinewidth": 0,
              "ticks": ""
             }
            },
            "type": "parcoords"
           }
          ],
          "pie": [
           {
            "automargin": true,
            "type": "pie"
           }
          ],
          "scatter": [
           {
            "fillpattern": {
             "fillmode": "overlay",
             "size": 10,
             "solidity": 0.2
            },
            "type": "scatter"
           }
          ],
          "scatter3d": [
           {
            "line": {
             "colorbar": {
              "outlinewidth": 0,
              "ticks": ""
             }
            },
            "marker": {
             "colorbar": {
              "outlinewidth": 0,
              "ticks": ""
             }
            },
            "type": "scatter3d"
           }
          ],
          "scattercarpet": [
           {
            "marker": {
             "colorbar": {
              "outlinewidth": 0,
              "ticks": ""
             }
            },
            "type": "scattercarpet"
           }
          ],
          "scattergeo": [
           {
            "marker": {
             "colorbar": {
              "outlinewidth": 0,
              "ticks": ""
             }
            },
            "type": "scattergeo"
           }
          ],
          "scattergl": [
           {
            "marker": {
             "colorbar": {
              "outlinewidth": 0,
              "ticks": ""
             }
            },
            "type": "scattergl"
           }
          ],
          "scattermapbox": [
           {
            "marker": {
             "colorbar": {
              "outlinewidth": 0,
              "ticks": ""
             }
            },
            "type": "scattermapbox"
           }
          ],
          "scatterpolar": [
           {
            "marker": {
             "colorbar": {
              "outlinewidth": 0,
              "ticks": ""
             }
            },
            "type": "scatterpolar"
           }
          ],
          "scatterpolargl": [
           {
            "marker": {
             "colorbar": {
              "outlinewidth": 0,
              "ticks": ""
             }
            },
            "type": "scatterpolargl"
           }
          ],
          "scatterternary": [
           {
            "marker": {
             "colorbar": {
              "outlinewidth": 0,
              "ticks": ""
             }
            },
            "type": "scatterternary"
           }
          ],
          "surface": [
           {
            "colorbar": {
             "outlinewidth": 0,
             "ticks": ""
            },
            "colorscale": [
             [
              0,
              "#0d0887"
             ],
             [
              0.1111111111111111,
              "#46039f"
             ],
             [
              0.2222222222222222,
              "#7201a8"
             ],
             [
              0.3333333333333333,
              "#9c179e"
             ],
             [
              0.4444444444444444,
              "#bd3786"
             ],
             [
              0.5555555555555556,
              "#d8576b"
             ],
             [
              0.6666666666666666,
              "#ed7953"
             ],
             [
              0.7777777777777778,
              "#fb9f3a"
             ],
             [
              0.8888888888888888,
              "#fdca26"
             ],
             [
              1,
              "#f0f921"
             ]
            ],
            "type": "surface"
           }
          ],
          "table": [
           {
            "cells": {
             "fill": {
              "color": "#EBF0F8"
             },
             "line": {
              "color": "white"
             }
            },
            "header": {
             "fill": {
              "color": "#C8D4E3"
             },
             "line": {
              "color": "white"
             }
            },
            "type": "table"
           }
          ]
         },
         "layout": {
          "annotationdefaults": {
           "arrowcolor": "#2a3f5f",
           "arrowhead": 0,
           "arrowwidth": 1
          },
          "autotypenumbers": "strict",
          "coloraxis": {
           "colorbar": {
            "outlinewidth": 0,
            "ticks": ""
           }
          },
          "colorscale": {
           "diverging": [
            [
             0,
             "#8e0152"
            ],
            [
             0.1,
             "#c51b7d"
            ],
            [
             0.2,
             "#de77ae"
            ],
            [
             0.3,
             "#f1b6da"
            ],
            [
             0.4,
             "#fde0ef"
            ],
            [
             0.5,
             "#f7f7f7"
            ],
            [
             0.6,
             "#e6f5d0"
            ],
            [
             0.7,
             "#b8e186"
            ],
            [
             0.8,
             "#7fbc41"
            ],
            [
             0.9,
             "#4d9221"
            ],
            [
             1,
             "#276419"
            ]
           ],
           "sequential": [
            [
             0,
             "#0d0887"
            ],
            [
             0.1111111111111111,
             "#46039f"
            ],
            [
             0.2222222222222222,
             "#7201a8"
            ],
            [
             0.3333333333333333,
             "#9c179e"
            ],
            [
             0.4444444444444444,
             "#bd3786"
            ],
            [
             0.5555555555555556,
             "#d8576b"
            ],
            [
             0.6666666666666666,
             "#ed7953"
            ],
            [
             0.7777777777777778,
             "#fb9f3a"
            ],
            [
             0.8888888888888888,
             "#fdca26"
            ],
            [
             1,
             "#f0f921"
            ]
           ],
           "sequentialminus": [
            [
             0,
             "#0d0887"
            ],
            [
             0.1111111111111111,
             "#46039f"
            ],
            [
             0.2222222222222222,
             "#7201a8"
            ],
            [
             0.3333333333333333,
             "#9c179e"
            ],
            [
             0.4444444444444444,
             "#bd3786"
            ],
            [
             0.5555555555555556,
             "#d8576b"
            ],
            [
             0.6666666666666666,
             "#ed7953"
            ],
            [
             0.7777777777777778,
             "#fb9f3a"
            ],
            [
             0.8888888888888888,
             "#fdca26"
            ],
            [
             1,
             "#f0f921"
            ]
           ]
          },
          "colorway": [
           "#636efa",
           "#EF553B",
           "#00cc96",
           "#ab63fa",
           "#FFA15A",
           "#19d3f3",
           "#FF6692",
           "#B6E880",
           "#FF97FF",
           "#FECB52"
          ],
          "font": {
           "color": "#2a3f5f"
          },
          "geo": {
           "bgcolor": "white",
           "lakecolor": "white",
           "landcolor": "#E5ECF6",
           "showlakes": true,
           "showland": true,
           "subunitcolor": "white"
          },
          "hoverlabel": {
           "align": "left"
          },
          "hovermode": "closest",
          "mapbox": {
           "style": "light"
          },
          "paper_bgcolor": "white",
          "plot_bgcolor": "#E5ECF6",
          "polar": {
           "angularaxis": {
            "gridcolor": "white",
            "linecolor": "white",
            "ticks": ""
           },
           "bgcolor": "#E5ECF6",
           "radialaxis": {
            "gridcolor": "white",
            "linecolor": "white",
            "ticks": ""
           }
          },
          "scene": {
           "xaxis": {
            "backgroundcolor": "#E5ECF6",
            "gridcolor": "white",
            "gridwidth": 2,
            "linecolor": "white",
            "showbackground": true,
            "ticks": "",
            "zerolinecolor": "white"
           },
           "yaxis": {
            "backgroundcolor": "#E5ECF6",
            "gridcolor": "white",
            "gridwidth": 2,
            "linecolor": "white",
            "showbackground": true,
            "ticks": "",
            "zerolinecolor": "white"
           },
           "zaxis": {
            "backgroundcolor": "#E5ECF6",
            "gridcolor": "white",
            "gridwidth": 2,
            "linecolor": "white",
            "showbackground": true,
            "ticks": "",
            "zerolinecolor": "white"
           }
          },
          "shapedefaults": {
           "line": {
            "color": "#2a3f5f"
           }
          },
          "ternary": {
           "aaxis": {
            "gridcolor": "white",
            "linecolor": "white",
            "ticks": ""
           },
           "baxis": {
            "gridcolor": "white",
            "linecolor": "white",
            "ticks": ""
           },
           "bgcolor": "#E5ECF6",
           "caxis": {
            "gridcolor": "white",
            "linecolor": "white",
            "ticks": ""
           }
          },
          "title": {
           "x": 0.05
          },
          "xaxis": {
           "automargin": true,
           "gridcolor": "white",
           "linecolor": "white",
           "ticks": "",
           "title": {
            "standoff": 15
           },
           "zerolinecolor": "white",
           "zerolinewidth": 2
          },
          "yaxis": {
           "automargin": true,
           "gridcolor": "white",
           "linecolor": "white",
           "ticks": "",
           "title": {
            "standoff": 15
           },
           "zerolinecolor": "white",
           "zerolinewidth": 2
          }
         }
        },
        "xaxis": {
         "anchor": "y",
         "domain": [
          0,
          1
         ],
         "title": {
          "text": "DUR"
         }
        },
        "yaxis": {
         "anchor": "x",
         "domain": [
          0,
          1
         ],
         "title": {
          "text": "DATA_y"
         }
        }
       }
      }
     },
     "metadata": {},
     "output_type": "display_data"
    }
   ],
   "source": [
    "fig = px.scatter(\n",
    "    merged,\n",
    "    x = merged.DUR,\n",
    "    y=merged.DATA_y,\n",
    "    color=merged.DATA_y,\n",
    "    color_continuous_scale=\"reds\",\n",
    ")\n",
    "fig.show()"
   ]
  }
 ],
 "metadata": {
  "kernelspec": {
   "display_name": "Python 3",
   "language": "python",
   "name": "python3"
  },
  "language_info": {
   "codemirror_mode": {
    "name": "ipython",
    "version": 3
   },
   "file_extension": ".py",
   "mimetype": "text/x-python",
   "name": "python",
   "nbconvert_exporter": "python",
   "pygments_lexer": "ipython3",
   "version": "3.10.5"
  }
 },
 "nbformat": 4,
 "nbformat_minor": 2
}
